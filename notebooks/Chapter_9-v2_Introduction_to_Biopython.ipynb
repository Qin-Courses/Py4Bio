{
  "nbformat": 4,
  "nbformat_minor": 0,
  "metadata": {
    "kernelspec": {
      "display_name": "Python 3",
      "language": "python",
      "name": "python3"
    },
    "language_info": {
      "codemirror_mode": {
        "name": "ipython",
        "version": 3
      },
      "file_extension": ".py",
      "mimetype": "text/x-python",
      "name": "python",
      "nbconvert_exporter": "python",
      "pygments_lexer": "ipython3",
      "version": "3.5.1"
    },
    "colab": {
      "name": "Chapter 9 - Introduction to Biopython.ipynb",
      "provenance": [],
      "toc_visible": true
    }
  },
  "cells": [
    {
      "cell_type": "markdown",
      "metadata": {
        "id": "t8str7sJqp2a"
      },
      "source": [
        "Python for Bioinformatics\n",
        "-----------------------------\n",
        "\n",
        "![title](https://s3.amazonaws.com/py4bio/tapabiosmall.png)\n",
        "\n",
        "This Jupyter notebook is intented to be used alongside the book [Python for Bioinformatics](http://py3.us/)\n",
        "\n"
      ]
    },
    {
      "cell_type": "markdown",
      "metadata": {
        "id": "NLmiOAnBqp2c"
      },
      "source": [
        "**Note:** Before opening the file, this file should be accesible from this Jupyter notebook. In order to do so, the following commands will download these files from Github and extract them into a directory called samples."
      ]
    },
    {
      "cell_type": "code",
      "metadata": {
        "id": "JMdqF26kqp2d",
        "colab": {
          "base_uri": "https://localhost:8080/"
        },
        "outputId": "775bc66a-a4d4-423b-a8de-3d82a5c07358"
      },
      "source": [
        "!curl https://raw.githubusercontent.com/Serulab/Py4Bio/master/samples/samples.tar.bz2 -o samples.tar.bz2\n",
        "!mkdir samples\n",
        "!tar xvfj samples.tar.bz2 -C samples"
      ],
      "execution_count": 6,
      "outputs": [
        {
          "output_type": "stream",
          "name": "stdout",
          "text": [
            "  % Total    % Received % Xferd  Average Speed   Time    Time     Time  Current\n",
            "                                 Dload  Upload   Total   Spent    Left  Speed\n",
            "\r  0     0    0     0    0     0      0      0 --:--:-- --:--:-- --:--:--     0\r 14 16.5M   14 2472k    0     0  63.5M      0 --:--:-- --:--:-- --:--:-- 61.9M\r100 16.5M  100 16.5M    0     0   237M      0 --:--:-- --:--:-- --:--:--  233M\n",
            "mkdir: cannot create directory ‘samples’: File exists\n",
            "._.\n",
            "./\n",
            "./vectorssmall.fasta\n",
            "./prot.fas\n",
            "./conglycinin.phy\n",
            "./input4align.dnd\n",
            "./Q5R5X8.fas\n",
            "./Q9JJE1.xml\n",
            "./primers.txt\n",
            "./NC_006581.gb\n",
            "./PythonU.db\n",
            "./hsc1.fasta\n",
            "./B1.csv\n",
            "./sampleXblast.xml\n",
            "./sampledata.xlsx\n",
            "./NC2033.txt\n",
            "./conglycinin.dnd\n",
            "./BLAST_output.xml\n",
            "./UniVec_Core.nhr\n",
            "./seqA.fas\n",
            "./fishdata.csv\n",
            "./template\n",
            "./pdbaa\n",
            "./bioinfo/\n",
            "./fishbacteria.csv\n",
            "./B1IXL9.txt\n",
            "./._GSM188012.CEL\n",
            "./GSM188012.CEL\n",
            "./example.aln\n",
            "./data.csv\n",
            "./3seqs.fas\n",
            "./BcrA.gp\n",
            "./uniprotrecord.xml\n",
            "./contig1.ace\n",
            "./other.xml\n",
            "./UniVec_Core.nsq\n",
            "./test3.csv\n",
            "./conglycinin.multiple.phy\n",
            "./fasta22.fas\n",
            "./pMOSBlue.txt\n",
            "./readme.txt\n",
            "./sampleX.fas\n",
            "./UniVec_Core.nin\n",
            "./pdb1apk.ent.gz\n",
            "./cas9align.fasta\n",
            "./a19.gp\n",
            "./phd1\n",
            "./t3beta.fasta\n",
            "./conglycinin.fasta\n",
            "./UniVec_Core\n",
            "./BLAST_output.html\n",
            "./spfile.txt\n",
            "./input4align.fasta\n",
            "./t3.fasta\n",
            "./TAIR7_Transcripts_by_map_position.gz\n",
            "./bioinfo/seqs/\n",
            "./bioinfo/seqs/513710.fasta\n",
            "./bioinfo/seqs/6598312.fasta\n",
            "./bioinfo/seqs/4586830.fasta\n",
            "./bioinfo/seqs/15721870.fasta\n",
            "./bioinfo/seqs/2623545.fasta\n",
            "./bioinfo/seqs/218744616.fasta\n",
            "./bioinfo/seqs/7415878.fasta\n",
            "./bioinfo/seqs/63108399.fasta\n",
            "./bioinfo/seqs/513717.fasta\n",
            "./bioinfo/seqs/7638455.fasta\n",
            "./bioinfo/seqs/513719.fasta\n",
            "./bioinfo/seqs/513419.fasta\n",
            "./bioinfo/seqs/513718.fasta\n"
          ]
        }
      ]
    },
    {
      "cell_type": "markdown",
      "metadata": {
        "id": "gyD30yHHqp2h"
      },
      "source": [
        "Chapter 9: Introduction to Biopython\n",
        "-----------------------------"
      ]
    },
    {
      "cell_type": "code",
      "metadata": {
        "id": "HuchAY5cqp2i",
        "outputId": "399ad00f-b807-4cd8-d1e0-dd20865a451f",
        "colab": {
          "base_uri": "https://localhost:8080/",
          "height": 35
        }
      },
      "source": [
        "import platform\n",
        "platform.platform()"
      ],
      "execution_count": 7,
      "outputs": [
        {
          "output_type": "execute_result",
          "data": {
            "text/plain": [
              "'Linux-5.10.133+-x86_64-with-Ubuntu-18.04-bionic'"
            ],
            "application/vnd.google.colaboratory.intrinsic+json": {
              "type": "string"
            }
          },
          "metadata": {},
          "execution_count": 7
        }
      ]
    },
    {
      "cell_type": "code",
      "metadata": {
        "scrolled": false,
        "id": "DD4sFUCpqp2m",
        "outputId": "1f110301-b949-4565-92c4-ab5abc24dc69",
        "colab": {
          "base_uri": "https://localhost:8080/"
        }
      },
      "source": [
        "!pip install biopython"
      ],
      "execution_count": 8,
      "outputs": [
        {
          "output_type": "stream",
          "name": "stdout",
          "text": [
            "Looking in indexes: https://pypi.org/simple, https://us-python.pkg.dev/colab-wheels/public/simple/\n",
            "Requirement already satisfied: biopython in /usr/local/lib/python3.7/dist-packages (1.79)\n",
            "Requirement already satisfied: numpy in /usr/local/lib/python3.7/dist-packages (from biopython) (1.21.6)\n"
          ]
        }
      ]
    },
    {
      "cell_type": "markdown",
      "metadata": {
        "id": "BsZaaRvXqp2q"
      },
      "source": [
        "Test Installation\n",
        "-----------------"
      ]
    },
    {
      "cell_type": "code",
      "metadata": {
        "scrolled": true,
        "id": "nPGSHve9qp2r",
        "outputId": "2b64cde5-757a-49b4-c8e9-24101e58e26f",
        "colab": {
          "base_uri": "https://localhost:8080/",
          "height": 35
        }
      },
      "source": [
        "import Bio\n",
        "Bio.__version__"
      ],
      "execution_count": 9,
      "outputs": [
        {
          "output_type": "execute_result",
          "data": {
            "text/plain": [
              "'1.79'"
            ],
            "application/vnd.google.colaboratory.intrinsic+json": {
              "type": "string"
            }
          },
          "metadata": {},
          "execution_count": 9
        }
      ]
    },
    {
      "cell_type": "code",
      "source": [
        "import Bio.Data.CodonTable\n",
        "print(Bio.Data.CodonTable.standard_dna_table)"
      ],
      "metadata": {
        "id": "iK_AbqPE55BD",
        "outputId": "fcb29662-3c39-4c11-f6ce-87577cf519e4",
        "colab": {
          "base_uri": "https://localhost:8080/"
        }
      },
      "execution_count": 16,
      "outputs": [
        {
          "output_type": "stream",
          "name": "stdout",
          "text": [
            "Table 1 Standard, SGC0\n",
            "\n",
            "  |  T      |  C      |  A      |  G      |\n",
            "--+---------+---------+---------+---------+--\n",
            "T | TTT F   | TCT S   | TAT Y   | TGT C   | T\n",
            "T | TTC F   | TCC S   | TAC Y   | TGC C   | C\n",
            "T | TTA L   | TCA S   | TAA Stop| TGA Stop| A\n",
            "T | TTG L(s)| TCG S   | TAG Stop| TGG W   | G\n",
            "--+---------+---------+---------+---------+--\n",
            "C | CTT L   | CCT P   | CAT H   | CGT R   | T\n",
            "C | CTC L   | CCC P   | CAC H   | CGC R   | C\n",
            "C | CTA L   | CCA P   | CAA Q   | CGA R   | A\n",
            "C | CTG L(s)| CCG P   | CAG Q   | CGG R   | G\n",
            "--+---------+---------+---------+---------+--\n",
            "A | ATT I   | ACT T   | AAT N   | AGT S   | T\n",
            "A | ATC I   | ACC T   | AAC N   | AGC S   | C\n",
            "A | ATA I   | ACA T   | AAA K   | AGA R   | A\n",
            "A | ATG M(s)| ACG T   | AAG K   | AGG R   | G\n",
            "--+---------+---------+---------+---------+--\n",
            "G | GTT V   | GCT A   | GAT D   | GGT G   | T\n",
            "G | GTC V   | GCC A   | GAC D   | GGC G   | C\n",
            "G | GTA V   | GCA A   | GAA E   | GGA G   | A\n",
            "G | GTG V   | GCG A   | GAG E   | GGG G   | G\n",
            "--+---------+---------+---------+---------+--\n"
          ]
        }
      ]
    },
    {
      "cell_type": "code",
      "metadata": {
        "id": "yWedFQFtqp3A",
        "outputId": "64945ec4-b07a-4355-c98a-9f45cbcaa53a",
        "colab": {
          "base_uri": "https://localhost:8080/"
        }
      },
      "source": [
        "from Bio.Seq import Seq\n",
        "seq = Seq('CCGGGTT')\n",
        "seq.transcribe()"
      ],
      "execution_count": 14,
      "outputs": [
        {
          "output_type": "execute_result",
          "data": {
            "text/plain": [
              "Seq('CCGGGUU')"
            ]
          },
          "metadata": {},
          "execution_count": 14
        }
      ]
    },
    {
      "cell_type": "code",
      "metadata": {
        "id": "K1h1vsdIqp3E",
        "outputId": "ed641c02-0c39-4cc1-82ac-54f815b19ffc",
        "colab": {
          "base_uri": "https://localhost:8080/"
        }
      },
      "source": [
        "seq.translate()"
      ],
      "execution_count": 15,
      "outputs": [
        {
          "output_type": "stream",
          "name": "stderr",
          "text": [
            "/usr/local/lib/python3.7/dist-packages/Bio/Seq.py:2983: BiopythonWarning: Partial codon, len(sequence) not a multiple of three. Explicitly trim the sequence or add trailing N before translation. This may become an error in future.\n",
            "  BiopythonWarning,\n"
          ]
        },
        {
          "output_type": "execute_result",
          "data": {
            "text/plain": [
              "Seq('PG')"
            ]
          },
          "metadata": {},
          "execution_count": 15
        }
      ]
    },
    {
      "cell_type": "code",
      "metadata": {
        "scrolled": true,
        "id": "vrJii2qrqp3J",
        "outputId": "2624f578-3878-43fa-f562-f65cfd137be5",
        "colab": {
          "base_uri": "https://localhost:8080/"
        }
      },
      "source": [
        "rna_seq = Seq('CCGGGUU')\n",
        "rna_seq.transcribe()"
      ],
      "execution_count": 17,
      "outputs": [
        {
          "output_type": "execute_result",
          "data": {
            "text/plain": [
              "Seq('CCGGGUU')"
            ]
          },
          "metadata": {},
          "execution_count": 17
        }
      ]
    },
    {
      "cell_type": "code",
      "metadata": {
        "scrolled": true,
        "id": "rViJB0Qnqp3L",
        "outputId": "a30fe66e-4997-4cc1-e439-81432771201f",
        "colab": {
          "base_uri": "https://localhost:8080/"
        }
      },
      "source": [
        "rna_seq.translate()"
      ],
      "execution_count": 18,
      "outputs": [
        {
          "output_type": "execute_result",
          "data": {
            "text/plain": [
              "Seq('PG')"
            ]
          },
          "metadata": {},
          "execution_count": 18
        }
      ]
    },
    {
      "cell_type": "code",
      "metadata": {
        "id": "IcPBGRjpqp3N",
        "outputId": "74fd7743-e77a-4f36-cade-07ae203dd469",
        "colab": {
          "base_uri": "https://localhost:8080/"
        }
      },
      "source": [
        "rna_seq.back_transcribe()"
      ],
      "execution_count": 19,
      "outputs": [
        {
          "output_type": "execute_result",
          "data": {
            "text/plain": [
              "Seq('CCGGGTT')"
            ]
          },
          "metadata": {},
          "execution_count": 19
        }
      ]
    },
    {
      "cell_type": "markdown",
      "metadata": {
        "id": "jGniDt6nqp3P"
      },
      "source": [
        "Tip: The Transcribe Function in Biopython\n",
        "-----------------------------------------"
      ]
    },
    {
      "cell_type": "code",
      "metadata": {
        "scrolled": true,
        "id": "-zHdjKaiqp3Q",
        "outputId": "efa0d428-7903-4b23-a86e-10728790004e",
        "colab": {
          "base_uri": "https://localhost:8080/",
          "height": 35
        }
      },
      "source": [
        "from Bio.Seq import translate, transcribe, back_transcribe\n",
        "dnaseq = 'ATGGTATAA'\n",
        "translate(dnaseq)\n"
      ],
      "execution_count": 24,
      "outputs": [
        {
          "output_type": "execute_result",
          "data": {
            "text/plain": [
              "'MV*'"
            ],
            "application/vnd.google.colaboratory.intrinsic+json": {
              "type": "string"
            }
          },
          "metadata": {},
          "execution_count": 24
        }
      ]
    },
    {
      "cell_type": "code",
      "metadata": {
        "id": "xsf3UAAsqp3T",
        "outputId": "446df6f0-9b38-4f9b-cd6a-5a71eea2f342",
        "colab": {
          "base_uri": "https://localhost:8080/",
          "height": 35
        }
      },
      "source": [
        "transcribe(dnaseq)"
      ],
      "execution_count": 25,
      "outputs": [
        {
          "output_type": "execute_result",
          "data": {
            "text/plain": [
              "'AUGGUAUAA'"
            ],
            "application/vnd.google.colaboratory.intrinsic+json": {
              "type": "string"
            }
          },
          "metadata": {},
          "execution_count": 25
        }
      ]
    },
    {
      "cell_type": "code",
      "metadata": {
        "id": "UFCEhVwWqp3V",
        "outputId": "da7d33ec-8301-4a68-8db9-70ba4b62b6f3",
        "colab": {
          "base_uri": "https://localhost:8080/",
          "height": 35
        }
      },
      "source": [
        "rnaseq = transcribe(dnaseq)\n",
        "translate(rnaseq)"
      ],
      "execution_count": 26,
      "outputs": [
        {
          "output_type": "execute_result",
          "data": {
            "text/plain": [
              "'MV*'"
            ],
            "application/vnd.google.colaboratory.intrinsic+json": {
              "type": "string"
            }
          },
          "metadata": {},
          "execution_count": 26
        }
      ]
    },
    {
      "cell_type": "code",
      "metadata": {
        "scrolled": true,
        "id": "qjHM3UGqqp3X",
        "outputId": "3e3d4f6c-cf21-4753-e4ce-a912ca332418",
        "colab": {
          "base_uri": "https://localhost:8080/",
          "height": 35
        }
      },
      "source": [
        "back_transcribe(rnaseq)"
      ],
      "execution_count": 27,
      "outputs": [
        {
          "output_type": "execute_result",
          "data": {
            "text/plain": [
              "'ATGGTATAA'"
            ],
            "application/vnd.google.colaboratory.intrinsic+json": {
              "type": "string"
            }
          },
          "metadata": {},
          "execution_count": 27
        }
      ]
    },
    {
      "cell_type": "markdown",
      "metadata": {
        "id": "Fw5H9ZP_qp3Z"
      },
      "source": [
        "Seq Objects as a String\n",
        "-----------------------"
      ]
    },
    {
      "cell_type": "code",
      "metadata": {
        "id": "Wqug345tqp3a",
        "outputId": "a0e04ce1-02a1-44a6-8ddd-22f1154f6245",
        "colab": {
          "base_uri": "https://localhost:8080/"
        }
      },
      "source": [
        "seq = Seq('CCGGGTTAACGTA')\n",
        "seq[:5]"
      ],
      "execution_count": 28,
      "outputs": [
        {
          "output_type": "execute_result",
          "data": {
            "text/plain": [
              "Seq('CCGGG')"
            ]
          },
          "metadata": {},
          "execution_count": 28
        }
      ]
    },
    {
      "cell_type": "code",
      "metadata": {
        "id": "T6GqwdExqp3c",
        "outputId": "e935f391-54bc-42e5-b669-37871493ea57",
        "colab": {
          "base_uri": "https://localhost:8080/"
        }
      },
      "source": [
        "len(seq)"
      ],
      "execution_count": 29,
      "outputs": [
        {
          "output_type": "execute_result",
          "data": {
            "text/plain": [
              "13"
            ]
          },
          "metadata": {},
          "execution_count": 29
        }
      ]
    },
    {
      "cell_type": "code",
      "metadata": {
        "id": "6VjpGoUoqp3e",
        "outputId": "61329c5c-1b92-43f5-d463-8035331a64a0",
        "colab": {
          "base_uri": "https://localhost:8080/"
        }
      },
      "source": [
        "print(seq)"
      ],
      "execution_count": 30,
      "outputs": [
        {
          "output_type": "stream",
          "name": "stdout",
          "text": [
            "CCGGGTTAACGTA\n"
          ]
        }
      ]
    },
    {
      "cell_type": "markdown",
      "metadata": {
        "id": "V-Viq3jzqp3g"
      },
      "source": [
        "MutableSeq\n",
        "----------"
      ]
    },
    {
      "cell_type": "code",
      "metadata": {
        "id": "jBcJeRj1qp3g",
        "outputId": "c45159de-d108-4681-c9a4-fd62637087b3",
        "colab": {
          "base_uri": "https://localhost:8080/",
          "height": 169
        }
      },
      "source": [
        "seq[0] = 'T'"
      ],
      "execution_count": 31,
      "outputs": [
        {
          "output_type": "error",
          "ename": "TypeError",
          "evalue": "ignored",
          "traceback": [
            "\u001b[0;31m---------------------------------------------------------------------------\u001b[0m",
            "\u001b[0;31mTypeError\u001b[0m                                 Traceback (most recent call last)",
            "\u001b[0;32m<ipython-input-31-de580be76c91>\u001b[0m in \u001b[0;36m<module>\u001b[0;34m\u001b[0m\n\u001b[0;32m----> 1\u001b[0;31m \u001b[0mseq\u001b[0m\u001b[0;34m[\u001b[0m\u001b[0;36m0\u001b[0m\u001b[0;34m]\u001b[0m \u001b[0;34m=\u001b[0m \u001b[0;34m'T'\u001b[0m\u001b[0;34m\u001b[0m\u001b[0;34m\u001b[0m\u001b[0m\n\u001b[0m",
            "\u001b[0;31mTypeError\u001b[0m: 'Seq' object does not support item assignment"
          ]
        }
      ]
    },
    {
      "cell_type": "code",
      "metadata": {
        "id": "Jm72hL-Bqp3i",
        "outputId": "fa8588be-466a-419a-8954-4a1589e3a560",
        "colab": {
          "base_uri": "https://localhost:8080/"
        }
      },
      "source": [
        "mut_seq = seq.tomutable()\n",
        "mut_seq"
      ],
      "execution_count": 32,
      "outputs": [
        {
          "output_type": "stream",
          "name": "stderr",
          "text": [
            "/usr/local/lib/python3.7/dist-packages/Bio/Seq.py:1756: BiopythonDeprecationWarning: myseq.tomutable() is deprecated; please use MutableSeq(myseq) instead.\n",
            "  BiopythonDeprecationWarning,\n"
          ]
        },
        {
          "output_type": "execute_result",
          "data": {
            "text/plain": [
              "MutableSeq('CCGGGTTAACGTA')"
            ]
          },
          "metadata": {},
          "execution_count": 32
        }
      ]
    },
    {
      "cell_type": "code",
      "metadata": {
        "id": "RiHzKRAWqp3m",
        "outputId": "eaec7bdd-dd53-495b-f5d4-a8f0d117ec65",
        "colab": {
          "base_uri": "https://localhost:8080/"
        }
      },
      "source": [
        "mut_seq[0] = 'T'\n",
        "mut_seq"
      ],
      "execution_count": 33,
      "outputs": [
        {
          "output_type": "execute_result",
          "data": {
            "text/plain": [
              "MutableSeq('TCGGGTTAACGTA')"
            ]
          },
          "metadata": {},
          "execution_count": 33
        }
      ]
    },
    {
      "cell_type": "code",
      "metadata": {
        "id": "OzWI-Ks9qp3o",
        "outputId": "2e200b10-14c4-49cf-9261-d470a7881c36",
        "colab": {
          "base_uri": "https://localhost:8080/"
        }
      },
      "source": [
        "mut_seq.reverse()\n",
        "mut_seq"
      ],
      "execution_count": 34,
      "outputs": [
        {
          "output_type": "execute_result",
          "data": {
            "text/plain": [
              "MutableSeq('ATGCAATTGGGCT')"
            ]
          },
          "metadata": {},
          "execution_count": 34
        }
      ]
    },
    {
      "cell_type": "code",
      "metadata": {
        "collapsed": true,
        "id": "hrYy4lG2qp3q"
      },
      "source": [
        "mut_seq.complement()"
      ],
      "execution_count": 35,
      "outputs": []
    },
    {
      "cell_type": "code",
      "metadata": {
        "id": "T4nqR9q7qp3t",
        "outputId": "6a4bb555-5d3c-4802-dc47-fc28de52bf62",
        "colab": {
          "base_uri": "https://localhost:8080/"
        }
      },
      "source": [
        "mut_seq"
      ],
      "execution_count": 36,
      "outputs": [
        {
          "output_type": "execute_result",
          "data": {
            "text/plain": [
              "MutableSeq('TACGTTAACCCGA')"
            ]
          },
          "metadata": {},
          "execution_count": 36
        }
      ]
    },
    {
      "cell_type": "code",
      "metadata": {
        "id": "FILzU_7jqp3v",
        "outputId": "50878381-835b-408e-c64c-68e8219341c7",
        "colab": {
          "base_uri": "https://localhost:8080/"
        }
      },
      "source": [
        "mut_seq.reverse_complement()\n",
        "mut_seq"
      ],
      "execution_count": 37,
      "outputs": [
        {
          "output_type": "execute_result",
          "data": {
            "text/plain": [
              "MutableSeq('TCGGGTTAACGTA')"
            ]
          },
          "metadata": {},
          "execution_count": 37
        }
      ]
    },
    {
      "cell_type": "markdown",
      "metadata": {
        "id": "O1nJQzdVqp3y"
      },
      "source": [
        "SeqRecord\n",
        "---------"
      ]
    },
    {
      "cell_type": "code",
      "metadata": {
        "id": "RNKj7egAqp3y",
        "outputId": "300c75df-401a-43cc-cd9a-450f3fa79aca",
        "colab": {
          "base_uri": "https://localhost:8080/"
        }
      },
      "source": [
        "from Bio.SeqRecord import SeqRecord\n",
        "SeqRecord(seq, id='001', name='MHC gene')"
      ],
      "execution_count": 38,
      "outputs": [
        {
          "output_type": "execute_result",
          "data": {
            "text/plain": [
              "SeqRecord(seq=Seq('CCGGGTTAACGTA'), id='001', name='MHC gene', description='<unknown description>', dbxrefs=[])"
            ]
          },
          "metadata": {},
          "execution_count": 38
        }
      ]
    },
    {
      "cell_type": "code",
      "metadata": {
        "id": "9R3Df-IMqp30",
        "outputId": "8296bc8f-bbd5-40d6-d50a-b7d83878636c",
        "colab": {
          "base_uri": "https://localhost:8080/"
        }
      },
      "source": [
        "from Bio.SeqRecord import SeqRecord\n",
        "from Bio.Seq import Seq\n",
        "rec = SeqRecord(Seq('mdstnvrsgmksrkkkpkttvidddddcmtcsacqs'\n",
        "                        'klvkisditkvsldyintmrgntlacaacgsslkll'),\n",
        "                id = 'P20994.1', name = 'P20994',\n",
        "                description = 'Protein A19',\n",
        "                dbxrefs = ['Pfam:PF05077', 'InterPro:IPR007769',\n",
        "                           'DIP:2186N'])\n",
        "rec.annotations['note'] = 'A simple note'\n",
        "print(rec)"
      ],
      "execution_count": 41,
      "outputs": [
        {
          "output_type": "stream",
          "name": "stdout",
          "text": [
            "ID: P20994.1\n",
            "Name: P20994\n",
            "Description: Protein A19\n",
            "Database cross-references: Pfam:PF05077, InterPro:IPR007769, DIP:2186N\n",
            "Number of features: 0\n",
            "/note=A simple note\n",
            "Seq('mdstnvrsgmksrkkkpkttvidddddcmtcsacqsklvkisditkvsldyint...kll')\n"
          ]
        }
      ]
    },
    {
      "cell_type": "markdown",
      "metadata": {
        "id": "SG4-H9Upqp33"
      },
      "source": [
        "Align\n",
        "-----"
      ]
    },
    {
      "cell_type": "markdown",
      "metadata": {
        "id": "PmI2oP3Gqp33"
      },
      "source": [
        "**Listing 9.1:** Using Align module"
      ]
    },
    {
      "cell_type": "code",
      "metadata": {
        "id": "SLZ_u00Nqp34",
        "outputId": "6cf2bc53-20f8-43dd-9f72-2d2ad7cab34e",
        "colab": {
          "base_uri": "https://localhost:8080/"
        }
      },
      "source": [
        "from Bio.Align import MultipleSeqAlignment\n",
        "from Bio.Seq import Seq\n",
        "from Bio.SeqRecord import SeqRecord\n",
        "\n",
        "seq1 = 'MHQAIFIYQIGYPLKSGYIQSIRSPEYDNW'\n",
        "seq2 = 'MH--IFIYQIGYALKSGYIQSIRSPEY-NW'\n",
        "seq_rec_1 = SeqRecord(Seq(seq1), id = 'asp')\n",
        "seq_rec_2 = SeqRecord(Seq(seq2), id = 'unk')\n",
        "align = MultipleSeqAlignment([seq_rec_1, seq_rec_2])\n",
        "print(align)"
      ],
      "execution_count": 43,
      "outputs": [
        {
          "output_type": "stream",
          "name": "stdout",
          "text": [
            "Alignment with 2 rows and 30 columns\n",
            "MHQAIFIYQIGYPLKSGYIQSIRSPEYDNW asp\n",
            "MH--IFIYQIGYALKSGYIQSIRSPEY-NW unk\n"
          ]
        }
      ]
    },
    {
      "cell_type": "code",
      "metadata": {
        "id": "AYZT2O-Uqp38",
        "outputId": "c1cb0fd3-609d-4eba-c4b9-8e43750d1f08",
        "colab": {
          "base_uri": "https://localhost:8080/"
        }
      },
      "source": [
        "seq3 = 'M---IFIYQIGYAAKSGYIQSIRSPEY--W'\n",
        "seq_rec_3 = SeqRecord(Seq(seq3), id = 'cas')\n",
        "align.extend([seq_rec_3])\n",
        "print(align)"
      ],
      "execution_count": 44,
      "outputs": [
        {
          "output_type": "stream",
          "name": "stdout",
          "text": [
            "Alignment with 3 rows and 30 columns\n",
            "MHQAIFIYQIGYPLKSGYIQSIRSPEYDNW asp\n",
            "MH--IFIYQIGYALKSGYIQSIRSPEY-NW unk\n",
            "M---IFIYQIGYAAKSGYIQSIRSPEY--W cas\n"
          ]
        }
      ]
    },
    {
      "cell_type": "code",
      "metadata": {
        "scrolled": true,
        "id": "Bn4kmannqp3_",
        "outputId": "26322fae-6213-4df8-832f-80dfe076602d",
        "colab": {
          "base_uri": "https://localhost:8080/"
        }
      },
      "source": [
        "align[0]"
      ],
      "execution_count": 45,
      "outputs": [
        {
          "output_type": "execute_result",
          "data": {
            "text/plain": [
              "SeqRecord(seq=Seq('MHQAIFIYQIGYPLKSGYIQSIRSPEYDNW'), id='asp', name='<unknown name>', description='<unknown description>', dbxrefs=[])"
            ]
          },
          "metadata": {},
          "execution_count": 45
        }
      ]
    },
    {
      "cell_type": "code",
      "metadata": {
        "id": "De_AlJ-Vqp4B",
        "outputId": "df94cfb8-a52c-48d3-dfc5-0dfd1edb20ae",
        "colab": {
          "base_uri": "https://localhost:8080/"
        }
      },
      "source": [
        "print(align[:2,5:11])"
      ],
      "execution_count": 46,
      "outputs": [
        {
          "output_type": "stream",
          "name": "stdout",
          "text": [
            "Alignment with 2 rows and 6 columns\n",
            "FIYQIG asp\n",
            "FIYQIG unk\n"
          ]
        }
      ]
    },
    {
      "cell_type": "code",
      "metadata": {
        "id": "KxCrCx7Qqp4D",
        "outputId": "f54437e1-774b-45f3-ac4b-87c488cfe503",
        "colab": {
          "base_uri": "https://localhost:8080/"
        }
      },
      "source": [
        "len(align)"
      ],
      "execution_count": 47,
      "outputs": [
        {
          "output_type": "execute_result",
          "data": {
            "text/plain": [
              "3"
            ]
          },
          "metadata": {},
          "execution_count": 47
        }
      ]
    },
    {
      "cell_type": "code",
      "metadata": {
        "id": "oU_vXv7Nqp4F",
        "outputId": "3e55d47e-543b-46b1-8dd6-5f3bcdaf24c4",
        "colab": {
          "base_uri": "https://localhost:8080/"
        }
      },
      "source": [
        "from Bio.SeqUtils.ProtParam import ProteinAnalysis\n",
        "for seq in align:\n",
        "    print(ProteinAnalysis(str(seq.seq)).isoelectric_point())"
      ],
      "execution_count": 48,
      "outputs": [
        {
          "output_type": "stream",
          "name": "stdout",
          "text": [
            "6.504165458679199\n",
            "8.160295295715333\n",
            "8.13856945037842\n"
          ]
        }
      ]
    },
    {
      "cell_type": "markdown",
      "metadata": {
        "id": "m4ISH0ZOqp4H"
      },
      "source": [
        "AlignIO\n",
        "--------"
      ]
    },
    {
      "cell_type": "code",
      "metadata": {
        "scrolled": false,
        "id": "68pwth3-qp4K",
        "outputId": "1d214ac5-6ca7-4cc7-d348-2864e9b3bc76",
        "colab": {
          "base_uri": "https://localhost:8080/"
        }
      },
      "source": [
        "from Bio import AlignIO\n",
        "align = AlignIO.read('samples/cas9align.fasta', 'fasta')\n",
        "print(align)"
      ],
      "execution_count": 49,
      "outputs": [
        {
          "output_type": "stream",
          "name": "stdout",
          "text": [
            "Alignment with 8 rows and 1407 columns\n",
            "MDKKYSIGLDIGTNSVGWAVITDDYKVPSKKFKVLGNTDRHSIK...GGD J7M7J1\n",
            "MDKKYSIGLDIGTNSVGWAVITDDYKVPSKKFKVLGNTDRHSIK...GGD A0A0C6FZC2\n",
            "MDKKYSIGLDIGTNSVGWAVITDDYKVPSKKFKVLGNTDRHSIK...GGD A0A1C2CVQ9\n",
            "MDKKYSIGLDIGTNSVGWAVITDDYKVPSKKFKVLGNTDRHSIK...GGD A0A1C2CV43\n",
            "MDKKYSIGLDIGTNSVGWAVITDDYKVPSKKFKVLGNTDRHSIK...GGD Q48TU5\n",
            "MDKKYSIGLDIGTNSVGWAVITDDYKVPSKKFKVLGNTDRHSIK...GGD M4YX12\n",
            "MKKPYSIGLDIGTNSVGWAVVTDDYKVPAKKMKVLGNTDKSHIK...GGD A0A0E2EP65\n",
            "--------------------------------------------...GED A0A150NVN1\n"
          ]
        }
      ]
    },
    {
      "cell_type": "code",
      "metadata": {
        "id": "lIWBaumLqp4M",
        "outputId": "0b18d302-6a8c-401c-8d25-7ea668d0dd4a",
        "colab": {
          "base_uri": "https://localhost:8080/"
        }
      },
      "source": [
        "from Bio import AlignIO\n",
        "for alignment in AlignIO.parse('samples/example.aln', 'clustal'):\n",
        "    print(len(alignment))"
      ],
      "execution_count": 50,
      "outputs": [
        {
          "output_type": "stream",
          "name": "stdout",
          "text": [
            "6\n"
          ]
        }
      ]
    },
    {
      "cell_type": "code",
      "metadata": {
        "id": "GZ3AG068qp4O",
        "outputId": "33f761a9-7fed-4810-e572-b472a0624404",
        "colab": {
          "base_uri": "https://localhost:8080/"
        }
      },
      "source": [
        "from Bio import AlignIO\n",
        "AlignIO.convert(open('samples/cas9align.fasta'), 'fasta', 'cas9align.aln', 'clustal')"
      ],
      "execution_count": 51,
      "outputs": [
        {
          "output_type": "execute_result",
          "data": {
            "text/plain": [
              "1"
            ]
          },
          "metadata": {},
          "execution_count": 51
        }
      ]
    },
    {
      "cell_type": "markdown",
      "metadata": {
        "id": "M6GTvktLqp4Q"
      },
      "source": [
        "AlignInfo\n",
        "---------"
      ]
    },
    {
      "cell_type": "code",
      "metadata": {
        "id": "HGNSCA_gqp4Q"
      },
      "source": [
        "from Bio import AlignIO\n",
        "from Bio.Align.AlignInfo import SummaryInfo\n",
        "\n",
        "align = AlignIO.read('samples/cas9align.fasta', 'fasta')\n",
        "summary = SummaryInfo(align)\n",
        "#print(summary.information_content())"
      ],
      "execution_count": 54,
      "outputs": []
    },
    {
      "cell_type": "code",
      "metadata": {
        "id": "m51_r8ZOqp4d",
        "outputId": "77e7748c-125c-402c-810a-b763b23c02de",
        "colab": {
          "base_uri": "https://localhost:8080/"
        }
      },
      "source": [
        "from Bio.Align.Applications import ClustalwCommandline\n",
        "clustalw_exe = 'clustalw2'\n",
        "ccli = ClustalwCommandline(clustalw_exe, infile=\"samples/input4align.fasta\", outfile='../../aoutput.aln')\n",
        "print(ccli)\n"
      ],
      "execution_count": 56,
      "outputs": [
        {
          "output_type": "stream",
          "name": "stdout",
          "text": [
            "clustalw2 -infile=samples/input4align.fasta -outfile=../../aoutput.aln\n"
          ]
        }
      ]
    },
    {
      "cell_type": "markdown",
      "metadata": {
        "id": "eqotUPQNqp4x"
      },
      "source": [
        "SeqIO\n",
        "----------\n"
      ]
    },
    {
      "cell_type": "code",
      "metadata": {
        "id": "ffGJiw_dqp4x",
        "outputId": "234fd055-6315-422e-ee2e-896abc576d17",
        "colab": {
          "base_uri": "https://localhost:8080/"
        }
      },
      "source": [
        "from Bio import SeqIO\n",
        "f_in = open('samples/a19.gp')\n",
        "seq = SeqIO.parse(f_in, 'genbank')\n",
        "next(seq)"
      ],
      "execution_count": 58,
      "outputs": [
        {
          "output_type": "execute_result",
          "data": {
            "text/plain": [
              "SeqRecord(seq=Seq('MGHHHHHHHHHHSSGHIDDDDKHMLEMDSTNVRSGMKSRKKKPKTTVIDDDDDC...FAS'), id='AAX78491.1', name='AAX78491', description='unknown [synthetic construct]', dbxrefs=[])"
            ]
          },
          "metadata": {},
          "execution_count": 58
        }
      ]
    },
    {
      "cell_type": "code",
      "metadata": {
        "id": "kNMD2TRMqp4y",
        "outputId": "e1fb71aa-393a-4166-96c5-3497d25d4139",
        "colab": {
          "base_uri": "https://localhost:8080/"
        }
      },
      "source": [
        "f_in = open('samples/a19.gp')\n",
        "SeqIO.read(f_in, 'genbank')"
      ],
      "execution_count": 59,
      "outputs": [
        {
          "output_type": "execute_result",
          "data": {
            "text/plain": [
              "SeqRecord(seq=Seq('MGHHHHHHHHHHSSGHIDDDDKHMLEMDSTNVRSGMKSRKKKPKTTVIDDDDDC...FAS'), id='AAX78491.1', name='AAX78491', description='unknown [synthetic construct]', dbxrefs=[])"
            ]
          },
          "metadata": {},
          "execution_count": 59
        }
      ]
    },
    {
      "cell_type": "markdown",
      "metadata": {
        "id": "vrDkIkMRqp41"
      },
      "source": [
        "**Listing 9.2:** readfasta.py: Read a FASTA file"
      ]
    },
    {
      "cell_type": "code",
      "metadata": {
        "id": "w8zVOYegqp42",
        "outputId": "25d31cf2-aa61-425a-af1d-f64c7c0d28c8",
        "colab": {
          "base_uri": "https://localhost:8080/"
        }
      },
      "source": [
        "from Bio import SeqIO\n",
        "\n",
        "FILE_IN = 'samples/3seqs.fas'\n",
        "\n",
        "with open(FILE_IN) as fh:\n",
        "    for record in SeqIO.parse(fh, 'fasta'):\n",
        "        id_ = record.id\n",
        "        seq = record.seq\n",
        "        print('Name: {0}, size: {1}'.format(id_, len(seq)))"
      ],
      "execution_count": 60,
      "outputs": [
        {
          "output_type": "stream",
          "name": "stdout",
          "text": [
            "Name: Protein-X, size: 38\n",
            "Name: Protein-Y, size: 62\n",
            "Name: Protein-Z, size: 60\n"
          ]
        }
      ]
    },
    {
      "cell_type": "markdown",
      "metadata": {
        "id": "UDU5bIWbqp43"
      },
      "source": [
        "**Listing 9.3:** rwfasta.py: Read a file and write it as a FASTA sequence"
      ]
    },
    {
      "cell_type": "code",
      "metadata": {
        "id": "-KkemlD2qp44"
      },
      "source": [
        "from Bio import SeqIO\n",
        "from Bio.Seq import Seq\n",
        "from Bio.SeqRecord import SeqRecord\n",
        "with open('samples/NC2033.txt') as fh:\n",
        "    with open('NC2033.fasta','w') as f_out:\n",
        "        rawseq = fh.read().replace('\\n','')\n",
        "        record = (SeqRecord(Seq(rawseq),'NC2033.txt','',''),)\n",
        "        SeqIO.write(record, f_out,'fasta')"
      ],
      "execution_count": 63,
      "outputs": []
    },
    {
      "cell_type": "code",
      "metadata": {
        "id": "lmQX8dBdqp47"
      },
      "source": [
        "from Bio import SeqIO\n",
        "fo_handle = open('myseqs.fasta','w')\n",
        "readseq = SeqIO.parse(open('samples/NC_006581.gb'), 'genbank')\n",
        "SeqIO.write(readseq, fo_handle, \"fasta\")\n",
        "fo_handle.close()"
      ],
      "execution_count": 65,
      "outputs": []
    },
    {
      "cell_type": "code",
      "metadata": {
        "id": "qZZLfkJ8qp49",
        "outputId": "86d4abe4-e2b5-47a3-9a84-c81d680c870b",
        "colab": {
          "base_uri": "https://localhost:8080/"
        }
      },
      "source": [
        "from Bio import AlignIO\n",
        "fn = open('samples/example.aln')\n",
        "align = AlignIO.read(fn, 'clustal')\n",
        "print(align)"
      ],
      "execution_count": 67,
      "outputs": [
        {
          "output_type": "stream",
          "name": "stdout",
          "text": [
            "Alignment with 6 rows and 2122 columns\n",
            "----------------------ATAAATAAAATTAGAATAATCA...CGG NM_001336383.1\n",
            "ATTAAAATGCCTGAAAACAAAAATAAATAAAAATAGTATAATCA...--- XM_021028935.1\n",
            "--------------------------------------------...--- BX819879.1\n",
            "--------------------------------------------...--- XM_010511758.2\n",
            "--------------------------------------------...--- NM_001315700.1\n",
            "--------------------------------------------...--- XM_006417978.1\n"
          ]
        }
      ]
    },
    {
      "cell_type": "markdown",
      "metadata": {
        "id": "v8NNXv7Rqp4_"
      },
      "source": [
        "**Listing 9.4:** Alignments"
      ]
    },
    {
      "cell_type": "code",
      "metadata": {
        "id": "bGlKW7e9qp4_"
      },
      "source": [
        "fi = open('samples/example.aln')\n",
        "with open('samples/example.phy', 'w') as fo:\n",
        "    align = AlignIO.read(fi, 'clustal')\n",
        "    AlignIO.write([align], fo, 'phylip')"
      ],
      "execution_count": 68,
      "outputs": []
    },
    {
      "cell_type": "markdown",
      "source": [
        "# STOP"
      ],
      "metadata": {
        "id": "kqJ3GR1z8Jro"
      }
    },
    {
      "cell_type": "markdown",
      "metadata": {
        "collapsed": false,
        "id": "AgRRZ5Fkqp5g"
      },
      "source": [
        "eUtils: Retrieving Bibliography\n",
        "-----------"
      ]
    },
    {
      "cell_type": "markdown",
      "metadata": {
        "collapsed": false,
        "id": "hvdsa_JMqp5g"
      },
      "source": [
        "**Listing 9.12:** entrez1.py: Retrieve and display data from PubMed"
      ]
    },
    {
      "cell_type": "code",
      "metadata": {
        "id": "VjdaoKT8qp5g"
      },
      "source": [
        "from Bio import Entrez\n",
        "my_em = 'user@example.com'\n",
        "db = \"pubmed\"\n",
        "# Search de Entrez website using esearch from eUtils\n",
        "# esearch returns a handle (called h_search)\n",
        "h_search = Entrez.esearch(db=db, email=my_em,\n",
        "                         term='python and bioinformatics')\n",
        "# Parse the result with Entrez.read()\n",
        "record = Entrez.read(h_search)\n",
        "# Get the list of Ids returned by previous search\n",
        "res_ids = record[\"IdList\"]\n",
        "# For each id in the list\n",
        "for r_id in res_ids:\n",
        "   # Get summary information for each id\n",
        "   h_summ = Entrez.esummary(db=db, id=r_id, email=my_em)\n",
        "   # Parse the result with Entrez.read()\n",
        "   summ = Entrez.read(h_summ)\n",
        "   print(summ[0]['Title'])\n",
        "   print(summ[0]['DOI'])\n",
        "   print('==============================================')"
      ],
      "execution_count": null,
      "outputs": []
    },
    {
      "cell_type": "markdown",
      "source": [],
      "metadata": {
        "id": "JPAPnKUN8ErI"
      }
    },
    {
      "cell_type": "markdown",
      "source": [],
      "metadata": {
        "id": "1G93oQgd8Euf"
      }
    },
    {
      "cell_type": "markdown",
      "source": [],
      "metadata": {
        "id": "Fmf6L3yT8ExP"
      }
    },
    {
      "cell_type": "markdown",
      "metadata": {
        "collapsed": false,
        "id": "8Vrp1BGeqp5i"
      },
      "source": [
        "eUtils: Retrieving Gene Information\n",
        "-------------------"
      ]
    },
    {
      "cell_type": "markdown",
      "metadata": {
        "collapsed": false,
        "id": "Hn94DqlMqp5i"
      },
      "source": [
        "**Listing 9.13:** entrez2.py: Retrieve and display data from PubMed"
      ]
    },
    {
      "cell_type": "code",
      "metadata": {
        "id": "ngN2Pu_zqp5j"
      },
      "source": [
        "from Bio import Entrez\n",
        "my_em = 'user@example.com'\n",
        "db = \"gene\"\n",
        "term = 'cobalamin synthase homo sapiens'\n",
        "h_search = Entrez.esearch(db=db, email=my_em, term=term)\n",
        "record = Entrez.read(h_search)\n",
        "res_ids = record[\"IdList\"]\n",
        "for r_id in res_ids:\n",
        "   h_summ = Entrez.esummary(db=db, id=r_id, email=my_em)\n",
        "   s = Entrez.read(h_summ)\n",
        "   print(r_id)\n",
        "   name = s['DocumentSummarySet']['DocumentSummary'][0]['Name']\n",
        "   print(name)\n",
        "   su = s['DocumentSummarySet']['DocumentSummary'][0]['Summary']\n",
        "   print(su)\n",
        "   print('==============================================')"
      ],
      "execution_count": null,
      "outputs": []
    },
    {
      "cell_type": "code",
      "metadata": {
        "id": "Ovhkeoreqp5k"
      },
      "source": [
        "n = \"nucleotide\"\n",
        "handle = Entrez.efetch(db=n, id=\"326625\", rettype='fasta')\n",
        "print (handle.read())"
      ],
      "execution_count": null,
      "outputs": []
    },
    {
      "cell_type": "code",
      "metadata": {
        "id": "MW4rKFutqp5l"
      },
      "source": [
        "handle = Entrez.efetch(db=n, id=\"326625\", retmode='xml')\n",
        "record[0]['GBSeq_moltype']"
      ],
      "execution_count": null,
      "outputs": []
    },
    {
      "cell_type": "code",
      "metadata": {
        "id": "uup56qpMqp5n"
      },
      "source": [
        " record[0]['GBSeq_sequence']"
      ],
      "execution_count": null,
      "outputs": []
    },
    {
      "cell_type": "code",
      "metadata": {
        "id": "9ws5T7_Kqp5o"
      },
      "source": [
        " record[0]['GBSeq_organism']"
      ],
      "execution_count": null,
      "outputs": []
    },
    {
      "cell_type": "code",
      "metadata": {
        "id": "mTXY8tfFqp5q"
      },
      "source": [
        "from Bio.PDB.PDBParser import PDBParser\n",
        "pdbfn = '../../samples/1FAT.pdb'\n",
        "parser = PDBParser(PERMISSIVE=1)\n",
        "structure = parser.get_structure(\"1fat\", pdbfn)"
      ],
      "execution_count": null,
      "outputs": []
    },
    {
      "cell_type": "code",
      "metadata": {
        "id": "EL6YqNEzqp5r"
      },
      "source": [
        " structure.child_list"
      ],
      "execution_count": null,
      "outputs": []
    },
    {
      "cell_type": "code",
      "metadata": {
        "id": "zMYlrsP1qp5u"
      },
      "source": [
        "model = structure[0]\n",
        "model.child_list"
      ],
      "execution_count": null,
      "outputs": []
    },
    {
      "cell_type": "code",
      "metadata": {
        "id": "Ms1qifv9qp5w"
      },
      "source": [
        "chain = model['B']\n",
        "chain.child_list[:5]\n"
      ],
      "execution_count": null,
      "outputs": []
    },
    {
      "cell_type": "code",
      "metadata": {
        "id": "F_HYg8keqp5x"
      },
      "source": [
        "residue = chain[4]\n",
        "residue.child_list"
      ],
      "execution_count": null,
      "outputs": []
    },
    {
      "cell_type": "code",
      "metadata": {
        "id": "dj3-ZsFiqp5y"
      },
      "source": [
        "atom = residue['CB']\n",
        "atom.bfactor"
      ],
      "execution_count": null,
      "outputs": []
    },
    {
      "cell_type": "markdown",
      "metadata": {
        "id": "17Jxmu06qp51"
      },
      "source": [
        "**Listing 9.14:** pdb2.py: Parse a gzipped PDB file"
      ]
    },
    {
      "cell_type": "code",
      "metadata": {
        "id": "p2wNJnLwqp52"
      },
      "source": [
        "import gzip\n",
        "import io\n",
        "from Bio.PDB.PDBParser import PDBParser\n",
        "\n",
        "def disorder(structure):\n",
        "   for chain in structure[0].get_list():\n",
        "       for residue in chain.get_list():\n",
        "           for atom in residue.get_list():\n",
        "               if atom.is_disordered():\n",
        "                   print(residue, atom)\n",
        "   return None\n",
        "\n",
        "pdbfn = 'samples/pdb1apk.ent.gz'\n",
        "handle = gzip.GzipFile(pdbfn)\n",
        "handle = io.StringIO(handle.read().decode('utf-8'))\n",
        "parser = PDBParser()\n",
        "structure = parser.get_structure('test', handle)\n",
        "disorder(structure)"
      ],
      "execution_count": null,
      "outputs": []
    },
    {
      "cell_type": "markdown",
      "metadata": {
        "collapsed": false,
        "id": "rzV-hwrrqp54"
      },
      "source": [
        "PROSITE\n",
        "------"
      ]
    },
    {
      "cell_type": "code",
      "metadata": {
        "id": "yOlQdnJ1qp54"
      },
      "source": [
        "from Bio import Prosite\n",
        "handle = open(\"prosite.dat\")\n",
        "records = Prosite.parse(handle)\n",
        "for r in records:\n",
        "    print(r.accession)\n",
        "    print(r.name)\n",
        "    print(r.description)\n",
        "    print(r.pattern)\n",
        "    print(r.created)\n",
        "    print(r.pdoc)\n",
        "    print(\"===================================\")"
      ],
      "execution_count": null,
      "outputs": []
    },
    {
      "cell_type": "code",
      "metadata": {
        "scrolled": true,
        "id": "7RH2d7P9qp56"
      },
      "source": [
        "from Bio import Restriction\n",
        "Restriction.EcoRI"
      ],
      "execution_count": null,
      "outputs": []
    },
    {
      "cell_type": "code",
      "metadata": {
        "scrolled": false,
        "id": "sYA_jcHGqp57"
      },
      "source": [
        "from Bio.Seq import Seq\n",
        "from Bio.Alphabet.IUPAC import IUPACAmbiguousDNA\n",
        "alfa = IUPACAmbiguousDNA()\n",
        "gi1942535 = Seq('CGCGAATTCGCG', alfa\n",
        "Restriction.EcoRI.search(gi1942535)"
      ],
      "execution_count": null,
      "outputs": []
    },
    {
      "cell_type": "code",
      "metadata": {
        "id": "FtKEk1Yqqp58"
      },
      "source": [
        "Restriction.EcoRI.catalyse(gi1942535)"
      ],
      "execution_count": null,
      "outputs": []
    },
    {
      "cell_type": "code",
      "metadata": {
        "id": "c9b2QU8sqp59"
      },
      "source": [
        "enz1 = Restriction.EcoRI\n",
        "enz2 = Restriction.HindIII\n",
        "batch1 = Restriction.RestrictionBatch([enz1, enz2])\n",
        "batch1.search(gi1942535)"
      ],
      "execution_count": null,
      "outputs": []
    },
    {
      "cell_type": "code",
      "metadata": {
        "id": "4eWbkN9Tqp5_"
      },
      "source": [
        "dd = batch1.search(gi1942535)\n",
        "dd.get(Restriction.EcoRI)"
      ],
      "execution_count": null,
      "outputs": []
    },
    {
      "cell_type": "code",
      "metadata": {
        "id": "na2BHYYUqp6A"
      },
      "source": [
        " dd.get(Restriction.HindIII)"
      ],
      "execution_count": null,
      "outputs": []
    },
    {
      "cell_type": "code",
      "metadata": {
        "id": "vX4QNtA-qp6C"
      },
      "source": [
        "batch1.add(Restriction.EarI)\n",
        "batch1"
      ],
      "execution_count": null,
      "outputs": []
    },
    {
      "cell_type": "code",
      "metadata": {
        "id": "uG_CDCOpqp6D"
      },
      "source": [
        "batch1.remove(Restriction.EarI)\n",
        "batch1"
      ],
      "execution_count": null,
      "outputs": []
    },
    {
      "cell_type": "code",
      "metadata": {
        "collapsed": true,
        "id": "gy7FHyJjqp6E"
      },
      "source": [
        "batch2 = Restriction.CommOnly"
      ],
      "execution_count": null,
      "outputs": []
    },
    {
      "cell_type": "code",
      "metadata": {
        "id": "P11AdPG0qp6H"
      },
      "source": [
        "an1 = Restriction.Analysis(batch1,gi1942535)\n",
        "an1.full()    "
      ],
      "execution_count": null,
      "outputs": []
    },
    {
      "cell_type": "code",
      "metadata": {
        "id": "fcjhSbQaqp6I"
      },
      "source": [
        "an1.print_that()"
      ],
      "execution_count": null,
      "outputs": []
    },
    {
      "cell_type": "code",
      "metadata": {
        "id": "hWTxZkw4qp6K"
      },
      "source": [
        "an1.print_as('map')\n",
        "an1.print_that()"
      ],
      "execution_count": null,
      "outputs": []
    },
    {
      "cell_type": "code",
      "metadata": {
        "id": "Zg8NDsEdqp6M"
      },
      "source": [
        "an1.only_between(1,8)"
      ],
      "execution_count": null,
      "outputs": []
    },
    {
      "cell_type": "markdown",
      "metadata": {
        "id": "_ara5F6Sqp6P"
      },
      "source": [
        "DNA Utils\n",
        "--------"
      ]
    },
    {
      "cell_type": "code",
      "metadata": {
        "id": "Wr8-m2ceqp6P"
      },
      "source": [
        "from Bio.SeqUtils import GC\n",
        "GC('gacgatcggtattcgtag')    "
      ],
      "execution_count": null,
      "outputs": []
    },
    {
      "cell_type": "code",
      "metadata": {
        "id": "pvlRDfsSqp6Q"
      },
      "source": [
        "from Bio.SeqUtils import MeltingTemp\n",
        "MeltingTemp.Tm_staluc('tgcagtacgtatcgt')"
      ],
      "execution_count": null,
      "outputs": []
    },
    {
      "cell_type": "code",
      "metadata": {
        "id": "aNaFh5_zqp6V"
      },
      "source": [
        " print('%.2f'%MeltingTemp.Tm_staluc('tgcagtacgtatcgt'))"
      ],
      "execution_count": null,
      "outputs": []
    },
    {
      "cell_type": "code",
      "metadata": {
        "id": "A4TPK_9vqp6W"
      },
      "source": [
        "from Bio.SeqUtils import CheckSum\n",
        "myseq = 'acaagatgccattgtcccccggcctcctgctgctgct'\n",
        "CheckSum.gcg(myseq)"
      ],
      "execution_count": null,
      "outputs": []
    },
    {
      "cell_type": "code",
      "metadata": {
        "id": "ghMp6AbCqp6X"
      },
      "source": [
        "CheckSum.crc32(myseq)"
      ],
      "execution_count": null,
      "outputs": []
    },
    {
      "cell_type": "code",
      "metadata": {
        "id": "MqRVzBjDqp6Y"
      },
      "source": [
        "CheckSum.crc64(myseq)"
      ],
      "execution_count": null,
      "outputs": []
    },
    {
      "cell_type": "code",
      "metadata": {
        "id": "P_clMHVSqp6a"
      },
      "source": [
        "CheckSum.seguid(myseq)"
      ],
      "execution_count": null,
      "outputs": []
    },
    {
      "cell_type": "markdown",
      "metadata": {
        "id": "wiMt--ohqp6f"
      },
      "source": [
        "Protein Utils\n",
        "------------"
      ]
    },
    {
      "cell_type": "markdown",
      "metadata": {
        "id": "iDRmiRPwqp6f"
      },
      "source": [
        "**Listing 9.15:** protparam.py: Apply PropParam functions to a group of proteins"
      ]
    },
    {
      "cell_type": "code",
      "metadata": {
        "id": "s7fRm5VYqp6f"
      },
      "source": [
        "from Bio.SeqUtils.ProtParam import ProteinAnalysis\n",
        "from Bio.SeqUtils import ProtParamData\n",
        "from Bio import SeqIO\n",
        "with open('samples/pdbaa') as fh:\n",
        "   for rec in SeqIO.parse(fh,'fasta'):\n",
        "       myprot = ProteinAnalysis(str(rec.seq))\n",
        "       print(myprot.count_amino_acids())\n",
        "       print(myprot.get_amino_acids_percent())\n",
        "       print(myprot.molecular_weight())\n",
        "       print(myprot.aromaticity())\n",
        "       print(myprot.instability_index())\n",
        "       print(myprot.flexibility())\n",
        "       print(myprot.isoelectric_point())\n",
        "       print(myprot.secondary_structure_fraction())\n",
        "       print(myprot.protein_scale(ProtParamData.kd, 9, .4))"
      ],
      "execution_count": null,
      "outputs": []
    },
    {
      "cell_type": "markdown",
      "metadata": {
        "id": "KPoDUC1zqp6g"
      },
      "source": [
        "**Listing 9.16:** phd1.py: Extract data from a .phd.1 file"
      ]
    },
    {
      "cell_type": "code",
      "metadata": {
        "id": "cDiIvuHNqp6h"
      },
      "source": [
        "import pprint\n",
        "from Bio.Sequencing import Phd\n",
        "fn = 'samples/phd1'\n",
        "with open(fn) as fh:\n",
        "    rp = Phd.read(fh)\n",
        "# All the comments are in a dictionary\n",
        "pprint.pprint(rp.comments)\n",
        "# Sequence information\n",
        "print('Sequence: %s' % rp.seq)\n",
        "# Quality information for each base\n",
        "print('Quality: %s' % rp.sites)"
      ],
      "execution_count": null,
      "outputs": []
    },
    {
      "cell_type": "code",
      "metadata": {
        "id": "kgmkmreqqp6i"
      },
      "source": [
        "from Bio import SeqIO\n",
        "fn = '../../samples/phd1'\n",
        "fh = open(fn)\n",
        "seqs = SeqIO.parse(fh,'phd')\n",
        "seqs = SeqIO.parse(fh,'phd')\n",
        "for s in seqs:\n",
        "    print(s.seq)"
      ],
      "execution_count": null,
      "outputs": []
    },
    {
      "cell_type": "code",
      "metadata": {
        "id": "heQWYE-4qp6j"
      },
      "source": [
        "from Bio.Sequencing import Ace\n",
        "fn='836CLEAN-100.fasta.cap.ace'\n",
        "acefilerecord=Ace.read(open(fn))\n",
        "acefilerecord.ncontigs"
      ],
      "execution_count": null,
      "outputs": []
    },
    {
      "cell_type": "code",
      "metadata": {
        "id": "23hpjAPvqp6k"
      },
      "source": [
        "acefilerecord.nreads"
      ],
      "execution_count": null,
      "outputs": []
    },
    {
      "cell_type": "code",
      "metadata": {
        "id": "RXaQ0xfBqp6l"
      },
      "source": [
        "acefilerecord.wa[0].info"
      ],
      "execution_count": null,
      "outputs": []
    },
    {
      "cell_type": "code",
      "metadata": {
        "id": "UFTrtsSrqp6m"
      },
      "source": [
        "acefilerecord.wa[0].date"
      ],
      "execution_count": null,
      "outputs": []
    },
    {
      "cell_type": "markdown",
      "metadata": {
        "id": "tEs_MfAlqp6n"
      },
      "source": [
        "**Listing 9.17:** ace.py: Retrieve data from an “.ace” file"
      ]
    },
    {
      "cell_type": "code",
      "metadata": {
        "id": "8RTbGNPBqp6n"
      },
      "source": [
        "from Bio.Sequencing import Ace\n",
        "\n",
        "fn = 'samples/contig1.ace'\n",
        "acefilerecord = Ace.read(open(fn))\n",
        "\n",
        "# For each contig:\n",
        "for ctg in acefilerecord.contigs:\n",
        "    print('==========================================')\n",
        "    print('Contig name: %s'%ctg.name)\n",
        "    print('Bases: %s'%ctg.nbases)\n",
        "    print('Reads: %s'%ctg.nreads)\n",
        "    print('Segments: %s'%ctg.nsegments)\n",
        "    print('Sequence: %s'%ctg.sequence)\n",
        "    print('Quality: %s'%ctg.quality)\n",
        "    # For each read in contig:\n",
        "    for read in ctg.reads:\n",
        "        print('Read name: %s'%read.rd.name)\n",
        "        print('Align start: %s'%read.qa.align_clipping_start)\n",
        "        print('Align end: %s'%read.qa.align_clipping_end)\n",
        "        print('Qual start: %s'%read.qa.qual_clipping_start)\n",
        "        print('Qual end: %s'%read.qa.qual_clipping_end)\n",
        "        print('Read sequence: %s'%read.rd.sequence)\n",
        "        print('==========================================')"
      ],
      "execution_count": null,
      "outputs": []
    },
    {
      "cell_type": "markdown",
      "metadata": {
        "id": "XliMT4Iwqp6o"
      },
      "source": [
        "**Listing 9.18:** Retrieve data from a SwissProt file"
      ]
    },
    {
      "cell_type": "code",
      "metadata": {
        "id": "XhtdXWnBqp6o"
      },
      "source": [
        "from Bio import SwissProt\n",
        "with open('samples/spfile.txt') as fh:\n",
        "        records = SwissProt.parse(fh)\n",
        "        for record in records:\n",
        "            print('Entry name: %s' % record.entry_name)\n",
        "            print('Accession(s): %s' % ','.join(record.accessions))\n",
        "            print('Keywords: %s' % ','.join(record.keywords))\n",
        "            print('Sequence: %s' % record.sequence)"
      ],
      "execution_count": null,
      "outputs": []
    },
    {
      "cell_type": "markdown",
      "metadata": {
        "id": "vXVXleQbqp6q"
      },
      "source": [
        "**Listing 9.19:** Attributes of a SwissProt record"
      ]
    },
    {
      "cell_type": "code",
      "metadata": {
        "id": "DVwtEso6qp6q"
      },
      "source": [
        "from Bio import SwissProt\n",
        "with open('samples/spfile.txt') as fh:\n",
        "    record = next(SwissProt.parse(fh))\n",
        "    for att in dir(record):\n",
        "        if not att.startswith('__'):\n",
        "                print(att, getattr(record,att))"
      ],
      "execution_count": null,
      "outputs": []
    },
    {
      "cell_type": "markdown",
      "metadata": {
        "id": "K1Ehut51qp6t"
      },
      "source": [
        "VER DE ACA PARA ABAJO SI ESTO ESTA BIEN O HABRIA QUE PONERLO ARRIBA!!!!\n",
        "-------------------"
      ]
    },
    {
      "cell_type": "markdown",
      "metadata": {
        "id": "rMi4fiheqp6t"
      },
      "source": [
        "*How to download a file*"
      ]
    },
    {
      "cell_type": "code",
      "metadata": {
        "scrolled": true,
        "id": "GbrnuTVNqp6t"
      },
      "source": [
        "!curl https://s3.amazonaws.com/py4bio/cas9align.fasta -o cas9align.fasta"
      ],
      "execution_count": null,
      "outputs": []
    },
    {
      "cell_type": "code",
      "metadata": {
        "id": "cDpJqe0rqp6v"
      },
      "source": [
        "with open('cas9align.fasta') as f_in:\n",
        "    print(f_in.read())"
      ],
      "execution_count": null,
      "outputs": []
    },
    {
      "cell_type": "code",
      "metadata": {
        "id": "3DNx4MNYqp6x"
      },
      "source": [
        "print(dir(align))"
      ],
      "execution_count": null,
      "outputs": []
    },
    {
      "cell_type": "code",
      "metadata": {
        "id": "Zlv_fstIqp6y"
      },
      "source": [
        "from Bio import AlignIO\n",
        "AlignIO.write(align, 'cas9align.phy', 'phylip')"
      ],
      "execution_count": null,
      "outputs": []
    },
    {
      "cell_type": "code",
      "metadata": {
        "collapsed": true,
        "id": "6F-Ec6Szqp60"
      },
      "source": [
        "from Bio.Alphabet import ProteinAlphabet"
      ],
      "execution_count": null,
      "outputs": []
    },
    {
      "cell_type": "code",
      "metadata": {
        "id": "aSYj9QSTqp61"
      },
      "source": [
        "align._alphabet = ProteinAlphabet()"
      ],
      "execution_count": null,
      "outputs": []
    },
    {
      "cell_type": "code",
      "metadata": {
        "id": "VRJTJncaqp62"
      },
      "source": [
        "print(align)"
      ],
      "execution_count": null,
      "outputs": []
    },
    {
      "cell_type": "code",
      "metadata": {
        "id": "H7k10Xp_qp66"
      },
      "source": [
        "print(align[3:,:5])"
      ],
      "execution_count": null,
      "outputs": []
    },
    {
      "cell_type": "code",
      "metadata": {
        "scrolled": true,
        "id": "q7Cr3rfcqp67"
      },
      "source": [
        "with open('cas9align.aln') as f_in:\n",
        "    print(f_in.read())"
      ],
      "execution_count": null,
      "outputs": []
    },
    {
      "cell_type": "code",
      "metadata": {
        "id": "ELJ0t8bmqp69"
      },
      "source": [
        "from Bio.Align.AlignInfo import print_info_content\n",
        "print_info_content(align)"
      ],
      "execution_count": null,
      "outputs": []
    },
    {
      "cell_type": "code",
      "metadata": {
        "id": "bod4Dvkrqp6-"
      },
      "source": [
        "summary.pos_specific_score_matrix()"
      ],
      "execution_count": null,
      "outputs": []
    },
    {
      "cell_type": "code",
      "metadata": {
        "id": "LkNoVifQqp6_"
      },
      "source": [
        "from Bio import Alphabet \n",
        "for record in align:\n",
        "    print(Alphabet._get_base_alphabet(record.seq.alphabet))"
      ],
      "execution_count": null,
      "outputs": []
    },
    {
      "cell_type": "code",
      "metadata": {
        "id": "bOsbO_KRqp7A"
      },
      "source": [
        "!curl https://raw.githubusercontent.com/Serulab/Py4Bio/master/cas9align.fasta -o archivo2.txt"
      ],
      "execution_count": null,
      "outputs": []
    },
    {
      "cell_type": "code",
      "metadata": {
        "id": "7qzkiuHcqp7B"
      },
      "source": [
        "with open('archivo2.txt') as fh:\n",
        "    print(fh.read())"
      ],
      "execution_count": null,
      "outputs": []
    },
    {
      "cell_type": "code",
      "metadata": {
        "collapsed": true,
        "id": "chHo8jnkqp7E"
      },
      "source": [
        "# http://biopython.org/DIST/docs/api/Bio.Align.Applications._ClustalOmega.ClustalOmegaCommandline-class.html\n"
      ],
      "execution_count": null,
      "outputs": []
    },
    {
      "cell_type": "code",
      "metadata": {
        "collapsed": true,
        "id": "gdyUF9ltqp7F"
      },
      "source": [],
      "execution_count": null,
      "outputs": []
    }
  ]
}