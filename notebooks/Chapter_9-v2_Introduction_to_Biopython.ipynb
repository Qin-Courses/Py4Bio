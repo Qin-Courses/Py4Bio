{
  "nbformat": 4,
  "nbformat_minor": 0,
  "metadata": {
    "kernelspec": {
      "display_name": "Python 3",
      "language": "python",
      "name": "python3"
    },
    "language_info": {
      "codemirror_mode": {
        "name": "ipython",
        "version": 3
      },
      "file_extension": ".py",
      "mimetype": "text/x-python",
      "name": "python",
      "nbconvert_exporter": "python",
      "pygments_lexer": "ipython3",
      "version": "3.5.1"
    },
    "colab": {
      "name": "Chapter 9 - Introduction to Biopython.ipynb",
      "provenance": [],
      "toc_visible": true
    }
  },
  "cells": [
    {
      "cell_type": "markdown",
      "metadata": {
        "id": "t8str7sJqp2a"
      },
      "source": [
        "Python for Bioinformatics\n",
        "-----------------------------\n",
        "\n",
        "![title](https://s3.amazonaws.com/py4bio/tapabiosmall.png)\n",
        "\n",
        "This Jupyter notebook is intented to be used alongside the book [Python for Bioinformatics](http://py3.us/)\n",
        "\n",
        "Modified by Hong Qin, October, 2022\n"
      ]
    },
    {
      "cell_type": "markdown",
      "metadata": {
        "id": "NLmiOAnBqp2c"
      },
      "source": [
        "**Note:** Before opening the file, this file should be accesible from this Jupyter notebook. In order to do so, the following commands will download these files from Github and extract them into a directory called samples."
      ]
    },
    {
      "cell_type": "code",
      "metadata": {
        "id": "JMdqF26kqp2d",
        "colab": {
          "base_uri": "https://localhost:8080/"
        },
        "outputId": "03a4d49b-4ce3-47aa-e82f-460a38fb2db7"
      },
      "source": [
        "!curl https://raw.githubusercontent.com/Serulab/Py4Bio/master/samples/samples.tar.bz2 -o samples.tar.bz2\n",
        "!mkdir samples\n",
        "!tar xvfj samples.tar.bz2 -C samples"
      ],
      "execution_count": 2,
      "outputs": [
        {
          "output_type": "stream",
          "name": "stdout",
          "text": [
            "  % Total    % Received % Xferd  Average Speed   Time    Time     Time  Current\n",
            "                                 Dload  Upload   Total   Spent    Left  Speed\n",
            "100 16.5M  100 16.5M    0     0  10.9M      0  0:00:01  0:00:01 --:--:-- 10.9M\n",
            "._.\n",
            "./\n",
            "./vectorssmall.fasta\n",
            "./prot.fas\n",
            "./conglycinin.phy\n",
            "./input4align.dnd\n",
            "./Q5R5X8.fas\n",
            "./Q9JJE1.xml\n",
            "./primers.txt\n",
            "./NC_006581.gb\n",
            "./PythonU.db\n",
            "./hsc1.fasta\n",
            "./B1.csv\n",
            "./sampleXblast.xml\n",
            "./sampledata.xlsx\n",
            "./NC2033.txt\n",
            "./conglycinin.dnd\n",
            "./BLAST_output.xml\n",
            "./UniVec_Core.nhr\n",
            "./seqA.fas\n",
            "./fishdata.csv\n",
            "./template\n",
            "./pdbaa\n",
            "./bioinfo/\n",
            "./fishbacteria.csv\n",
            "./B1IXL9.txt\n",
            "./._GSM188012.CEL\n",
            "./GSM188012.CEL\n",
            "./example.aln\n",
            "./data.csv\n",
            "./3seqs.fas\n",
            "./BcrA.gp\n",
            "./uniprotrecord.xml\n",
            "./contig1.ace\n",
            "./other.xml\n",
            "./UniVec_Core.nsq\n",
            "./test3.csv\n",
            "./conglycinin.multiple.phy\n",
            "./fasta22.fas\n",
            "./pMOSBlue.txt\n",
            "./readme.txt\n",
            "./sampleX.fas\n",
            "./UniVec_Core.nin\n",
            "./pdb1apk.ent.gz\n",
            "./cas9align.fasta\n",
            "./a19.gp\n",
            "./phd1\n",
            "./t3beta.fasta\n",
            "./conglycinin.fasta\n",
            "./UniVec_Core\n",
            "./BLAST_output.html\n",
            "./spfile.txt\n",
            "./input4align.fasta\n",
            "./t3.fasta\n",
            "./TAIR7_Transcripts_by_map_position.gz\n",
            "./bioinfo/seqs/\n",
            "./bioinfo/seqs/513710.fasta\n",
            "./bioinfo/seqs/6598312.fasta\n",
            "./bioinfo/seqs/4586830.fasta\n",
            "./bioinfo/seqs/15721870.fasta\n",
            "./bioinfo/seqs/2623545.fasta\n",
            "./bioinfo/seqs/218744616.fasta\n",
            "./bioinfo/seqs/7415878.fasta\n",
            "./bioinfo/seqs/63108399.fasta\n",
            "./bioinfo/seqs/513717.fasta\n",
            "./bioinfo/seqs/7638455.fasta\n",
            "./bioinfo/seqs/513719.fasta\n",
            "./bioinfo/seqs/513419.fasta\n",
            "./bioinfo/seqs/513718.fasta\n"
          ]
        }
      ]
    },
    {
      "cell_type": "markdown",
      "metadata": {
        "id": "gyD30yHHqp2h"
      },
      "source": [
        "Chapter 9: Introduction to Biopython\n",
        "-----------------------------"
      ]
    },
    {
      "cell_type": "code",
      "metadata": {
        "id": "HuchAY5cqp2i",
        "outputId": "15a897e6-82c4-4626-ccdb-41a4e3205aaf",
        "colab": {
          "base_uri": "https://localhost:8080/",
          "height": 35
        }
      },
      "source": [
        "import platform\n",
        "platform.platform()"
      ],
      "execution_count": 3,
      "outputs": [
        {
          "output_type": "execute_result",
          "data": {
            "text/plain": [
              "'Linux-5.10.133+-x86_64-with-Ubuntu-18.04-bionic'"
            ],
            "application/vnd.google.colaboratory.intrinsic+json": {
              "type": "string"
            }
          },
          "metadata": {},
          "execution_count": 3
        }
      ]
    },
    {
      "cell_type": "code",
      "metadata": {
        "scrolled": false,
        "id": "DD4sFUCpqp2m",
        "outputId": "d512b0b6-d791-43b2-94b1-c4cc23c3911e",
        "colab": {
          "base_uri": "https://localhost:8080/"
        }
      },
      "source": [
        "!pip install biopython"
      ],
      "execution_count": 4,
      "outputs": [
        {
          "output_type": "stream",
          "name": "stdout",
          "text": [
            "Looking in indexes: https://pypi.org/simple, https://us-python.pkg.dev/colab-wheels/public/simple/\n",
            "Collecting biopython\n",
            "  Downloading biopython-1.79-cp37-cp37m-manylinux_2_17_x86_64.manylinux2014_x86_64.whl (2.6 MB)\n",
            "\u001b[K     |████████████████████████████████| 2.6 MB 4.0 MB/s \n",
            "\u001b[?25hRequirement already satisfied: numpy in /usr/local/lib/python3.7/dist-packages (from biopython) (1.21.6)\n",
            "Installing collected packages: biopython\n",
            "Successfully installed biopython-1.79\n"
          ]
        }
      ]
    },
    {
      "cell_type": "markdown",
      "metadata": {
        "id": "BsZaaRvXqp2q"
      },
      "source": [
        "Test Installation\n",
        "-----------------"
      ]
    },
    {
      "cell_type": "code",
      "metadata": {
        "scrolled": true,
        "id": "nPGSHve9qp2r",
        "outputId": "10df3edc-4339-4d49-8a20-0d546f52b5e6",
        "colab": {
          "base_uri": "https://localhost:8080/",
          "height": 35
        }
      },
      "source": [
        "import Bio\n",
        "Bio.__version__"
      ],
      "execution_count": 5,
      "outputs": [
        {
          "output_type": "execute_result",
          "data": {
            "text/plain": [
              "'1.79'"
            ],
            "application/vnd.google.colaboratory.intrinsic+json": {
              "type": "string"
            }
          },
          "metadata": {},
          "execution_count": 5
        }
      ]
    },
    {
      "cell_type": "code",
      "source": [
        "import Bio.Data.CodonTable\n",
        "print(Bio.Data.CodonTable.standard_dna_table)"
      ],
      "metadata": {
        "id": "iK_AbqPE55BD",
        "outputId": "f07616ea-ff44-47bb-fd49-a0426a1d2ea7",
        "colab": {
          "base_uri": "https://localhost:8080/"
        }
      },
      "execution_count": 6,
      "outputs": [
        {
          "output_type": "stream",
          "name": "stdout",
          "text": [
            "Table 1 Standard, SGC0\n",
            "\n",
            "  |  T      |  C      |  A      |  G      |\n",
            "--+---------+---------+---------+---------+--\n",
            "T | TTT F   | TCT S   | TAT Y   | TGT C   | T\n",
            "T | TTC F   | TCC S   | TAC Y   | TGC C   | C\n",
            "T | TTA L   | TCA S   | TAA Stop| TGA Stop| A\n",
            "T | TTG L(s)| TCG S   | TAG Stop| TGG W   | G\n",
            "--+---------+---------+---------+---------+--\n",
            "C | CTT L   | CCT P   | CAT H   | CGT R   | T\n",
            "C | CTC L   | CCC P   | CAC H   | CGC R   | C\n",
            "C | CTA L   | CCA P   | CAA Q   | CGA R   | A\n",
            "C | CTG L(s)| CCG P   | CAG Q   | CGG R   | G\n",
            "--+---------+---------+---------+---------+--\n",
            "A | ATT I   | ACT T   | AAT N   | AGT S   | T\n",
            "A | ATC I   | ACC T   | AAC N   | AGC S   | C\n",
            "A | ATA I   | ACA T   | AAA K   | AGA R   | A\n",
            "A | ATG M(s)| ACG T   | AAG K   | AGG R   | G\n",
            "--+---------+---------+---------+---------+--\n",
            "G | GTT V   | GCT A   | GAT D   | GGT G   | T\n",
            "G | GTC V   | GCC A   | GAC D   | GGC G   | C\n",
            "G | GTA V   | GCA A   | GAA E   | GGA G   | A\n",
            "G | GTG V   | GCG A   | GAG E   | GGG G   | G\n",
            "--+---------+---------+---------+---------+--\n"
          ]
        }
      ]
    },
    {
      "cell_type": "code",
      "metadata": {
        "id": "yWedFQFtqp3A",
        "outputId": "e509a3d2-7b4f-464f-bbf9-e5bd183dd0d1",
        "colab": {
          "base_uri": "https://localhost:8080/"
        }
      },
      "source": [
        "from Bio.Seq import Seq\n",
        "seq = Seq('CCGGGTT')\n",
        "seq.transcribe()"
      ],
      "execution_count": 7,
      "outputs": [
        {
          "output_type": "execute_result",
          "data": {
            "text/plain": [
              "Seq('CCGGGUU')"
            ]
          },
          "metadata": {},
          "execution_count": 7
        }
      ]
    },
    {
      "cell_type": "code",
      "metadata": {
        "id": "K1h1vsdIqp3E",
        "outputId": "a3fe9ff4-fe0e-4a35-a3e9-af2e152fe943",
        "colab": {
          "base_uri": "https://localhost:8080/"
        }
      },
      "source": [
        "seq.translate()"
      ],
      "execution_count": 8,
      "outputs": [
        {
          "output_type": "stream",
          "name": "stderr",
          "text": [
            "/usr/local/lib/python3.7/dist-packages/Bio/Seq.py:2983: BiopythonWarning: Partial codon, len(sequence) not a multiple of three. Explicitly trim the sequence or add trailing N before translation. This may become an error in future.\n",
            "  BiopythonWarning,\n"
          ]
        },
        {
          "output_type": "execute_result",
          "data": {
            "text/plain": [
              "Seq('PG')"
            ]
          },
          "metadata": {},
          "execution_count": 8
        }
      ]
    },
    {
      "cell_type": "code",
      "metadata": {
        "scrolled": true,
        "id": "vrJii2qrqp3J",
        "outputId": "77b24a4d-94e0-4637-d2dc-cbc914b2be6e",
        "colab": {
          "base_uri": "https://localhost:8080/"
        }
      },
      "source": [
        "rna_seq = Seq('CCGGGUU')\n",
        "rna_seq.transcribe()"
      ],
      "execution_count": 9,
      "outputs": [
        {
          "output_type": "execute_result",
          "data": {
            "text/plain": [
              "Seq('CCGGGUU')"
            ]
          },
          "metadata": {},
          "execution_count": 9
        }
      ]
    },
    {
      "cell_type": "code",
      "metadata": {
        "scrolled": true,
        "id": "rViJB0Qnqp3L",
        "outputId": "60034c51-2313-49f7-d795-a6eeec6a71af",
        "colab": {
          "base_uri": "https://localhost:8080/"
        }
      },
      "source": [
        "rna_seq.translate()"
      ],
      "execution_count": 10,
      "outputs": [
        {
          "output_type": "execute_result",
          "data": {
            "text/plain": [
              "Seq('PG')"
            ]
          },
          "metadata": {},
          "execution_count": 10
        }
      ]
    },
    {
      "cell_type": "code",
      "metadata": {
        "id": "IcPBGRjpqp3N",
        "outputId": "f0a8e5af-d6eb-4f7f-9499-0eac3079fe6c",
        "colab": {
          "base_uri": "https://localhost:8080/"
        }
      },
      "source": [
        "rna_seq.back_transcribe()"
      ],
      "execution_count": 11,
      "outputs": [
        {
          "output_type": "execute_result",
          "data": {
            "text/plain": [
              "Seq('CCGGGTT')"
            ]
          },
          "metadata": {},
          "execution_count": 11
        }
      ]
    },
    {
      "cell_type": "markdown",
      "metadata": {
        "id": "jGniDt6nqp3P"
      },
      "source": [
        "Tip: The Transcribe Function in Biopython\n",
        "-----------------------------------------"
      ]
    },
    {
      "cell_type": "code",
      "metadata": {
        "scrolled": true,
        "id": "-zHdjKaiqp3Q",
        "outputId": "5bc374c0-fed7-4b4a-be2c-05ba38258afb",
        "colab": {
          "base_uri": "https://localhost:8080/",
          "height": 35
        }
      },
      "source": [
        "from Bio.Seq import translate, transcribe, back_transcribe\n",
        "dnaseq = 'ATGGTATAA'\n",
        "translate(dnaseq)\n"
      ],
      "execution_count": 12,
      "outputs": [
        {
          "output_type": "execute_result",
          "data": {
            "text/plain": [
              "'MV*'"
            ],
            "application/vnd.google.colaboratory.intrinsic+json": {
              "type": "string"
            }
          },
          "metadata": {},
          "execution_count": 12
        }
      ]
    },
    {
      "cell_type": "code",
      "metadata": {
        "id": "xsf3UAAsqp3T",
        "outputId": "264895f7-a20e-4922-d8f3-8b9e420ce587",
        "colab": {
          "base_uri": "https://localhost:8080/",
          "height": 35
        }
      },
      "source": [
        "transcribe(dnaseq)"
      ],
      "execution_count": 13,
      "outputs": [
        {
          "output_type": "execute_result",
          "data": {
            "text/plain": [
              "'AUGGUAUAA'"
            ],
            "application/vnd.google.colaboratory.intrinsic+json": {
              "type": "string"
            }
          },
          "metadata": {},
          "execution_count": 13
        }
      ]
    },
    {
      "cell_type": "code",
      "metadata": {
        "id": "UFCEhVwWqp3V",
        "outputId": "addfab65-d36b-4d28-9933-2f5b2b3c717f",
        "colab": {
          "base_uri": "https://localhost:8080/",
          "height": 35
        }
      },
      "source": [
        "rnaseq = transcribe(dnaseq)\n",
        "translate(rnaseq)"
      ],
      "execution_count": 14,
      "outputs": [
        {
          "output_type": "execute_result",
          "data": {
            "text/plain": [
              "'MV*'"
            ],
            "application/vnd.google.colaboratory.intrinsic+json": {
              "type": "string"
            }
          },
          "metadata": {},
          "execution_count": 14
        }
      ]
    },
    {
      "cell_type": "code",
      "metadata": {
        "scrolled": true,
        "id": "qjHM3UGqqp3X",
        "outputId": "9f23b5ae-9a64-4b43-874c-0ab410454889",
        "colab": {
          "base_uri": "https://localhost:8080/",
          "height": 35
        }
      },
      "source": [
        "back_transcribe(rnaseq)"
      ],
      "execution_count": 15,
      "outputs": [
        {
          "output_type": "execute_result",
          "data": {
            "text/plain": [
              "'ATGGTATAA'"
            ],
            "application/vnd.google.colaboratory.intrinsic+json": {
              "type": "string"
            }
          },
          "metadata": {},
          "execution_count": 15
        }
      ]
    },
    {
      "cell_type": "markdown",
      "metadata": {
        "id": "Fw5H9ZP_qp3Z"
      },
      "source": [
        "Seq Objects as a String\n",
        "-----------------------"
      ]
    },
    {
      "cell_type": "code",
      "metadata": {
        "id": "Wqug345tqp3a",
        "outputId": "a65943fb-3281-48b4-9dcc-578e0f94fc42",
        "colab": {
          "base_uri": "https://localhost:8080/"
        }
      },
      "source": [
        "seq = Seq('CCGGGTTAACGTA')\n",
        "seq[:5]"
      ],
      "execution_count": 16,
      "outputs": [
        {
          "output_type": "execute_result",
          "data": {
            "text/plain": [
              "Seq('CCGGG')"
            ]
          },
          "metadata": {},
          "execution_count": 16
        }
      ]
    },
    {
      "cell_type": "code",
      "metadata": {
        "id": "T6GqwdExqp3c",
        "outputId": "c02a338f-0be9-4e02-cee4-102af6a89d66",
        "colab": {
          "base_uri": "https://localhost:8080/"
        }
      },
      "source": [
        "len(seq)"
      ],
      "execution_count": 17,
      "outputs": [
        {
          "output_type": "execute_result",
          "data": {
            "text/plain": [
              "13"
            ]
          },
          "metadata": {},
          "execution_count": 17
        }
      ]
    },
    {
      "cell_type": "code",
      "metadata": {
        "id": "6VjpGoUoqp3e",
        "outputId": "226b7a69-51af-4091-9b89-457df22f8316",
        "colab": {
          "base_uri": "https://localhost:8080/"
        }
      },
      "source": [
        "print(seq)"
      ],
      "execution_count": 18,
      "outputs": [
        {
          "output_type": "stream",
          "name": "stdout",
          "text": [
            "CCGGGTTAACGTA\n"
          ]
        }
      ]
    },
    {
      "cell_type": "markdown",
      "metadata": {
        "id": "V-Viq3jzqp3g"
      },
      "source": [
        "MutableSeq\n",
        "----------"
      ]
    },
    {
      "cell_type": "code",
      "metadata": {
        "id": "jBcJeRj1qp3g"
      },
      "source": [
        "# seq[0] = 'T'"
      ],
      "execution_count": 21,
      "outputs": []
    },
    {
      "cell_type": "code",
      "metadata": {
        "id": "Jm72hL-Bqp3i",
        "outputId": "863b68e1-25b0-41bd-bb48-b910fc263967",
        "colab": {
          "base_uri": "https://localhost:8080/"
        }
      },
      "source": [
        "mut_seq = seq.tomutable()\n",
        "mut_seq"
      ],
      "execution_count": 22,
      "outputs": [
        {
          "output_type": "stream",
          "name": "stderr",
          "text": [
            "/usr/local/lib/python3.7/dist-packages/Bio/Seq.py:1756: BiopythonDeprecationWarning: myseq.tomutable() is deprecated; please use MutableSeq(myseq) instead.\n",
            "  BiopythonDeprecationWarning,\n"
          ]
        },
        {
          "output_type": "execute_result",
          "data": {
            "text/plain": [
              "MutableSeq('CCGGGTTAACGTA')"
            ]
          },
          "metadata": {},
          "execution_count": 22
        }
      ]
    },
    {
      "cell_type": "code",
      "metadata": {
        "id": "RiHzKRAWqp3m",
        "outputId": "bde9fb66-ee23-41e2-dd84-d7a1f38aab47",
        "colab": {
          "base_uri": "https://localhost:8080/"
        }
      },
      "source": [
        "mut_seq[0] = 'T'\n",
        "mut_seq"
      ],
      "execution_count": 23,
      "outputs": [
        {
          "output_type": "execute_result",
          "data": {
            "text/plain": [
              "MutableSeq('TCGGGTTAACGTA')"
            ]
          },
          "metadata": {},
          "execution_count": 23
        }
      ]
    },
    {
      "cell_type": "code",
      "metadata": {
        "id": "OzWI-Ks9qp3o",
        "outputId": "2bd160ba-97ee-424b-f317-c880581fc419",
        "colab": {
          "base_uri": "https://localhost:8080/"
        }
      },
      "source": [
        "mut_seq.reverse()\n",
        "mut_seq"
      ],
      "execution_count": 24,
      "outputs": [
        {
          "output_type": "execute_result",
          "data": {
            "text/plain": [
              "MutableSeq('ATGCAATTGGGCT')"
            ]
          },
          "metadata": {},
          "execution_count": 24
        }
      ]
    },
    {
      "cell_type": "code",
      "metadata": {
        "collapsed": true,
        "id": "hrYy4lG2qp3q"
      },
      "source": [
        "mut_seq.complement()"
      ],
      "execution_count": 25,
      "outputs": []
    },
    {
      "cell_type": "code",
      "metadata": {
        "id": "T4nqR9q7qp3t",
        "outputId": "287ea60f-41b8-4955-b444-f2b30f05ba3e",
        "colab": {
          "base_uri": "https://localhost:8080/"
        }
      },
      "source": [
        "mut_seq"
      ],
      "execution_count": 26,
      "outputs": [
        {
          "output_type": "execute_result",
          "data": {
            "text/plain": [
              "MutableSeq('TACGTTAACCCGA')"
            ]
          },
          "metadata": {},
          "execution_count": 26
        }
      ]
    },
    {
      "cell_type": "code",
      "metadata": {
        "id": "FILzU_7jqp3v",
        "outputId": "1ce72074-289a-4914-d4f7-2c37e2f1f579",
        "colab": {
          "base_uri": "https://localhost:8080/"
        }
      },
      "source": [
        "mut_seq.reverse_complement()\n",
        "mut_seq"
      ],
      "execution_count": 27,
      "outputs": [
        {
          "output_type": "execute_result",
          "data": {
            "text/plain": [
              "MutableSeq('TCGGGTTAACGTA')"
            ]
          },
          "metadata": {},
          "execution_count": 27
        }
      ]
    },
    {
      "cell_type": "markdown",
      "metadata": {
        "id": "O1nJQzdVqp3y"
      },
      "source": [
        "SeqRecord\n",
        "---------"
      ]
    },
    {
      "cell_type": "code",
      "metadata": {
        "id": "RNKj7egAqp3y",
        "outputId": "199a1208-d91e-4b7f-ebac-f2fb3ad07387",
        "colab": {
          "base_uri": "https://localhost:8080/"
        }
      },
      "source": [
        "from Bio.SeqRecord import SeqRecord\n",
        "SeqRecord(seq, id='001', name='MHC gene')"
      ],
      "execution_count": 28,
      "outputs": [
        {
          "output_type": "execute_result",
          "data": {
            "text/plain": [
              "SeqRecord(seq=Seq('CCGGGTTAACGTA'), id='001', name='MHC gene', description='<unknown description>', dbxrefs=[])"
            ]
          },
          "metadata": {},
          "execution_count": 28
        }
      ]
    },
    {
      "cell_type": "code",
      "metadata": {
        "id": "9R3Df-IMqp30",
        "outputId": "97e349f9-505b-4625-d869-cd3036e275ef",
        "colab": {
          "base_uri": "https://localhost:8080/"
        }
      },
      "source": [
        "from Bio.SeqRecord import SeqRecord\n",
        "from Bio.Seq import Seq\n",
        "rec = SeqRecord(Seq('mdstnvrsgmksrkkkpkttvidddddcmtcsacqs'\n",
        "                        'klvkisditkvsldyintmrgntlacaacgsslkll'),\n",
        "                id = 'P20994.1', name = 'P20994',\n",
        "                description = 'Protein A19',\n",
        "                dbxrefs = ['Pfam:PF05077', 'InterPro:IPR007769',\n",
        "                           'DIP:2186N'])\n",
        "rec.annotations['note'] = 'A simple note'\n",
        "print(rec)"
      ],
      "execution_count": 29,
      "outputs": [
        {
          "output_type": "stream",
          "name": "stdout",
          "text": [
            "ID: P20994.1\n",
            "Name: P20994\n",
            "Description: Protein A19\n",
            "Database cross-references: Pfam:PF05077, InterPro:IPR007769, DIP:2186N\n",
            "Number of features: 0\n",
            "/note=A simple note\n",
            "Seq('mdstnvrsgmksrkkkpkttvidddddcmtcsacqsklvkisditkvsldyint...kll')\n"
          ]
        }
      ]
    },
    {
      "cell_type": "markdown",
      "metadata": {
        "id": "SG4-H9Upqp33"
      },
      "source": [
        "Align\n",
        "-----"
      ]
    },
    {
      "cell_type": "markdown",
      "metadata": {
        "id": "PmI2oP3Gqp33"
      },
      "source": [
        "**Listing 9.1:** Using Align module"
      ]
    },
    {
      "cell_type": "code",
      "metadata": {
        "id": "SLZ_u00Nqp34",
        "outputId": "ba7efa38-4720-4f90-a291-35629f3cad3f",
        "colab": {
          "base_uri": "https://localhost:8080/"
        }
      },
      "source": [
        "from Bio.Align import MultipleSeqAlignment\n",
        "from Bio.Seq import Seq\n",
        "from Bio.SeqRecord import SeqRecord\n",
        "\n",
        "seq1 = 'MHQAIFIYQIGYPLKSGYIQSIRSPEYDNW'\n",
        "seq2 = 'MH--IFIYQIGYALKSGYIQSIRSPEY-NW'\n",
        "seq_rec_1 = SeqRecord(Seq(seq1), id = 'asp')\n",
        "seq_rec_2 = SeqRecord(Seq(seq2), id = 'unk')\n",
        "align = MultipleSeqAlignment([seq_rec_1, seq_rec_2])\n",
        "print(align)"
      ],
      "execution_count": 30,
      "outputs": [
        {
          "output_type": "stream",
          "name": "stdout",
          "text": [
            "Alignment with 2 rows and 30 columns\n",
            "MHQAIFIYQIGYPLKSGYIQSIRSPEYDNW asp\n",
            "MH--IFIYQIGYALKSGYIQSIRSPEY-NW unk\n"
          ]
        }
      ]
    },
    {
      "cell_type": "code",
      "metadata": {
        "id": "AYZT2O-Uqp38",
        "outputId": "e495cea8-6230-43e0-d823-5809a4dadf28",
        "colab": {
          "base_uri": "https://localhost:8080/"
        }
      },
      "source": [
        "seq3 = 'M---IFIYQIGYAAKSGYIQSIRSPEY--W'\n",
        "seq_rec_3 = SeqRecord(Seq(seq3), id = 'cas')\n",
        "align.extend([seq_rec_3])\n",
        "print(align)"
      ],
      "execution_count": 31,
      "outputs": [
        {
          "output_type": "stream",
          "name": "stdout",
          "text": [
            "Alignment with 3 rows and 30 columns\n",
            "MHQAIFIYQIGYPLKSGYIQSIRSPEYDNW asp\n",
            "MH--IFIYQIGYALKSGYIQSIRSPEY-NW unk\n",
            "M---IFIYQIGYAAKSGYIQSIRSPEY--W cas\n"
          ]
        }
      ]
    },
    {
      "cell_type": "code",
      "metadata": {
        "scrolled": true,
        "id": "Bn4kmannqp3_",
        "outputId": "9e1276fe-6d14-4ad7-df00-31891b537fc2",
        "colab": {
          "base_uri": "https://localhost:8080/"
        }
      },
      "source": [
        "align[0]"
      ],
      "execution_count": 32,
      "outputs": [
        {
          "output_type": "execute_result",
          "data": {
            "text/plain": [
              "SeqRecord(seq=Seq('MHQAIFIYQIGYPLKSGYIQSIRSPEYDNW'), id='asp', name='<unknown name>', description='<unknown description>', dbxrefs=[])"
            ]
          },
          "metadata": {},
          "execution_count": 32
        }
      ]
    },
    {
      "cell_type": "code",
      "metadata": {
        "id": "De_AlJ-Vqp4B",
        "outputId": "a7b8fc87-199a-4170-ae4d-74ca437dc965",
        "colab": {
          "base_uri": "https://localhost:8080/"
        }
      },
      "source": [
        "print(align[:2,5:11])"
      ],
      "execution_count": 33,
      "outputs": [
        {
          "output_type": "stream",
          "name": "stdout",
          "text": [
            "Alignment with 2 rows and 6 columns\n",
            "FIYQIG asp\n",
            "FIYQIG unk\n"
          ]
        }
      ]
    },
    {
      "cell_type": "code",
      "metadata": {
        "id": "KxCrCx7Qqp4D",
        "outputId": "72ce5c5b-8fa4-4b39-d3bc-caa223897fe9",
        "colab": {
          "base_uri": "https://localhost:8080/"
        }
      },
      "source": [
        "len(align)"
      ],
      "execution_count": 34,
      "outputs": [
        {
          "output_type": "execute_result",
          "data": {
            "text/plain": [
              "3"
            ]
          },
          "metadata": {},
          "execution_count": 34
        }
      ]
    },
    {
      "cell_type": "code",
      "metadata": {
        "id": "oU_vXv7Nqp4F",
        "outputId": "a5130607-115d-4339-a35c-5eca056a068b",
        "colab": {
          "base_uri": "https://localhost:8080/"
        }
      },
      "source": [
        "from Bio.SeqUtils.ProtParam import ProteinAnalysis\n",
        "for seq in align:\n",
        "    print(ProteinAnalysis(str(seq.seq)).isoelectric_point())"
      ],
      "execution_count": 35,
      "outputs": [
        {
          "output_type": "stream",
          "name": "stdout",
          "text": [
            "6.504165458679199\n",
            "8.160295295715333\n",
            "8.13856945037842\n"
          ]
        }
      ]
    },
    {
      "cell_type": "markdown",
      "metadata": {
        "id": "m4ISH0ZOqp4H"
      },
      "source": [
        "AlignIO\n",
        "--------"
      ]
    },
    {
      "cell_type": "code",
      "metadata": {
        "scrolled": false,
        "id": "68pwth3-qp4K",
        "outputId": "08bee5fa-a1c6-4436-c8ca-0a4c0c4a3e55",
        "colab": {
          "base_uri": "https://localhost:8080/"
        }
      },
      "source": [
        "from Bio import AlignIO\n",
        "align = AlignIO.read('samples/cas9align.fasta', 'fasta')\n",
        "print(align)"
      ],
      "execution_count": 36,
      "outputs": [
        {
          "output_type": "stream",
          "name": "stdout",
          "text": [
            "Alignment with 8 rows and 1407 columns\n",
            "MDKKYSIGLDIGTNSVGWAVITDDYKVPSKKFKVLGNTDRHSIK...GGD J7M7J1\n",
            "MDKKYSIGLDIGTNSVGWAVITDDYKVPSKKFKVLGNTDRHSIK...GGD A0A0C6FZC2\n",
            "MDKKYSIGLDIGTNSVGWAVITDDYKVPSKKFKVLGNTDRHSIK...GGD A0A1C2CVQ9\n",
            "MDKKYSIGLDIGTNSVGWAVITDDYKVPSKKFKVLGNTDRHSIK...GGD A0A1C2CV43\n",
            "MDKKYSIGLDIGTNSVGWAVITDDYKVPSKKFKVLGNTDRHSIK...GGD Q48TU5\n",
            "MDKKYSIGLDIGTNSVGWAVITDDYKVPSKKFKVLGNTDRHSIK...GGD M4YX12\n",
            "MKKPYSIGLDIGTNSVGWAVVTDDYKVPAKKMKVLGNTDKSHIK...GGD A0A0E2EP65\n",
            "--------------------------------------------...GED A0A150NVN1\n"
          ]
        }
      ]
    },
    {
      "cell_type": "code",
      "metadata": {
        "id": "lIWBaumLqp4M",
        "outputId": "e75dbf17-de6a-4eba-8ab7-f53211cb5ede",
        "colab": {
          "base_uri": "https://localhost:8080/"
        }
      },
      "source": [
        "from Bio import AlignIO\n",
        "for alignment in AlignIO.parse('samples/example.aln', 'clustal'):\n",
        "    print(len(alignment))"
      ],
      "execution_count": 37,
      "outputs": [
        {
          "output_type": "stream",
          "name": "stdout",
          "text": [
            "6\n"
          ]
        }
      ]
    },
    {
      "cell_type": "code",
      "metadata": {
        "id": "GZ3AG068qp4O",
        "outputId": "1978e717-ebec-48f0-97d8-bd23b0e2410f",
        "colab": {
          "base_uri": "https://localhost:8080/"
        }
      },
      "source": [
        "from Bio import AlignIO\n",
        "AlignIO.convert(open('samples/cas9align.fasta'), 'fasta', 'cas9align.aln', 'clustal')"
      ],
      "execution_count": 38,
      "outputs": [
        {
          "output_type": "execute_result",
          "data": {
            "text/plain": [
              "1"
            ]
          },
          "metadata": {},
          "execution_count": 38
        }
      ]
    },
    {
      "cell_type": "markdown",
      "metadata": {
        "id": "M6GTvktLqp4Q"
      },
      "source": [
        "AlignInfo\n",
        "---------"
      ]
    },
    {
      "cell_type": "code",
      "metadata": {
        "id": "HGNSCA_gqp4Q"
      },
      "source": [
        "from Bio import AlignIO\n",
        "from Bio.Align.AlignInfo import SummaryInfo\n",
        "\n",
        "align = AlignIO.read('samples/cas9align.fasta', 'fasta')\n",
        "summary = SummaryInfo(align)\n",
        "#print(summary.information_content())"
      ],
      "execution_count": 39,
      "outputs": []
    },
    {
      "cell_type": "code",
      "metadata": {
        "id": "m51_r8ZOqp4d",
        "outputId": "8349c860-1732-465d-e116-e706df0c3a80",
        "colab": {
          "base_uri": "https://localhost:8080/"
        }
      },
      "source": [
        "from Bio.Align.Applications import ClustalwCommandline\n",
        "clustalw_exe = 'clustalw2'\n",
        "ccli = ClustalwCommandline(clustalw_exe, infile=\"samples/input4align.fasta\", outfile='../../aoutput.aln')\n",
        "print(ccli)\n"
      ],
      "execution_count": 40,
      "outputs": [
        {
          "output_type": "stream",
          "name": "stdout",
          "text": [
            "clustalw2 -infile=samples/input4align.fasta -outfile=../../aoutput.aln\n"
          ]
        }
      ]
    },
    {
      "cell_type": "markdown",
      "metadata": {
        "id": "eqotUPQNqp4x"
      },
      "source": [
        "SeqIO\n",
        "----------\n"
      ]
    },
    {
      "cell_type": "code",
      "metadata": {
        "id": "ffGJiw_dqp4x",
        "outputId": "21a66580-69fc-43a2-bc4f-5c5866e89d7b",
        "colab": {
          "base_uri": "https://localhost:8080/"
        }
      },
      "source": [
        "from Bio import SeqIO\n",
        "f_in = open('samples/a19.gp')\n",
        "seq = SeqIO.parse(f_in, 'genbank')\n",
        "next(seq)"
      ],
      "execution_count": 41,
      "outputs": [
        {
          "output_type": "execute_result",
          "data": {
            "text/plain": [
              "SeqRecord(seq=Seq('MGHHHHHHHHHHSSGHIDDDDKHMLEMDSTNVRSGMKSRKKKPKTTVIDDDDDC...FAS'), id='AAX78491.1', name='AAX78491', description='unknown [synthetic construct]', dbxrefs=[])"
            ]
          },
          "metadata": {},
          "execution_count": 41
        }
      ]
    },
    {
      "cell_type": "code",
      "metadata": {
        "id": "kNMD2TRMqp4y",
        "outputId": "ba29e95e-73f5-489a-8a69-26f0dd166ce8",
        "colab": {
          "base_uri": "https://localhost:8080/"
        }
      },
      "source": [
        "f_in = open('samples/a19.gp')\n",
        "SeqIO.read(f_in, 'genbank')"
      ],
      "execution_count": 42,
      "outputs": [
        {
          "output_type": "execute_result",
          "data": {
            "text/plain": [
              "SeqRecord(seq=Seq('MGHHHHHHHHHHSSGHIDDDDKHMLEMDSTNVRSGMKSRKKKPKTTVIDDDDDC...FAS'), id='AAX78491.1', name='AAX78491', description='unknown [synthetic construct]', dbxrefs=[])"
            ]
          },
          "metadata": {},
          "execution_count": 42
        }
      ]
    },
    {
      "cell_type": "markdown",
      "metadata": {
        "id": "vrDkIkMRqp41"
      },
      "source": [
        "**Listing 9.2:** readfasta.py: Read a FASTA file"
      ]
    },
    {
      "cell_type": "code",
      "metadata": {
        "id": "w8zVOYegqp42",
        "outputId": "29425b7c-829d-447c-a196-57fef184f6c3",
        "colab": {
          "base_uri": "https://localhost:8080/"
        }
      },
      "source": [
        "from Bio import SeqIO\n",
        "\n",
        "FILE_IN = 'samples/3seqs.fas'\n",
        "\n",
        "with open(FILE_IN) as fh:\n",
        "    for record in SeqIO.parse(fh, 'fasta'):\n",
        "        id_ = record.id\n",
        "        seq = record.seq\n",
        "        print('Name: {0}, size: {1}'.format(id_, len(seq)))"
      ],
      "execution_count": 43,
      "outputs": [
        {
          "output_type": "stream",
          "name": "stdout",
          "text": [
            "Name: Protein-X, size: 38\n",
            "Name: Protein-Y, size: 62\n",
            "Name: Protein-Z, size: 60\n"
          ]
        }
      ]
    },
    {
      "cell_type": "markdown",
      "metadata": {
        "id": "UDU5bIWbqp43"
      },
      "source": [
        "**Listing 9.3:** rwfasta.py: Read a file and write it as a FASTA sequence"
      ]
    },
    {
      "cell_type": "code",
      "metadata": {
        "id": "-KkemlD2qp44"
      },
      "source": [
        "from Bio import SeqIO\n",
        "from Bio.Seq import Seq\n",
        "from Bio.SeqRecord import SeqRecord\n",
        "with open('samples/NC2033.txt') as fh:\n",
        "    with open('NC2033.fasta','w') as f_out:\n",
        "        rawseq = fh.read().replace('\\n','')\n",
        "        record = (SeqRecord(Seq(rawseq),'NC2033.txt','',''),)\n",
        "        SeqIO.write(record, f_out,'fasta')"
      ],
      "execution_count": 44,
      "outputs": []
    },
    {
      "cell_type": "code",
      "metadata": {
        "id": "lmQX8dBdqp47"
      },
      "source": [
        "from Bio import SeqIO\n",
        "fo_handle = open('myseqs.fasta','w')\n",
        "readseq = SeqIO.parse(open('samples/NC_006581.gb'), 'genbank')\n",
        "SeqIO.write(readseq, fo_handle, \"fasta\")\n",
        "fo_handle.close()"
      ],
      "execution_count": 45,
      "outputs": []
    },
    {
      "cell_type": "code",
      "metadata": {
        "id": "qZZLfkJ8qp49",
        "outputId": "5b02b45c-c8f4-4df4-ebd6-8efbf295c5e8",
        "colab": {
          "base_uri": "https://localhost:8080/"
        }
      },
      "source": [
        "from Bio import AlignIO\n",
        "fn = open('samples/example.aln')\n",
        "align = AlignIO.read(fn, 'clustal')\n",
        "print(align)"
      ],
      "execution_count": 46,
      "outputs": [
        {
          "output_type": "stream",
          "name": "stdout",
          "text": [
            "Alignment with 6 rows and 2122 columns\n",
            "----------------------ATAAATAAAATTAGAATAATCA...CGG NM_001336383.1\n",
            "ATTAAAATGCCTGAAAACAAAAATAAATAAAAATAGTATAATCA...--- XM_021028935.1\n",
            "--------------------------------------------...--- BX819879.1\n",
            "--------------------------------------------...--- XM_010511758.2\n",
            "--------------------------------------------...--- NM_001315700.1\n",
            "--------------------------------------------...--- XM_006417978.1\n"
          ]
        }
      ]
    },
    {
      "cell_type": "markdown",
      "metadata": {
        "id": "v8NNXv7Rqp4_"
      },
      "source": [
        "**Listing 9.4:** Alignments"
      ]
    },
    {
      "cell_type": "code",
      "metadata": {
        "id": "bGlKW7e9qp4_"
      },
      "source": [
        "fi = open('samples/example.aln')\n",
        "with open('samples/example.phy', 'w') as fo:\n",
        "    align = AlignIO.read(fi, 'clustal')\n",
        "    AlignIO.write([align], fo, 'phylip')"
      ],
      "execution_count": 47,
      "outputs": []
    },
    {
      "cell_type": "markdown",
      "source": [],
      "metadata": {
        "id": "kqJ3GR1z8Jro"
      }
    },
    {
      "cell_type": "markdown",
      "metadata": {
        "collapsed": false,
        "id": "AgRRZ5Fkqp5g"
      },
      "source": [
        "eUtils: Retrieving Bibliography\n",
        "-----------"
      ]
    },
    {
      "cell_type": "markdown",
      "metadata": {
        "collapsed": false,
        "id": "hvdsa_JMqp5g"
      },
      "source": [
        "**Listing 9.12:** entrez1.py: Retrieve and display data from PubMed"
      ]
    },
    {
      "cell_type": "code",
      "metadata": {
        "id": "VjdaoKT8qp5g",
        "outputId": "23b5c6c6-f9de-40b1-8be0-e38551d1c5c5",
        "colab": {
          "base_uri": "https://localhost:8080/"
        }
      },
      "source": [
        "from Bio import Entrez\n",
        "my_em = 'user@example.com'\n",
        "db = \"pubmed\"\n",
        "# Search de Entrez website using esearch from eUtils\n",
        "# esearch returns a handle (called h_search)\n",
        "h_search = Entrez.esearch(db=db, email=my_em,\n",
        "                         term='python and bioinformatics')\n",
        "# Parse the result with Entrez.read()\n",
        "record = Entrez.read(h_search)\n",
        "# Get the list of Ids returned by previous search\n",
        "res_ids = record[\"IdList\"]\n",
        "# For each id in the list\n",
        "for r_id in res_ids:\n",
        "   # Get summary information for each id\n",
        "   h_summ = Entrez.esummary(db=db, id=r_id, email=my_em)\n",
        "   # Parse the result with Entrez.read()\n",
        "   summ = Entrez.read(h_summ)\n",
        "   print(summ[0]['Title'])\n",
        "   print(summ[0]['DOI'])\n",
        "   print('==============================================')"
      ],
      "execution_count": 48,
      "outputs": [
        {
          "output_type": "stream",
          "name": "stdout",
          "text": [
            "EcoTransLearn: an R-package to easily use Transfer Learning for Ecological Studies. A plankton case study.\n",
            "10.1093/bioinformatics/btac703\n",
            "==============================================\n",
            "DADApy: Distance-based analysis of data-manifolds in Python.\n",
            "10.1016/j.patter.2022.100589\n",
            "==============================================\n",
            "DeepPerVar: a multimodal deep learning framework for functional interpretation of genetic variants in personal genome.\n",
            "10.1093/bioinformatics/btac696\n",
            "==============================================\n",
            "CRISPRon/off: CRISPR/Cas9 on- and off-target gRNA design.\n",
            "10.1093/bioinformatics/btac697\n",
            "==============================================\n",
            "A microfluidic Braille valve platform for on-demand production, combinatorial screening and sorting of chemically distinct droplets.\n",
            "10.1038/s41596-022-00740-4\n",
            "==============================================\n",
            "ATLIGATOR: Editing protein interactions with an atlas-based approach.\n",
            "10.1093/bioinformatics/btac685\n",
            "==============================================\n",
            "Pfeature: A Tool for Computing Wide Range of Protein Features and Building Prediction Models.\n",
            "10.1089/cmb.2022.0241\n",
            "==============================================\n",
            "scGNN 2.0: a graph neural network tool for imputation and clustering of single-cell RNA-Seq data.\n",
            "10.1093/bioinformatics/btac684\n",
            "==============================================\n",
            "ifCNV: A novel isolation-forest-based package to detect copy-number variations from various targeted NGS datasets.\n",
            "10.1016/j.omtn.2022.09.009\n",
            "==============================================\n",
            "The Cancermuts software package for the prioritization of missense cancer variants: a case study of AMBRA1 in melanoma.\n",
            "10.1038/s41419-022-05318-2\n",
            "==============================================\n",
            "SurviveAI: Long Term Survival Prediction of Cancer Patients Based on Somatic RNA-Seq Expression.\n",
            "10.1177/11769351221127875\n",
            "==============================================\n",
            "Envemind: Accurate Monoisotopic Mass Determination Based On Isotopic Envelope.\n",
            "10.1021/jasms.2c00176\n",
            "==============================================\n",
            "GTDB-Tk v2: memory friendly classification with the Genome Taxonomy Database.\n",
            "10.1093/bioinformatics/btac672\n",
            "==============================================\n",
            "Tree2GD: A Phylogenomic Method to Detect Large Scale Gene Duplication Events.\n",
            "10.1093/bioinformatics/btac669\n",
            "==============================================\n",
            "MSNet-4mC: Learning effective multi-scale representations for identifying DNA N4-methylcytosine sites.\n",
            "10.1093/bioinformatics/btac671\n",
            "==============================================\n",
            "Karyon: a computational framework for the diagnosis of hybrids, aneuploids, and other nonstandard architectures in genome assemblies.\n",
            "10.1093/gigascience/giac088\n",
            "==============================================\n",
            "Kernel Mixed Model for Transcriptome Association Study.\n",
            "10.1089/cmb.2022.0280\n",
            "==============================================\n",
            "Top-Down Crawl: A method for the ultra-rapid and motif-free alignment of sequences with associated binding metrics.\n",
            "10.1093/bioinformatics/btac653\n",
            "==============================================\n",
            "mHapTk: A comprehensive toolkit for the analysis of DNA methylation haplotypes.\n",
            "10.1093/bioinformatics/btac650\n",
            "==============================================\n",
            "Singular value decomposition of protein sequences as a method to visualize sequence and residue space.\n",
            "10.1002/pro.4422\n",
            "==============================================\n"
          ]
        }
      ]
    },
    {
      "cell_type": "markdown",
      "source": [],
      "metadata": {
        "id": "JPAPnKUN8ErI"
      }
    },
    {
      "cell_type": "markdown",
      "source": [],
      "metadata": {
        "id": "1G93oQgd8Euf"
      }
    },
    {
      "cell_type": "markdown",
      "source": [],
      "metadata": {
        "id": "Fmf6L3yT8ExP"
      }
    },
    {
      "cell_type": "markdown",
      "metadata": {
        "collapsed": false,
        "id": "8Vrp1BGeqp5i"
      },
      "source": [
        "eUtils: Retrieving Gene Information\n",
        "-------------------"
      ]
    },
    {
      "cell_type": "markdown",
      "metadata": {
        "collapsed": false,
        "id": "Hn94DqlMqp5i"
      },
      "source": [
        "**Listing 9.13:** entrez2.py: Retrieve and display data from PubMed"
      ]
    },
    {
      "cell_type": "code",
      "metadata": {
        "id": "ngN2Pu_zqp5j",
        "outputId": "fe25cbc0-08a8-4ff3-8684-762f0f9a3b8b",
        "colab": {
          "base_uri": "https://localhost:8080/"
        }
      },
      "source": [
        "from Bio import Entrez\n",
        "my_em = 'user@example.com'\n",
        "db = \"gene\"\n",
        "term = 'cobalamin synthase homo sapiens'\n",
        "h_search = Entrez.esearch(db=db, email=my_em, term=term)\n",
        "record = Entrez.read(h_search)\n",
        "res_ids = record[\"IdList\"]\n",
        "for r_id in res_ids:\n",
        "   h_summ = Entrez.esummary(db=db, id=r_id, email=my_em)\n",
        "   s = Entrez.read(h_summ)\n",
        "   print(r_id)\n",
        "   name = s['DocumentSummarySet']['DocumentSummary'][0]['Name']\n",
        "   print(name)\n",
        "   su = s['DocumentSummarySet']['DocumentSummary'][0]['Summary']\n",
        "   print(su)\n",
        "   print('==============================================')"
      ],
      "execution_count": 49,
      "outputs": [
        {
          "output_type": "stream",
          "name": "stdout",
          "text": [
            "4524\n",
            "MTHFR\n",
            "The protein encoded by this gene catalyzes the conversion of 5,10-methylenetetrahydrofolate to 5-methyltetrahydrofolate, a co-substrate for homocysteine remethylation to methionine. Genetic variation in this gene influences susceptibility to occlusive vascular disease, neural tube defects, colon cancer and acute leukemia, and mutations in this gene are associated with methylenetetrahydrofolate reductase deficiency.[provided by RefSeq, Oct 2009]\n",
            "==============================================\n",
            "672\n",
            "BRCA1\n",
            "This gene encodes a 190 kD nuclear phosphoprotein that plays a role in maintaining genomic stability, and it also acts as a tumor suppressor. The BRCA1 gene contains 22 exons spanning about 110 kb of DNA. The encoded protein combines with other tumor suppressors, DNA damage sensors, and signal transducers to form a large multi-subunit protein complex known as the BRCA1-associated genome surveillance complex (BASC). This gene product associates with RNA polymerase II, and through the C-terminal domain, also interacts with histone deacetylase complexes. This protein thus plays a role in transcription, DNA repair of double-stranded breaks, and recombination. Mutations in this gene are responsible for approximately 40% of inherited breast cancers and more than 80% of inherited breast and ovarian cancers. Alternative splicing plays a role in modulating the subcellular localization and physiological function of this gene. Many alternatively spliced transcript variants, some of which are disease-associated mutations, have been described for this gene, but the full-length natures of only some of these variants has been described. A related pseudogene, which is also located on chromosome 17, has been identified. [provided by RefSeq, May 2020]\n",
            "==============================================\n",
            "4780\n",
            "NFE2L2\n",
            "This gene encodes a transcription factor which is a member of a small family of basic leucine zipper (bZIP) proteins. The encoded transcription factor regulates genes which contain antioxidant response elements (ARE) in their promoters; many of these genes encode proteins involved in response to injury and inflammation which includes the production of free radicals. Multiple transcript variants encoding different isoforms have been characterized for this gene. [provided by RefSeq, Sep 2015]\n",
            "==============================================\n",
            "1950\n",
            "EGF\n",
            "This gene encodes a member of the epidermal growth factor superfamily. The encoded preproprotein is proteolytically processed to generate the 53-amino acid epidermal growth factor peptide. This protein acts a potent mitogenic factor that plays an important role in the growth, proliferation and differentiation of numerous cell types. This protein acts by binding with high affinity to the cell surface receptor, epidermal growth factor receptor. Defects in this gene are the cause of hypomagnesemia type 4. Dysregulation of this gene has been associated with the growth and progression of certain cancers. Alternative splicing results in multiple transcript variants, at least one of which encodes a preproprotein that is proteolytically processed. [provided by RefSeq, Jan 2016]\n",
            "==============================================\n",
            "3066\n",
            "HDAC2\n",
            "This gene product belongs to the histone deacetylase family. Histone deacetylases act via the formation of large multiprotein complexes, and are responsible for the deacetylation of lysine residues at the N-terminal regions of core histones (H2A, H2B, H3 and H4). This protein forms transcriptional repressor complexes by associating with many different proteins, including YY1, a mammalian zinc-finger transcription factor. Thus, it plays an important role in transcriptional regulation, cell cycle progression and developmental events. Alternative splicing results in multiple transcript variants. [provided by RefSeq, Apr 2010]\n",
            "==============================================\n",
            "4363\n",
            "ABCC1\n",
            "The protein encoded by this gene is a member of the superfamily of ATP-binding cassette (ABC) transporters. ABC proteins transport various molecules across extra-and intra-cellular membranes. ABC genes are divided into seven distinct subfamilies (ABC1, MDR/TAP, MRP, ALD, OABP, GCN20, White). This full transporter is a member of the MRP subfamily which is involved in multi-drug resistance. This protein functions as a multispecific organic anion transporter, with oxidized glutatione, cysteinyl leukotrienes, and activated aflatoxin B1 as substrates. This protein also transports glucuronides and sulfate conjugates of steroid hormones and bile salts. Alternatively spliced variants of this gene have been described but their full-length nature is unknown. [provided by RefSeq, Apr 2012]\n",
            "==============================================\n",
            "4548\n",
            "MTR\n",
            "This gene encodes the 5-methyltetrahydrofolate-homocysteine methyltransferase. This enzyme, also known as cobalamin-dependent methionine synthase, catalyzes the final step in methionine biosynthesis. Mutations in MTR have been identified as the underlying cause of methylcobalamin deficiency complementation group G. Alternatively spliced transcript variants encoding distinct isoforms have been found for this gene. [provided by RefSeq, May 2014]\n",
            "==============================================\n",
            "10059\n",
            "DNM1L\n",
            "This gene encodes a member of the dynamin superfamily of GTPases. The encoded protein mediates mitochondrial and peroxisomal division, and is involved in developmentally regulated apoptosis and programmed necrosis. Dysfunction of this gene is implicated in several neurological disorders, including Alzheimer's disease. Mutations in this gene are associated with the autosomal dominant disorder, encephalopathy, lethal, due to defective mitochondrial and peroxisomal fission (EMPF). Alternative splicing results in multiple transcript variants encoding different isoforms. [provided by RefSeq, Jun 2013]\n",
            "==============================================\n",
            "4552\n",
            "MTRR\n",
            "This gene encodes a member of the ferredoxin-NADP(+) reductase (FNR) family of electron transferases. This protein functions in the synthesis of methionine by regenerating methionine synthase to a functional state. Because methionine synthesis requires methyl-group transfer by a folate donor, activity of the encoded enzyme is important for folate metabolism and cellular methylation. Mutations in this gene can cause homocystinuria-megaloblastic anemia, cbl E type. Alternative splicing of this gene results in multiple transcript variants. [provided by RefSeq, Dec 2015]\n",
            "==============================================\n",
            "5052\n",
            "PRDX1\n",
            "This gene encodes a member of the peroxiredoxin family of antioxidant enzymes, which reduce hydrogen peroxide and alkyl hydroperoxides. The encoded protein may play an antioxidant protective role in cells, and may contribute to the antiviral activity of CD8(+) T-cells. This protein may have a proliferative effect and play a role in cancer development or progression. Four transcript variants encoding the same protein have been identified for this gene. [provided by RefSeq, Jan 2011]\n",
            "==============================================\n",
            "6948\n",
            "TCN2\n",
            "This gene encodes a member of the vitamin B12-binding protein family. This family of proteins, alternatively referred to as R binders, is expressed in various tissues and secretions. This plasma protein binds cobalamin and mediates the transport of cobalamin into cells. This protein and other mammalian cobalamin-binding proteins, such as transcobalamin I and gastric intrisic factor, may have evolved by duplication of a common ancestral gene. Alternative splicing results in multiple transcript variants.[provided by RefSeq, May 2010]\n",
            "==============================================\n",
            "25974\n",
            "MMACHC\n",
            "The exact function of the protein encoded by this gene is not known, however, its C-terminal region shows similarity to TonB, a bacterial protein involved in energy transduction for cobalamin (vitamin B12) uptake. Hence, it is postulated that this protein may have a role in the binding and intracellular trafficking of cobalamin. Mutations in this gene are associated with methylmalonic aciduria and homocystinuria type cblC. [provided by RefSeq, Oct 2009]\n",
            "==============================================\n",
            "7702\n",
            "ZNF143\n",
            "Enables DNA-binding transcription activator activity, RNA polymerase II-specific and RNA polymerase II cis-regulatory region sequence-specific DNA binding activity. Involved in positive regulation of snRNA transcription by RNA polymerase II. Predicted to be located in nucleoplasm. [provided by Alliance of Genome Resources, Apr 2022]\n",
            "==============================================\n",
            "326625\n",
            "MMAB\n",
            "This gene encodes a protein that catalyzes the final step in the conversion of vitamin B(12) into adenosylcobalamin (AdoCbl), a vitamin B12-containing coenzyme for methylmalonyl-CoA mutase. Mutations in the gene are the cause of vitamin B12-dependent methylmalonic aciduria linked to the cblB complementation group. Alternatively spliced transcript variants have been found. [provided by RefSeq, Apr 2011]\n",
            "==============================================\n",
            "27249\n",
            "MMADHC\n",
            "This gene encodes a mitochondrial protein that is involved in an early step of vitamin B12 metabolism. Vitamin B12 (cobalamin) is essential for normal development and survival in humans. Mutations in this gene cause methylmalonic aciduria and homocystinuria type cblD (MMADHC), a disorder of cobalamin metabolism that is characterized by decreased levels of the coenzymes adenosylcobalamin and methylcobalamin. Pseudogenes have been identified on chromosomes 11 and X.[provided by RefSeq, Nov 2008]\n",
            "==============================================\n",
            "55871\n",
            "ZNG1A\n",
            "Predicted to enable ATP binding activity. Predicted to be active in cytoplasm. [provided by Alliance of Genome Resources, Apr 2022]\n",
            "==============================================\n",
            "171425\n",
            "CLYBL\n",
            "Enables (S)-citramalyl-CoA lyase activity; magnesium ion binding activity; and malate synthase activity. Involved in protein homotrimerization and regulation of cobalamin metabolic process. Predicted to be located in mitochondrion. Predicted to be integral component of membrane. [provided by Alliance of Genome Resources, Apr 2022]\n",
            "==============================================\n",
            "150472\n",
            "ZNG1B\n",
            "Predicted to enable ATP binding activity. Predicted to be active in cytoplasm. [provided by Alliance of Genome Resources, Apr 2022]\n",
            "==============================================\n",
            "80157\n",
            "CWH43\n",
            "Predicted to be involved in GPI anchor biosynthetic process. Predicted to be integral component of membrane. Predicted to be active in endoplasmic reticulum. [provided by Alliance of Genome Resources, Apr 2022]\n",
            "==============================================\n",
            "445571\n",
            "ZNG1C\n",
            "Predicted to enable ATP binding activity. Predicted to be active in cytoplasm. [provided by Alliance of Genome Resources, Apr 2022]\n",
            "==============================================\n"
          ]
        }
      ]
    },
    {
      "cell_type": "code",
      "metadata": {
        "id": "Ovhkeoreqp5k",
        "outputId": "867263a0-1767-458f-bb53-7250ba0e2233",
        "colab": {
          "base_uri": "https://localhost:8080/"
        }
      },
      "source": [
        "n = \"nucleotide\"\n",
        "handle = Entrez.efetch(db=n, id=\"326625\", rettype='fasta')\n",
        "print (handle.read())"
      ],
      "execution_count": 51,
      "outputs": [
        {
          "output_type": "stream",
          "name": "stdout",
          "text": [
            ">M77599.1 Human immunodeficiency virus type 1 gp120 (env) gene sequence\n",
            "TTAATAGTACTTGGAATTCAACATGGGATTTAACACAACTTAATAGTACTCAGAATAAAGAAGAAAATAT\n",
            "CACACTCCCATGTAGAATAAAACAAATTATAAACATGTGGCAGGAAGTAGGAAAAGCAATGTATGCCCCT\n",
            "CCCATCAAAGGACAAATTAAATGTTCATCAAATATTACAGGGCTACTATTAACAAGAGATGGTGGTAATA\n",
            "GTGGTAACAAAAGCAACGACACCACCGAGACCTTCAGACC\n",
            "\n",
            "\n"
          ]
        }
      ]
    },
    {
      "cell_type": "markdown",
      "source": [
        "### sars-cov-2 genbank"
      ],
      "metadata": {
        "id": "sD5bFVlMKOZU"
      }
    },
    {
      "cell_type": "code",
      "source": [
        "#n = \"nucleotide\"\n",
        "#handle = Entrez.efetch(db=n, id=\"NC_045512.2\", rettype='genbank')\n",
        "#print (handle.read())"
      ],
      "metadata": {
        "id": "NLEjOAIHJUEw"
      },
      "execution_count": 75,
      "outputs": []
    },
    {
      "cell_type": "code",
      "source": [
        "handle = Entrez.efetch (db = \"nucleotide\", rettype = 'gb', id = \"NC_045512.2\", retmode = 'text')\n",
        "#print(handle.read())\n",
        "record = SeqIO.read(handle, \"genbank\") # get the genbank file\n",
        "dna_seq = record.seq"
      ],
      "metadata": {
        "id": "mzCcqG_6JUH0"
      },
      "execution_count": 72,
      "outputs": []
    },
    {
      "cell_type": "code",
      "source": [
        "record.features"
      ],
      "metadata": {
        "id": "OHfCO9obONYN",
        "outputId": "f760363d-aa5c-40d0-dedc-8b3b68411d0d",
        "colab": {
          "base_uri": "https://localhost:8080/"
        }
      },
      "execution_count": 76,
      "outputs": [
        {
          "output_type": "execute_result",
          "data": {
            "text/plain": [
              "[SeqFeature(FeatureLocation(ExactPosition(0), ExactPosition(29903), strand=1), type='source'),\n",
              " SeqFeature(FeatureLocation(ExactPosition(0), ExactPosition(265), strand=1), type=\"5'UTR\"),\n",
              " SeqFeature(FeatureLocation(ExactPosition(265), ExactPosition(21555), strand=1), type='gene'),\n",
              " SeqFeature(CompoundLocation([FeatureLocation(ExactPosition(265), ExactPosition(13468), strand=1), FeatureLocation(ExactPosition(13467), ExactPosition(21555), strand=1)], 'join'), type='CDS', location_operator='join'),\n",
              " SeqFeature(FeatureLocation(ExactPosition(265), ExactPosition(805), strand=1), type='mat_peptide'),\n",
              " SeqFeature(FeatureLocation(ExactPosition(805), ExactPosition(2719), strand=1), type='mat_peptide'),\n",
              " SeqFeature(FeatureLocation(ExactPosition(2719), ExactPosition(8554), strand=1), type='mat_peptide'),\n",
              " SeqFeature(FeatureLocation(ExactPosition(8554), ExactPosition(10054), strand=1), type='mat_peptide'),\n",
              " SeqFeature(FeatureLocation(ExactPosition(10054), ExactPosition(10972), strand=1), type='mat_peptide'),\n",
              " SeqFeature(FeatureLocation(ExactPosition(10972), ExactPosition(11842), strand=1), type='mat_peptide'),\n",
              " SeqFeature(FeatureLocation(ExactPosition(11842), ExactPosition(12091), strand=1), type='mat_peptide'),\n",
              " SeqFeature(FeatureLocation(ExactPosition(12091), ExactPosition(12685), strand=1), type='mat_peptide'),\n",
              " SeqFeature(FeatureLocation(ExactPosition(12685), ExactPosition(13024), strand=1), type='mat_peptide'),\n",
              " SeqFeature(FeatureLocation(ExactPosition(13024), ExactPosition(13441), strand=1), type='mat_peptide'),\n",
              " SeqFeature(CompoundLocation([FeatureLocation(ExactPosition(13441), ExactPosition(13468), strand=1), FeatureLocation(ExactPosition(13467), ExactPosition(16236), strand=1)], 'join'), type='mat_peptide', location_operator='join'),\n",
              " SeqFeature(FeatureLocation(ExactPosition(16236), ExactPosition(18039), strand=1), type='mat_peptide'),\n",
              " SeqFeature(FeatureLocation(ExactPosition(18039), ExactPosition(19620), strand=1), type='mat_peptide'),\n",
              " SeqFeature(FeatureLocation(ExactPosition(19620), ExactPosition(20658), strand=1), type='mat_peptide'),\n",
              " SeqFeature(FeatureLocation(ExactPosition(20658), ExactPosition(21552), strand=1), type='mat_peptide'),\n",
              " SeqFeature(FeatureLocation(ExactPosition(265), ExactPosition(13483), strand=1), type='CDS'),\n",
              " SeqFeature(FeatureLocation(ExactPosition(265), ExactPosition(805), strand=1), type='mat_peptide'),\n",
              " SeqFeature(FeatureLocation(ExactPosition(805), ExactPosition(2719), strand=1), type='mat_peptide'),\n",
              " SeqFeature(FeatureLocation(ExactPosition(2719), ExactPosition(8554), strand=1), type='mat_peptide'),\n",
              " SeqFeature(FeatureLocation(ExactPosition(8554), ExactPosition(10054), strand=1), type='mat_peptide'),\n",
              " SeqFeature(FeatureLocation(ExactPosition(10054), ExactPosition(10972), strand=1), type='mat_peptide'),\n",
              " SeqFeature(FeatureLocation(ExactPosition(10972), ExactPosition(11842), strand=1), type='mat_peptide'),\n",
              " SeqFeature(FeatureLocation(ExactPosition(11842), ExactPosition(12091), strand=1), type='mat_peptide'),\n",
              " SeqFeature(FeatureLocation(ExactPosition(12091), ExactPosition(12685), strand=1), type='mat_peptide'),\n",
              " SeqFeature(FeatureLocation(ExactPosition(12685), ExactPosition(13024), strand=1), type='mat_peptide'),\n",
              " SeqFeature(FeatureLocation(ExactPosition(13024), ExactPosition(13441), strand=1), type='mat_peptide'),\n",
              " SeqFeature(FeatureLocation(ExactPosition(13441), ExactPosition(13480), strand=1), type='mat_peptide'),\n",
              " SeqFeature(FeatureLocation(ExactPosition(13475), ExactPosition(13503), strand=1), type='stem_loop'),\n",
              " SeqFeature(FeatureLocation(ExactPosition(13487), ExactPosition(13542), strand=1), type='stem_loop'),\n",
              " SeqFeature(FeatureLocation(ExactPosition(21562), ExactPosition(25384), strand=1), type='gene'),\n",
              " SeqFeature(FeatureLocation(ExactPosition(21562), ExactPosition(25384), strand=1), type='CDS'),\n",
              " SeqFeature(FeatureLocation(ExactPosition(25392), ExactPosition(26220), strand=1), type='gene'),\n",
              " SeqFeature(FeatureLocation(ExactPosition(25392), ExactPosition(26220), strand=1), type='CDS'),\n",
              " SeqFeature(FeatureLocation(ExactPosition(26244), ExactPosition(26472), strand=1), type='gene'),\n",
              " SeqFeature(FeatureLocation(ExactPosition(26244), ExactPosition(26472), strand=1), type='CDS'),\n",
              " SeqFeature(FeatureLocation(ExactPosition(26522), ExactPosition(27191), strand=1), type='gene'),\n",
              " SeqFeature(FeatureLocation(ExactPosition(26522), ExactPosition(27191), strand=1), type='CDS'),\n",
              " SeqFeature(FeatureLocation(ExactPosition(27201), ExactPosition(27387), strand=1), type='gene'),\n",
              " SeqFeature(FeatureLocation(ExactPosition(27201), ExactPosition(27387), strand=1), type='CDS'),\n",
              " SeqFeature(FeatureLocation(ExactPosition(27393), ExactPosition(27759), strand=1), type='gene'),\n",
              " SeqFeature(FeatureLocation(ExactPosition(27393), ExactPosition(27759), strand=1), type='CDS'),\n",
              " SeqFeature(FeatureLocation(ExactPosition(27755), ExactPosition(27887), strand=1), type='gene'),\n",
              " SeqFeature(FeatureLocation(ExactPosition(27755), ExactPosition(27887), strand=1), type='CDS'),\n",
              " SeqFeature(FeatureLocation(ExactPosition(27893), ExactPosition(28259), strand=1), type='gene'),\n",
              " SeqFeature(FeatureLocation(ExactPosition(27893), ExactPosition(28259), strand=1), type='CDS'),\n",
              " SeqFeature(FeatureLocation(ExactPosition(28273), ExactPosition(29533), strand=1), type='gene'),\n",
              " SeqFeature(FeatureLocation(ExactPosition(28273), ExactPosition(29533), strand=1), type='CDS'),\n",
              " SeqFeature(FeatureLocation(ExactPosition(29557), ExactPosition(29674), strand=1), type='gene'),\n",
              " SeqFeature(FeatureLocation(ExactPosition(29557), ExactPosition(29674), strand=1), type='CDS'),\n",
              " SeqFeature(FeatureLocation(ExactPosition(29608), ExactPosition(29644), strand=1), type='stem_loop'),\n",
              " SeqFeature(FeatureLocation(ExactPosition(29628), ExactPosition(29657), strand=1), type='stem_loop'),\n",
              " SeqFeature(FeatureLocation(ExactPosition(29674), ExactPosition(29903), strand=1), type=\"3'UTR\"),\n",
              " SeqFeature(FeatureLocation(ExactPosition(29727), ExactPosition(29768), strand=1), type='stem_loop')]"
            ]
          },
          "metadata": {},
          "execution_count": 76
        }
      ]
    },
    {
      "cell_type": "code",
      "source": [
        "#record = SeqIO.read(\"NC_045512.gb\", \"genbank\") # get the genbank file\n",
        "#dna_seq = record.seq\n",
        "\n",
        "CDSs = [feature for feature in record.features if feature.type == \"CDS\"] #Collect coding sequences\n",
        "len(CDSs)\n",
        "CDSs"
      ],
      "metadata": {
        "id": "KMZv7XS_ONbW",
        "outputId": "6378aae1-8548-4b57-906b-76ef367e84d3",
        "colab": {
          "base_uri": "https://localhost:8080/"
        }
      },
      "execution_count": 77,
      "outputs": [
        {
          "output_type": "execute_result",
          "data": {
            "text/plain": [
              "[SeqFeature(CompoundLocation([FeatureLocation(ExactPosition(265), ExactPosition(13468), strand=1), FeatureLocation(ExactPosition(13467), ExactPosition(21555), strand=1)], 'join'), type='CDS', location_operator='join'),\n",
              " SeqFeature(FeatureLocation(ExactPosition(265), ExactPosition(13483), strand=1), type='CDS'),\n",
              " SeqFeature(FeatureLocation(ExactPosition(21562), ExactPosition(25384), strand=1), type='CDS'),\n",
              " SeqFeature(FeatureLocation(ExactPosition(25392), ExactPosition(26220), strand=1), type='CDS'),\n",
              " SeqFeature(FeatureLocation(ExactPosition(26244), ExactPosition(26472), strand=1), type='CDS'),\n",
              " SeqFeature(FeatureLocation(ExactPosition(26522), ExactPosition(27191), strand=1), type='CDS'),\n",
              " SeqFeature(FeatureLocation(ExactPosition(27201), ExactPosition(27387), strand=1), type='CDS'),\n",
              " SeqFeature(FeatureLocation(ExactPosition(27393), ExactPosition(27759), strand=1), type='CDS'),\n",
              " SeqFeature(FeatureLocation(ExactPosition(27755), ExactPosition(27887), strand=1), type='CDS'),\n",
              " SeqFeature(FeatureLocation(ExactPosition(27893), ExactPosition(28259), strand=1), type='CDS'),\n",
              " SeqFeature(FeatureLocation(ExactPosition(28273), ExactPosition(29533), strand=1), type='CDS'),\n",
              " SeqFeature(FeatureLocation(ExactPosition(29557), ExactPosition(29674), strand=1), type='CDS')]"
            ]
          },
          "metadata": {},
          "execution_count": 77
        }
      ]
    },
    {
      "cell_type": "code",
      "source": [],
      "metadata": {
        "id": "UgMIlV7OONey"
      },
      "execution_count": null,
      "outputs": []
    },
    {
      "cell_type": "code",
      "source": [],
      "metadata": {
        "id": "POg-n4V8JUKt"
      },
      "execution_count": null,
      "outputs": []
    },
    {
      "cell_type": "code",
      "source": [],
      "metadata": {
        "id": "SlhUb5e-JUOG"
      },
      "execution_count": null,
      "outputs": []
    },
    {
      "cell_type": "markdown",
      "metadata": {
        "id": "17Jxmu06qp51"
      },
      "source": [
        "**Listing 9.14:** pdb2.py: Parse a gzipped PDB file"
      ]
    },
    {
      "cell_type": "code",
      "metadata": {
        "id": "p2wNJnLwqp52"
      },
      "source": [
        "import gzip\n",
        "import io\n",
        "from Bio.PDB.PDBParser import PDBParser\n",
        "\n",
        "def disorder(structure):\n",
        "   for chain in structure[0].get_list():\n",
        "       for residue in chain.get_list():\n",
        "           for atom in residue.get_list():\n",
        "               if atom.is_disordered():\n",
        "                   print(residue, atom)\n",
        "   return None\n",
        "\n",
        "pdbfn = 'samples/pdb1apk.ent.gz'\n",
        "handle = gzip.GzipFile(pdbfn)\n",
        "handle = io.StringIO(handle.read().decode('utf-8'))\n",
        "parser = PDBParser()\n",
        "structure = parser.get_structure('test', handle)\n",
        "disorder(structure)"
      ],
      "execution_count": null,
      "outputs": []
    },
    {
      "cell_type": "markdown",
      "metadata": {
        "collapsed": false,
        "id": "rzV-hwrrqp54"
      },
      "source": [
        "PROSITE\n",
        "------"
      ]
    },
    {
      "cell_type": "code",
      "metadata": {
        "id": "yOlQdnJ1qp54"
      },
      "source": [
        "from Bio import Prosite\n",
        "handle = open(\"prosite.dat\")\n",
        "records = Prosite.parse(handle)\n",
        "for r in records:\n",
        "    print(r.accession)\n",
        "    print(r.name)\n",
        "    print(r.description)\n",
        "    print(r.pattern)\n",
        "    print(r.created)\n",
        "    print(r.pdoc)\n",
        "    print(\"===================================\")"
      ],
      "execution_count": null,
      "outputs": []
    },
    {
      "cell_type": "code",
      "metadata": {
        "scrolled": true,
        "id": "7RH2d7P9qp56"
      },
      "source": [
        "from Bio import Restriction\n",
        "Restriction.EcoRI"
      ],
      "execution_count": null,
      "outputs": []
    },
    {
      "cell_type": "code",
      "metadata": {
        "scrolled": false,
        "id": "sYA_jcHGqp57"
      },
      "source": [
        "from Bio.Seq import Seq\n",
        "from Bio.Alphabet.IUPAC import IUPACAmbiguousDNA\n",
        "alfa = IUPACAmbiguousDNA()\n",
        "gi1942535 = Seq('CGCGAATTCGCG', alfa\n",
        "Restriction.EcoRI.search(gi1942535)"
      ],
      "execution_count": null,
      "outputs": []
    },
    {
      "cell_type": "code",
      "metadata": {
        "id": "FtKEk1Yqqp58"
      },
      "source": [
        "Restriction.EcoRI.catalyse(gi1942535)"
      ],
      "execution_count": null,
      "outputs": []
    },
    {
      "cell_type": "code",
      "metadata": {
        "id": "c9b2QU8sqp59"
      },
      "source": [
        "enz1 = Restriction.EcoRI\n",
        "enz2 = Restriction.HindIII\n",
        "batch1 = Restriction.RestrictionBatch([enz1, enz2])\n",
        "batch1.search(gi1942535)"
      ],
      "execution_count": null,
      "outputs": []
    },
    {
      "cell_type": "code",
      "metadata": {
        "id": "4eWbkN9Tqp5_"
      },
      "source": [
        "dd = batch1.search(gi1942535)\n",
        "dd.get(Restriction.EcoRI)"
      ],
      "execution_count": null,
      "outputs": []
    },
    {
      "cell_type": "code",
      "metadata": {
        "id": "na2BHYYUqp6A"
      },
      "source": [
        " dd.get(Restriction.HindIII)"
      ],
      "execution_count": null,
      "outputs": []
    },
    {
      "cell_type": "code",
      "metadata": {
        "id": "vX4QNtA-qp6C"
      },
      "source": [
        "batch1.add(Restriction.EarI)\n",
        "batch1"
      ],
      "execution_count": null,
      "outputs": []
    },
    {
      "cell_type": "code",
      "metadata": {
        "id": "uG_CDCOpqp6D"
      },
      "source": [
        "batch1.remove(Restriction.EarI)\n",
        "batch1"
      ],
      "execution_count": null,
      "outputs": []
    },
    {
      "cell_type": "code",
      "metadata": {
        "collapsed": true,
        "id": "gy7FHyJjqp6E"
      },
      "source": [
        "batch2 = Restriction.CommOnly"
      ],
      "execution_count": null,
      "outputs": []
    },
    {
      "cell_type": "code",
      "metadata": {
        "id": "P11AdPG0qp6H"
      },
      "source": [
        "an1 = Restriction.Analysis(batch1,gi1942535)\n",
        "an1.full()    "
      ],
      "execution_count": null,
      "outputs": []
    },
    {
      "cell_type": "code",
      "metadata": {
        "id": "fcjhSbQaqp6I"
      },
      "source": [
        "an1.print_that()"
      ],
      "execution_count": null,
      "outputs": []
    },
    {
      "cell_type": "code",
      "metadata": {
        "id": "hWTxZkw4qp6K"
      },
      "source": [
        "an1.print_as('map')\n",
        "an1.print_that()"
      ],
      "execution_count": null,
      "outputs": []
    },
    {
      "cell_type": "code",
      "metadata": {
        "id": "Zg8NDsEdqp6M"
      },
      "source": [
        "an1.only_between(1,8)"
      ],
      "execution_count": null,
      "outputs": []
    },
    {
      "cell_type": "markdown",
      "metadata": {
        "id": "_ara5F6Sqp6P"
      },
      "source": [
        "DNA Utils\n",
        "--------"
      ]
    },
    {
      "cell_type": "code",
      "metadata": {
        "id": "Wr8-m2ceqp6P"
      },
      "source": [
        "from Bio.SeqUtils import GC\n",
        "GC('gacgatcggtattcgtag')    "
      ],
      "execution_count": null,
      "outputs": []
    },
    {
      "cell_type": "code",
      "metadata": {
        "id": "pvlRDfsSqp6Q"
      },
      "source": [
        "from Bio.SeqUtils import MeltingTemp\n",
        "MeltingTemp.Tm_staluc('tgcagtacgtatcgt')"
      ],
      "execution_count": null,
      "outputs": []
    },
    {
      "cell_type": "code",
      "metadata": {
        "id": "aNaFh5_zqp6V"
      },
      "source": [
        " print('%.2f'%MeltingTemp.Tm_staluc('tgcagtacgtatcgt'))"
      ],
      "execution_count": null,
      "outputs": []
    },
    {
      "cell_type": "code",
      "metadata": {
        "id": "A4TPK_9vqp6W"
      },
      "source": [
        "from Bio.SeqUtils import CheckSum\n",
        "myseq = 'acaagatgccattgtcccccggcctcctgctgctgct'\n",
        "CheckSum.gcg(myseq)"
      ],
      "execution_count": null,
      "outputs": []
    },
    {
      "cell_type": "code",
      "metadata": {
        "id": "ghMp6AbCqp6X"
      },
      "source": [
        "CheckSum.crc32(myseq)"
      ],
      "execution_count": null,
      "outputs": []
    },
    {
      "cell_type": "code",
      "metadata": {
        "id": "MqRVzBjDqp6Y"
      },
      "source": [
        "CheckSum.crc64(myseq)"
      ],
      "execution_count": null,
      "outputs": []
    },
    {
      "cell_type": "code",
      "metadata": {
        "id": "P_clMHVSqp6a"
      },
      "source": [
        "CheckSum.seguid(myseq)"
      ],
      "execution_count": null,
      "outputs": []
    },
    {
      "cell_type": "markdown",
      "metadata": {
        "id": "wiMt--ohqp6f"
      },
      "source": [
        "Protein Utils\n",
        "------------"
      ]
    },
    {
      "cell_type": "markdown",
      "metadata": {
        "id": "iDRmiRPwqp6f"
      },
      "source": [
        "**Listing 9.15:** protparam.py: Apply PropParam functions to a group of proteins"
      ]
    },
    {
      "cell_type": "code",
      "metadata": {
        "id": "s7fRm5VYqp6f"
      },
      "source": [
        "from Bio.SeqUtils.ProtParam import ProteinAnalysis\n",
        "from Bio.SeqUtils import ProtParamData\n",
        "from Bio import SeqIO\n",
        "with open('samples/pdbaa') as fh:\n",
        "   for rec in SeqIO.parse(fh,'fasta'):\n",
        "       myprot = ProteinAnalysis(str(rec.seq))\n",
        "       print(myprot.count_amino_acids())\n",
        "       print(myprot.get_amino_acids_percent())\n",
        "       print(myprot.molecular_weight())\n",
        "       print(myprot.aromaticity())\n",
        "       print(myprot.instability_index())\n",
        "       print(myprot.flexibility())\n",
        "       print(myprot.isoelectric_point())\n",
        "       print(myprot.secondary_structure_fraction())\n",
        "       print(myprot.protein_scale(ProtParamData.kd, 9, .4))"
      ],
      "execution_count": null,
      "outputs": []
    },
    {
      "cell_type": "markdown",
      "metadata": {
        "id": "KPoDUC1zqp6g"
      },
      "source": [
        "**Listing 9.16:** phd1.py: Extract data from a .phd.1 file"
      ]
    },
    {
      "cell_type": "code",
      "metadata": {
        "id": "cDiIvuHNqp6h"
      },
      "source": [
        "import pprint\n",
        "from Bio.Sequencing import Phd\n",
        "fn = 'samples/phd1'\n",
        "with open(fn) as fh:\n",
        "    rp = Phd.read(fh)\n",
        "# All the comments are in a dictionary\n",
        "pprint.pprint(rp.comments)\n",
        "# Sequence information\n",
        "print('Sequence: %s' % rp.seq)\n",
        "# Quality information for each base\n",
        "print('Quality: %s' % rp.sites)"
      ],
      "execution_count": null,
      "outputs": []
    },
    {
      "cell_type": "code",
      "metadata": {
        "id": "kgmkmreqqp6i"
      },
      "source": [
        "from Bio import SeqIO\n",
        "fn = '../../samples/phd1'\n",
        "fh = open(fn)\n",
        "seqs = SeqIO.parse(fh,'phd')\n",
        "seqs = SeqIO.parse(fh,'phd')\n",
        "for s in seqs:\n",
        "    print(s.seq)"
      ],
      "execution_count": null,
      "outputs": []
    },
    {
      "cell_type": "code",
      "metadata": {
        "id": "heQWYE-4qp6j"
      },
      "source": [
        "from Bio.Sequencing import Ace\n",
        "fn='836CLEAN-100.fasta.cap.ace'\n",
        "acefilerecord=Ace.read(open(fn))\n",
        "acefilerecord.ncontigs"
      ],
      "execution_count": null,
      "outputs": []
    },
    {
      "cell_type": "code",
      "metadata": {
        "id": "23hpjAPvqp6k"
      },
      "source": [
        "acefilerecord.nreads"
      ],
      "execution_count": null,
      "outputs": []
    },
    {
      "cell_type": "code",
      "metadata": {
        "id": "RXaQ0xfBqp6l"
      },
      "source": [
        "acefilerecord.wa[0].info"
      ],
      "execution_count": null,
      "outputs": []
    },
    {
      "cell_type": "code",
      "metadata": {
        "id": "UFTrtsSrqp6m"
      },
      "source": [
        "acefilerecord.wa[0].date"
      ],
      "execution_count": null,
      "outputs": []
    },
    {
      "cell_type": "markdown",
      "metadata": {
        "id": "tEs_MfAlqp6n"
      },
      "source": [
        "**Listing 9.17:** ace.py: Retrieve data from an “.ace” file"
      ]
    },
    {
      "cell_type": "code",
      "metadata": {
        "id": "8RTbGNPBqp6n"
      },
      "source": [
        "from Bio.Sequencing import Ace\n",
        "\n",
        "fn = 'samples/contig1.ace'\n",
        "acefilerecord = Ace.read(open(fn))\n",
        "\n",
        "# For each contig:\n",
        "for ctg in acefilerecord.contigs:\n",
        "    print('==========================================')\n",
        "    print('Contig name: %s'%ctg.name)\n",
        "    print('Bases: %s'%ctg.nbases)\n",
        "    print('Reads: %s'%ctg.nreads)\n",
        "    print('Segments: %s'%ctg.nsegments)\n",
        "    print('Sequence: %s'%ctg.sequence)\n",
        "    print('Quality: %s'%ctg.quality)\n",
        "    # For each read in contig:\n",
        "    for read in ctg.reads:\n",
        "        print('Read name: %s'%read.rd.name)\n",
        "        print('Align start: %s'%read.qa.align_clipping_start)\n",
        "        print('Align end: %s'%read.qa.align_clipping_end)\n",
        "        print('Qual start: %s'%read.qa.qual_clipping_start)\n",
        "        print('Qual end: %s'%read.qa.qual_clipping_end)\n",
        "        print('Read sequence: %s'%read.rd.sequence)\n",
        "        print('==========================================')"
      ],
      "execution_count": null,
      "outputs": []
    },
    {
      "cell_type": "markdown",
      "metadata": {
        "id": "XliMT4Iwqp6o"
      },
      "source": [
        "**Listing 9.18:** Retrieve data from a SwissProt file"
      ]
    },
    {
      "cell_type": "code",
      "metadata": {
        "id": "XhtdXWnBqp6o"
      },
      "source": [
        "from Bio import SwissProt\n",
        "with open('samples/spfile.txt') as fh:\n",
        "        records = SwissProt.parse(fh)\n",
        "        for record in records:\n",
        "            print('Entry name: %s' % record.entry_name)\n",
        "            print('Accession(s): %s' % ','.join(record.accessions))\n",
        "            print('Keywords: %s' % ','.join(record.keywords))\n",
        "            print('Sequence: %s' % record.sequence)"
      ],
      "execution_count": null,
      "outputs": []
    },
    {
      "cell_type": "markdown",
      "metadata": {
        "id": "vXVXleQbqp6q"
      },
      "source": [
        "**Listing 9.19:** Attributes of a SwissProt record"
      ]
    },
    {
      "cell_type": "code",
      "metadata": {
        "id": "DVwtEso6qp6q"
      },
      "source": [
        "from Bio import SwissProt\n",
        "with open('samples/spfile.txt') as fh:\n",
        "    record = next(SwissProt.parse(fh))\n",
        "    for att in dir(record):\n",
        "        if not att.startswith('__'):\n",
        "                print(att, getattr(record,att))"
      ],
      "execution_count": null,
      "outputs": []
    },
    {
      "cell_type": "markdown",
      "metadata": {
        "id": "K1Ehut51qp6t"
      },
      "source": [
        "VER DE ACA PARA ABAJO SI ESTO ESTA BIEN O HABRIA QUE PONERLO ARRIBA!!!!\n",
        "-------------------"
      ]
    },
    {
      "cell_type": "markdown",
      "metadata": {
        "id": "rMi4fiheqp6t"
      },
      "source": [
        "*How to download a file*"
      ]
    },
    {
      "cell_type": "code",
      "metadata": {
        "scrolled": true,
        "id": "GbrnuTVNqp6t"
      },
      "source": [
        "!curl https://s3.amazonaws.com/py4bio/cas9align.fasta -o cas9align.fasta"
      ],
      "execution_count": null,
      "outputs": []
    },
    {
      "cell_type": "code",
      "metadata": {
        "id": "cDpJqe0rqp6v"
      },
      "source": [
        "with open('cas9align.fasta') as f_in:\n",
        "    print(f_in.read())"
      ],
      "execution_count": null,
      "outputs": []
    },
    {
      "cell_type": "code",
      "metadata": {
        "id": "3DNx4MNYqp6x"
      },
      "source": [
        "print(dir(align))"
      ],
      "execution_count": null,
      "outputs": []
    },
    {
      "cell_type": "code",
      "metadata": {
        "id": "Zlv_fstIqp6y"
      },
      "source": [
        "from Bio import AlignIO\n",
        "AlignIO.write(align, 'cas9align.phy', 'phylip')"
      ],
      "execution_count": null,
      "outputs": []
    },
    {
      "cell_type": "code",
      "metadata": {
        "collapsed": true,
        "id": "6F-Ec6Szqp60"
      },
      "source": [
        "from Bio.Alphabet import ProteinAlphabet"
      ],
      "execution_count": null,
      "outputs": []
    },
    {
      "cell_type": "code",
      "metadata": {
        "id": "aSYj9QSTqp61"
      },
      "source": [
        "align._alphabet = ProteinAlphabet()"
      ],
      "execution_count": null,
      "outputs": []
    },
    {
      "cell_type": "code",
      "metadata": {
        "id": "VRJTJncaqp62"
      },
      "source": [
        "print(align)"
      ],
      "execution_count": null,
      "outputs": []
    },
    {
      "cell_type": "code",
      "metadata": {
        "id": "H7k10Xp_qp66"
      },
      "source": [
        "print(align[3:,:5])"
      ],
      "execution_count": null,
      "outputs": []
    },
    {
      "cell_type": "code",
      "metadata": {
        "scrolled": true,
        "id": "q7Cr3rfcqp67"
      },
      "source": [
        "with open('cas9align.aln') as f_in:\n",
        "    print(f_in.read())"
      ],
      "execution_count": null,
      "outputs": []
    },
    {
      "cell_type": "code",
      "metadata": {
        "id": "ELJ0t8bmqp69"
      },
      "source": [
        "from Bio.Align.AlignInfo import print_info_content\n",
        "print_info_content(align)"
      ],
      "execution_count": null,
      "outputs": []
    },
    {
      "cell_type": "code",
      "metadata": {
        "id": "bod4Dvkrqp6-"
      },
      "source": [
        "summary.pos_specific_score_matrix()"
      ],
      "execution_count": null,
      "outputs": []
    },
    {
      "cell_type": "code",
      "metadata": {
        "id": "LkNoVifQqp6_"
      },
      "source": [
        "from Bio import Alphabet \n",
        "for record in align:\n",
        "    print(Alphabet._get_base_alphabet(record.seq.alphabet))"
      ],
      "execution_count": null,
      "outputs": []
    },
    {
      "cell_type": "code",
      "metadata": {
        "id": "bOsbO_KRqp7A"
      },
      "source": [
        "!curl https://raw.githubusercontent.com/Serulab/Py4Bio/master/cas9align.fasta -o archivo2.txt"
      ],
      "execution_count": null,
      "outputs": []
    },
    {
      "cell_type": "code",
      "metadata": {
        "id": "7qzkiuHcqp7B"
      },
      "source": [
        "with open('archivo2.txt') as fh:\n",
        "    print(fh.read())"
      ],
      "execution_count": null,
      "outputs": []
    },
    {
      "cell_type": "code",
      "metadata": {
        "collapsed": true,
        "id": "chHo8jnkqp7E"
      },
      "source": [
        "# http://biopython.org/DIST/docs/api/Bio.Align.Applications._ClustalOmega.ClustalOmegaCommandline-class.html\n"
      ],
      "execution_count": null,
      "outputs": []
    },
    {
      "cell_type": "code",
      "metadata": {
        "collapsed": true,
        "id": "gdyUF9ltqp7F"
      },
      "source": [],
      "execution_count": null,
      "outputs": []
    }
  ]
}