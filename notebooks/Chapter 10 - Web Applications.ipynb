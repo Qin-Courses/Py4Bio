{
  "nbformat": 4,
  "nbformat_minor": 0,
  "metadata": {
    "colab": {
      "name": "Chapter 10 - Web Applications.ipynb",
      "provenance": [],
      "private_outputs": true,
      "collapsed_sections": [],
      "include_colab_link": true
    },
    "kernelspec": {
      "name": "python3",
      "display_name": "Python 3"
    }
  },
  "cells": [
    {
      "cell_type": "markdown",
      "metadata": {
        "id": "view-in-github",
        "colab_type": "text"
      },
      "source": [
        "<a href=\"https://colab.research.google.com/github/manabuishii/Py4Bio/blob/update-chapter10-ipynb/Chapter_10_Web_Applications.ipynb\" target=\"_parent\"><img src=\"https://colab.research.google.com/assets/colab-badge.svg\" alt=\"Open In Colab\"/></a>"
      ]
    },
    {
      "cell_type": "markdown",
      "metadata": {
        "collapsed": true,
        "id": "Q-VLR-nPdOpU",
        "colab_type": "text"
      },
      "source": [
        "Python for Bioinformatics\n",
        "-----------------------------\n",
        "\n",
        "![title](https://s3.amazonaws.com/py4bio/tapabiosmall.png)\n",
        "\n",
        "This Jupyter notebook is intented to be used alongside the book [Python for Bioinformatics](http://py3.us/)\n",
        "\n"
      ]
    },
    {
      "cell_type": "markdown",
      "metadata": {
        "id": "yZzZQbafdOpV",
        "colab_type": "text"
      },
      "source": [
        "**Note:** Before opening the file, this file should be accesible from this Jupyter notebook. In order to do so, the following commands will download these files from Github and extract them into a directory called samples."
      ]
    },
    {
      "cell_type": "markdown",
      "metadata": {
        "id": "TRSGDxuJdOpV",
        "colab_type": "text"
      },
      "source": [
        "Chapter 10: Web Applications\n",
        "-----------------------------"
      ]
    },
    {
      "cell_type": "code",
      "metadata": {
        "colab_type": "code",
        "id": "n2HyaWPFdntz",
        "colab": {}
      },
      "source": [
        "!wget https://github.com/Serulab/Py4Bio/archive/master.zip\n",
        "!unzip master.zip\n",
        "!mv Py4Bio-master/code/ch10/* ./"
      ],
      "execution_count": null,
      "outputs": []
    },
    {
      "cell_type": "code",
      "metadata": {
        "id": "-koq7REPW0ad",
        "colab_type": "code",
        "colab": {}
      },
      "source": [
        "!apt-get -y install apache2"
      ],
      "execution_count": null,
      "outputs": []
    },
    {
      "cell_type": "code",
      "metadata": {
        "id": "KNN4P_SoUO88",
        "colab_type": "code",
        "colab": {}
      },
      "source": [
        "!pip install bottle"
      ],
      "execution_count": null,
      "outputs": []
    },
    {
      "cell_type": "code",
      "metadata": {
        "id": "Zm6zmnxOUc3H",
        "colab_type": "code",
        "colab": {}
      },
      "source": [
        "!wget https://bin.equinox.io/c/4VmDzA7iaHb/ngrok-stable-linux-amd64.zip\n",
        "!unzip ngrok-stable-linux-amd64.zip"
      ],
      "execution_count": null,
      "outputs": []
    },
    {
      "cell_type": "markdown",
      "metadata": {
        "id": "S29Ci1YlhJYt",
        "colab_type": "text"
      },
      "source": [
        "## **CGI IN PYTHON**"
      ]
    },
    {
      "cell_type": "markdown",
      "metadata": {
        "id": "2s40wqqzfp91",
        "colab_type": "text"
      },
      "source": [
        "**Server for Listing 10.1**\n",
        "\n",
        "This command shows URL which is used for Listing 10.1"
      ]
    },
    {
      "cell_type": "code",
      "metadata": {
        "colab_type": "code",
        "id": "p1H0hYoQXdjT",
        "colab": {}
      },
      "source": [
        "get_ipython().system_raw('./ngrok http 80 &')"
      ],
      "execution_count": null,
      "outputs": []
    },
    {
      "cell_type": "code",
      "metadata": {
        "colab_type": "code",
        "id": "eLRvY5YHXkDf",
        "colab": {}
      },
      "source": [
        "%%sh\n",
        "curl -s http://localhost:4040/api/tunnels | python -c \"import sys, json; print(json.load(sys.stdin)['tunnels'][0]['public_url'])\""
      ],
      "execution_count": null,
      "outputs": []
    },
    {
      "cell_type": "code",
      "metadata": {
        "id": "izErIf86Xpls",
        "colab_type": "code",
        "colab": {}
      },
      "source": [
        "!/etc/init.d/apache2 restart"
      ],
      "execution_count": null,
      "outputs": []
    },
    {
      "cell_type": "code",
      "metadata": {
        "id": "jgm-pgcxX11U",
        "colab_type": "code",
        "colab": {}
      },
      "source": [
        "!a2enmod cgid"
      ],
      "execution_count": null,
      "outputs": []
    },
    {
      "cell_type": "code",
      "metadata": {
        "id": "BR9jXTbLX91Z",
        "colab_type": "code",
        "colab": {}
      },
      "source": [
        "!service apache2 restart"
      ],
      "execution_count": null,
      "outputs": []
    },
    {
      "cell_type": "markdown",
      "metadata": {
        "id": "dv1yLWaFfMOJ",
        "colab_type": "text"
      },
      "source": [
        "**Listing 10.1:** firstcgi.py: First CGI script"
      ]
    },
    {
      "cell_type": "code",
      "metadata": {
        "id": "SlxejZVPYbaP",
        "colab_type": "code",
        "colab": {}
      },
      "source": [
        "!cp firstcgi.py /usr/lib/cgi-bin/\n",
        "!chmod 755 /usr/lib/cgi-bin/firstcgi.py"
      ],
      "execution_count": null,
      "outputs": []
    },
    {
      "cell_type": "markdown",
      "metadata": {
        "id": "nd11gbirgG2f",
        "colab_type": "text"
      },
      "source": [
        "*Access URL and put the /cgi-bin/firstcgi.py*\n",
        "\n",
        "ex https://xxxxxx.ngrok.io/cgi-bin/firstcgi.py"
      ]
    },
    {
      "cell_type": "markdown",
      "metadata": {
        "id": "r_tZIwC1hkn8",
        "colab_type": "text"
      },
      "source": [
        "## **Sending Data to a CGI Program**"
      ]
    },
    {
      "cell_type": "markdown",
      "metadata": {
        "id": "7JQAOLXdh4jS",
        "colab_type": "text"
      },
      "source": [
        "**Listing 10.2:** greeting.html: HTML front end to send data to a CGI program"
      ]
    },
    {
      "cell_type": "code",
      "metadata": {
        "id": "lvFewwAjZOhT",
        "colab_type": "code",
        "colab": {}
      },
      "source": [
        "!cp greeting.html /var/www/html"
      ],
      "execution_count": null,
      "outputs": []
    },
    {
      "cell_type": "markdown",
      "metadata": {
        "id": "Kph1PFpyiK-L",
        "colab_type": "text"
      },
      "source": [
        "**Listing 10.3:** greeting.py: CGI program that processes the form in\n",
        "greeting.html."
      ]
    },
    {
      "cell_type": "code",
      "metadata": {
        "id": "oXU61AcsZVW7",
        "colab_type": "code",
        "colab": {}
      },
      "source": [
        "!cp greeting.py /usr/lib/cgi-bin/\n",
        "!chmod 755 /usr/lib/cgi-bin/greeting.py"
      ],
      "execution_count": null,
      "outputs": []
    },
    {
      "cell_type": "markdown",
      "metadata": {
        "id": "mGxkWJIbiZ_l",
        "colab_type": "text"
      },
      "source": [
        "Access URL(same for Listing 10.1) and put the /greeting.html\n",
        "\n",
        "ex https://xxxxxx.ngrok.io/greeting.html"
      ]
    },
    {
      "cell_type": "markdown",
      "metadata": {
        "id": "cPF5xYbhivF8",
        "colab_type": "text"
      },
      "source": [
        "## Web Program to Calculate the Net Charge of a Protein (CGI version)"
      ]
    },
    {
      "cell_type": "markdown",
      "metadata": {
        "id": "A5VNNp3Ai_Aw",
        "colab_type": "text"
      },
      "source": [
        "**Listing 10.4:** protcharge.html: HTML front end to send data to a CGI program"
      ]
    },
    {
      "cell_type": "code",
      "metadata": {
        "id": "aq7qyz0pZxBT",
        "colab_type": "code",
        "colab": {}
      },
      "source": [
        "!cp protcharge.html /var/www/html"
      ],
      "execution_count": null,
      "outputs": []
    },
    {
      "cell_type": "markdown",
      "metadata": {
        "id": "VSkfH17OjJkT",
        "colab_type": "text"
      },
      "source": [
        "**Listing 10.5:** protcharge.py: Back-end code to calculate the net charge of a\n",
        "protein and proportion of charged amino acid"
      ]
    },
    {
      "cell_type": "code",
      "metadata": {
        "id": "votjwNjEcL8J",
        "colab_type": "code",
        "colab": {}
      },
      "source": [
        "%%writefile /usr/lib/cgi-bin/protcharge.py\n",
        "#!/usr/bin/env python\n",
        "import cgi, cgitb\n",
        "\n",
        "def chargeandprop(aa_seq):\n",
        "    protseq = aa_seq.upper()\n",
        "    charge = -0.002\n",
        "    cp = 0\n",
        "    aa_charge = {'C':-.045,'D':-.999,'E':-.998,'H':.091,\n",
        "                    'K':1,'R':1,'Y':-.001}\n",
        "    for aa in protseq:\n",
        "        charge += aa_charge.get(aa, 0)\n",
        "        if aa in aa_charge:\n",
        "            cp += 1\n",
        "    prop = float(cp)/len(aa_seq)*100\n",
        "    return (charge, prop)\n",
        "\n",
        "cgitb.enable()\n",
        "print('Content-Type: text/html\\n')\n",
        "form = cgi.FieldStorage()\n",
        "seq = form.getvalue('aaseq', 'QWERTYYTREWQRTYEYTRQWE')\n",
        "prop = form.getvalue('prop', 'n')\n",
        "jobtitle = form.getvalue('title','No title')\n",
        "charge, propvalue = chargeandprop(seq)\n",
        "print('<html><body>Job title:{0}<br/>'.format(jobtitle))\n",
        "print('Your sequence is:<br/>{0}<br/>'.format(seq))\n",
        "print('Net charge: {0}<br/>'.format(charge))\n",
        "if prop == 'y':\n",
        "    print('Proportion of charged AA: {0:.2f}<br/>'\n",
        "        .format(propvalue))\n",
        "print('</body></html>')"
      ],
      "execution_count": null,
      "outputs": []
    },
    {
      "cell_type": "code",
      "metadata": {
        "id": "itdKzhocZ9fB",
        "colab_type": "code",
        "colab": {}
      },
      "source": [
        "!chmod 755 /usr/lib/cgi-bin/protcharge.py"
      ],
      "execution_count": null,
      "outputs": []
    },
    {
      "cell_type": "markdown",
      "metadata": {
        "colab_type": "text",
        "id": "r29aDy3qjUFb"
      },
      "source": [
        "Access URL(same for Listing 10.1) and put the /protcharge.html\n",
        "\n",
        "ex https://xxxxxx.ngrok.io/protcharge.html\n",
        "\n",
        "Sample Data: MARLQTALLVVLVLLAVALQATEAGPYGANMEDSVCCRDYVRYRLPLRVVKHFYWTSDSCPRPGVVLLTFRDKEICADPRVPWVKMILNKLSQ\n"
      ]
    },
    {
      "cell_type": "markdown",
      "metadata": {
        "id": "xqQjxM2skB92",
        "colab_type": "text"
      },
      "source": [
        "*Stop Apache server*"
      ]
    },
    {
      "cell_type": "code",
      "metadata": {
        "id": "7UXoDAkhR5Rx",
        "colab_type": "code",
        "colab": {}
      },
      "source": [
        "!service apache2 stop"
      ],
      "execution_count": null,
      "outputs": []
    },
    {
      "cell_type": "markdown",
      "metadata": {
        "id": "nwpizoX5Dg_C",
        "colab_type": "text"
      },
      "source": [
        "*Stop ngrok*"
      ]
    },
    {
      "cell_type": "code",
      "metadata": {
        "id": "4xJwPBWaCt-u",
        "colab_type": "code",
        "colab": {}
      },
      "source": [
        "!pkill ngrok"
      ],
      "execution_count": null,
      "outputs": []
    },
    {
      "cell_type": "markdown",
      "metadata": {
        "id": "UVtVGBt-kSGM",
        "colab_type": "text"
      },
      "source": [
        "## **Bottle: A Python Web Framework for WSGI**"
      ]
    },
    {
      "cell_type": "markdown",
      "metadata": {
        "colab_type": "text",
        "id": "SDreJJaukwsS"
      },
      "source": [
        "**Server for Listing 10.6**\n",
        "\n",
        "This command shows URL which is used for Listing 10.6"
      ]
    },
    {
      "cell_type": "code",
      "metadata": {
        "id": "upn-KwDeVRru",
        "colab_type": "code",
        "colab": {}
      },
      "source": [
        "get_ipython().system_raw('./ngrok http 8000 &')"
      ],
      "execution_count": null,
      "outputs": []
    },
    {
      "cell_type": "code",
      "metadata": {
        "id": "EhHcASfDVlqC",
        "colab_type": "code",
        "colab": {}
      },
      "source": [
        "%%sh\n",
        "curl -s http://localhost:4040/api/tunnels | python -c \"import sys, json; print(json.load(sys.stdin)['tunnels'][0]['public_url'])\""
      ],
      "execution_count": null,
      "outputs": []
    },
    {
      "cell_type": "markdown",
      "metadata": {
        "id": "rERFcgg88x8Q",
        "colab_type": "text"
      },
      "source": [
        "*Check URL is different from the first one(for Listing 10.1)*\n",
        "\n",
        "*If the same URL, please stop ngrok*"
      ]
    },
    {
      "cell_type": "markdown",
      "metadata": {
        "id": "es9MvueQk8OW",
        "colab_type": "text"
      },
      "source": [
        "**Listing 10.6:** hellobottle.py: Hello World in Bottle"
      ]
    },
    {
      "cell_type": "code",
      "metadata": {
        "id": "ROlX2feIJCm_",
        "colab_type": "code",
        "colab": {}
      },
      "source": [
        "!python helloworldbottle.py"
      ],
      "execution_count": null,
      "outputs": []
    },
    {
      "cell_type": "markdown",
      "metadata": {
        "colab_type": "text",
        "id": "cfYXmoVllJkw"
      },
      "source": [
        "*Access URL for Listing 10.6*\n",
        "\n",
        "ex https://xxxxxx.ngrok.io/"
      ]
    },
    {
      "cell_type": "markdown",
      "metadata": {
        "id": "U5steCsJlQtV",
        "colab_type": "text"
      },
      "source": [
        "**Stop the server Press stop botton 2 upper cell**\n",
        "\n",
        "Left of *!python helloworldbottle.py*\n",
        "\n",
        "Successfully stopped there is `^C`"
      ]
    },
    {
      "cell_type": "markdown",
      "metadata": {
        "id": "7dyQU0h2lvV2",
        "colab_type": "text"
      },
      "source": [
        "## **Bottle Components**"
      ]
    },
    {
      "cell_type": "markdown",
      "metadata": {
        "id": "Gvh_IXrJl6lM",
        "colab_type": "text"
      },
      "source": [
        "**Routes**"
      ]
    },
    {
      "cell_type": "code",
      "metadata": {
        "colab_type": "code",
        "id": "X4T8dJKOLw3C",
        "colab": {}
      },
      "source": [
        "get_ipython().system_raw('./ngrok http 8000 &')"
      ],
      "execution_count": null,
      "outputs": []
    },
    {
      "cell_type": "code",
      "metadata": {
        "colab_type": "code",
        "id": "xGYRzcIGKyCY",
        "colab": {}
      },
      "source": [
        "%%sh\n",
        "curl -s http://localhost:4040/api/tunnels | python -c \"import sys, json; print(json.load(sys.stdin)['tunnels'][0]['public_url'])\""
      ],
      "execution_count": null,
      "outputs": []
    },
    {
      "cell_type": "code",
      "metadata": {
        "id": "E_Y4WaKKJe2i",
        "colab_type": "code",
        "colab": {}
      },
      "source": [
        "%%writefile helloworldbottle.py\n",
        "from bottle import route, run\n",
        "\n",
        "@route('/')\n",
        "def index():\n",
        "    return 'Top level, or Index Page'\n",
        "\n",
        "@route('/about')\n",
        "def about():\n",
        "    return 'The about page'\n",
        "\n",
        "run(host='localhost', port=8000)"
      ],
      "execution_count": null,
      "outputs": []
    },
    {
      "cell_type": "code",
      "metadata": {
        "id": "tamWWUH1KBAG",
        "colab_type": "code",
        "colab": {}
      },
      "source": [
        "!python helloworldbottle.py"
      ],
      "execution_count": null,
      "outputs": []
    },
    {
      "cell_type": "markdown",
      "metadata": {
        "colab_type": "text",
        "id": "yUj_0xjjm6L2"
      },
      "source": [
        "Access URL(for Routes) toppage and /about\n",
        "\n",
        "ex https://xxxxxx.ngrok.io/\n",
        "\n",
        "ex https://xxxxxx.ngrok.io/about"
      ]
    },
    {
      "cell_type": "markdown",
      "metadata": {
        "colab_type": "text",
        "id": "o7yTDRYlnSA5"
      },
      "source": [
        "**Stop the server Press stop botton 2 upper cell**\n",
        "\n",
        "Left of *!python helloworldbottle.py*\n",
        "\n",
        "Successfully stopped there is `^C`"
      ]
    },
    {
      "cell_type": "markdown",
      "metadata": {
        "id": "zIMm1p6AmYsa",
        "colab_type": "text"
      },
      "source": [
        "**URL with Variable Parts**"
      ]
    },
    {
      "cell_type": "code",
      "metadata": {
        "colab_type": "code",
        "id": "V1LdhYmtLyNk",
        "colab": {}
      },
      "source": [
        "get_ipython().system_raw('./ngrok http 8000 &')"
      ],
      "execution_count": null,
      "outputs": []
    },
    {
      "cell_type": "code",
      "metadata": {
        "colab_type": "code",
        "id": "mUU7FPBzK4nx",
        "colab": {}
      },
      "source": [
        "%%sh\n",
        "curl -s http://localhost:4040/api/tunnels | python -c \"import sys, json; print(json.load(sys.stdin)['tunnels'][0]['public_url'])\""
      ],
      "execution_count": null,
      "outputs": []
    },
    {
      "cell_type": "code",
      "metadata": {
        "colab_type": "code",
        "id": "kDpKpWQQLA3a",
        "colab": {}
      },
      "source": [
        "%%writefile helloworldbottle.py\n",
        "from bottle import route, run\n",
        "\n",
        "@route('/')\n",
        "def index():\n",
        "    return 'Top level, or Index Page'\n",
        "\n",
        "@route('/about')\n",
        "def about():\n",
        "    return 'The about page'\n",
        "\n",
        "@route('/greets/<name>')\n",
        "def shows_greeting(name):\n",
        "    return 'Hello {0}'.format(name)\n",
        "\n",
        "run(host='localhost', port=8000)"
      ],
      "execution_count": null,
      "outputs": []
    },
    {
      "cell_type": "code",
      "metadata": {
        "colab_type": "code",
        "id": "tz2gvQexLKFH",
        "colab": {}
      },
      "source": [
        "!python helloworldbottle.py"
      ],
      "execution_count": null,
      "outputs": []
    },
    {
      "cell_type": "markdown",
      "metadata": {
        "id": "xyj4VIdCnqRz",
        "colab_type": "text"
      },
      "source": [
        "Access URL(for URL with Variable Parts) toppage and /about\n",
        "\n",
        "ex https://xxxxxx.ngrok.io/\n",
        "\n",
        "ex https://xxxxxx.ngrok.io/about\n",
        "\n",
        "ex https://xxxxxx.ngrok.io/greets/Adele"
      ]
    },
    {
      "cell_type": "markdown",
      "metadata": {
        "colab_type": "text",
        "id": "pce4NcYvoJeU"
      },
      "source": [
        "**Stop the server Press stop botton 2 upper cell**\n",
        "\n",
        "Left of *!python helloworldbottle.py*\n",
        "\n",
        "Successfully stopped there is `^C`"
      ]
    },
    {
      "cell_type": "markdown",
      "metadata": {
        "id": "LH6aQTzArmh2",
        "colab_type": "text"
      },
      "source": [
        "## Templates"
      ]
    },
    {
      "cell_type": "markdown",
      "metadata": {
        "id": "6sYbY1I8sQdl",
        "colab_type": "text"
      },
      "source": [
        "**Listing 10.7:** index.tpl: Template for Bottle with variables"
      ]
    },
    {
      "cell_type": "markdown",
      "metadata": {
        "id": "h34fXi-HrfSt",
        "colab_type": "text"
      },
      "source": [
        "**Listing 10.8:** indextemplate1.py: Bottle code for template with variables"
      ]
    },
    {
      "cell_type": "code",
      "metadata": {
        "colab_type": "code",
        "id": "c42-1TKFL0a2",
        "colab": {}
      },
      "source": [
        "get_ipython().system_raw('./ngrok http 8000 &')"
      ],
      "execution_count": null,
      "outputs": []
    },
    {
      "cell_type": "code",
      "metadata": {
        "colab_type": "code",
        "id": "uoXkZ6PpL2Oi",
        "colab": {}
      },
      "source": [
        "%%sh\n",
        "curl -s http://localhost:4040/api/tunnels | python -c \"import sys, json; print(json.load(sys.stdin)['tunnels'][0]['public_url'])\""
      ],
      "execution_count": null,
      "outputs": []
    },
    {
      "cell_type": "code",
      "metadata": {
        "colab_type": "code",
        "id": "c14oi1yoL6hq",
        "colab": {}
      },
      "source": [
        "!python indextemplate1.py"
      ],
      "execution_count": null,
      "outputs": []
    },
    {
      "cell_type": "markdown",
      "metadata": {
        "colab_type": "text",
        "id": "2dRaJrUEr3fG"
      },
      "source": [
        "Access URL(for URL Listing 10.7 and 10.8)\n",
        "\n",
        "ex https://xxxxxx.ngrok.io/greets/Bob"
      ]
    },
    {
      "cell_type": "markdown",
      "metadata": {
        "colab_type": "text",
        "id": "L2HXaQGgr6Nv"
      },
      "source": [
        "**Stop the server Press stop botton 2 upper cell**\n",
        "\n",
        "Left of *!python indextemplate1.py*\n",
        "\n",
        "Successfully stopped there is `^C`"
      ]
    },
    {
      "cell_type": "markdown",
      "metadata": {
        "id": "HP52e3C3sYA-",
        "colab_type": "text"
      },
      "source": [
        "**Listing 10.9:** index2.tpl: Template for Bottle with variables and \u001dow control"
      ]
    },
    {
      "cell_type": "markdown",
      "metadata": {
        "id": "97vexgjwsdZA",
        "colab_type": "text"
      },
      "source": [
        "**Listing 10.10:** index2.py: Bottle code for template with variables"
      ]
    },
    {
      "cell_type": "code",
      "metadata": {
        "colab_type": "code",
        "id": "2cuXsDUhM7-H",
        "colab": {}
      },
      "source": [
        "get_ipython().system_raw('./ngrok http 8000 &')"
      ],
      "execution_count": null,
      "outputs": []
    },
    {
      "cell_type": "code",
      "metadata": {
        "colab_type": "code",
        "id": "RlKeLNaiM9pR",
        "colab": {}
      },
      "source": [
        "%%sh\n",
        "curl -s http://localhost:4040/api/tunnels | python -c \"import sys, json; print(json.load(sys.stdin)['tunnels'][0]['public_url'])\""
      ],
      "execution_count": null,
      "outputs": []
    },
    {
      "cell_type": "code",
      "metadata": {
        "colab_type": "code",
        "id": "MJolxpEdNCtO",
        "colab": {}
      },
      "source": [
        "!python indextemplate2.py"
      ],
      "execution_count": null,
      "outputs": []
    },
    {
      "cell_type": "markdown",
      "metadata": {
        "colab_type": "text",
        "id": "b6LY0sKVs1A2"
      },
      "source": [
        "Access URL(for URL Listing 10.9 and 10.10)\n",
        "\n",
        "ex https://xxxxxx.ngrok.io/greets/Chris"
      ]
    },
    {
      "cell_type": "markdown",
      "metadata": {
        "colab_type": "text",
        "id": "6RQdELYss3qt"
      },
      "source": [
        "**Stop the server Press stop botton 2 upper cell**\n",
        "\n",
        "Left of *!python indextemplate2.py*\n",
        "\n",
        "Successfully stopped there is `^C`"
      ]
    },
    {
      "cell_type": "markdown",
      "metadata": {
        "id": "vYuSQaitu8r3",
        "colab_type": "text"
      },
      "source": [
        "**Listing 10.11:** indextemplate3.py: Bottle code with logic in code instead of in templates"
      ]
    },
    {
      "cell_type": "markdown",
      "metadata": {
        "id": "aPVkwoGku9LT",
        "colab_type": "text"
      },
      "source": [
        "**Listing 10.12:** index3.tpl: template for indextemplate3.py"
      ]
    },
    {
      "cell_type": "code",
      "metadata": {
        "colab_type": "code",
        "id": "sKrKhNkkNUvy",
        "colab": {}
      },
      "source": [
        "get_ipython().system_raw('./ngrok http 8000 &')"
      ],
      "execution_count": null,
      "outputs": []
    },
    {
      "cell_type": "code",
      "metadata": {
        "colab_type": "code",
        "id": "GztFPrpcNWfM",
        "colab": {}
      },
      "source": [
        "%%sh\n",
        "curl -s http://localhost:4040/api/tunnels | python -c \"import sys, json; print(json.load(sys.stdin)['tunnels'][0]['public_url'])\""
      ],
      "execution_count": null,
      "outputs": []
    },
    {
      "cell_type": "code",
      "metadata": {
        "colab_type": "code",
        "id": "VvpDt_DuNX-i",
        "colab": {}
      },
      "source": [
        "!python indextemplate3.py"
      ],
      "execution_count": null,
      "outputs": []
    },
    {
      "cell_type": "markdown",
      "metadata": {
        "colab_type": "text",
        "id": "Zp2nMzncvO4o"
      },
      "source": [
        "Access URL(for URL Listing 10.11 and 10.12)\n",
        "\n",
        "ex https://xxxxxx.ngrok.io/greets/Denis\n",
        "\n",
        "ex https://xxxxxx.ngrok.io/greets/123Denis"
      ]
    },
    {
      "cell_type": "markdown",
      "metadata": {
        "colab_type": "text",
        "id": "kaxCAI2AvNFf"
      },
      "source": [
        "**Stop the server Press stop botton 2 upper cell**\n",
        "\n",
        "Left of *!python indextemplate3.py*\n",
        "\n",
        "Successfully stopped there is `^C`"
      ]
    },
    {
      "cell_type": "markdown",
      "metadata": {
        "id": "T99NUrxhwUNC",
        "colab_type": "text"
      },
      "source": [
        "## Web Program to Calculate the Net Charge of a Protein (Bottle Version)"
      ]
    },
    {
      "cell_type": "markdown",
      "metadata": {
        "id": "Amw3M-gHwaTc",
        "colab_type": "text"
      },
      "source": [
        "**Listing 10.13:** protchargebottle.py: Back-end of the program to calculate the\n",
        "net charge of a protein using Bottle"
      ]
    },
    {
      "cell_type": "markdown",
      "metadata": {
        "id": "viVi_d9mwc5A",
        "colab_type": "text"
      },
      "source": [
        "**Listing 10.14:** result.html: Template for showing the result of method\n",
        "protcharge"
      ]
    },
    {
      "cell_type": "code",
      "metadata": {
        "colab_type": "code",
        "id": "QsNWo7OyO-0r",
        "colab": {}
      },
      "source": [
        "get_ipython().system_raw('./ngrok http 8000 &')"
      ],
      "execution_count": null,
      "outputs": []
    },
    {
      "cell_type": "code",
      "metadata": {
        "colab_type": "code",
        "id": "4sBwQmOxPByI",
        "colab": {}
      },
      "source": [
        "%%sh\n",
        "curl -s http://localhost:4040/api/tunnels | python -c \"import sys, json; print(json.load(sys.stdin)['tunnels'][0]['public_url'])\""
      ],
      "execution_count": null,
      "outputs": []
    },
    {
      "cell_type": "code",
      "metadata": {
        "colab_type": "code",
        "id": "lqVhOM57PEJg",
        "colab": {}
      },
      "source": [
        "!python protchargebottle.py"
      ],
      "execution_count": null,
      "outputs": []
    },
    {
      "cell_type": "markdown",
      "metadata": {
        "colab_type": "text",
        "id": "_Se3LsIFwzBw"
      },
      "source": [
        "Access URL(same for Listing 10.13 and 10.14)\n",
        "\n",
        "ex https://xxxxxx.ngrok.io/\n",
        "\n",
        "Sample Data: MARLQTALLVVLVLLAVALQATEAGPYGANMEDSVCCRDYVRYRLPLRVVKHFYWTSDSCPRPGVVLLTFRDKEICADPRVPWVKMILNKLSQ\n"
      ]
    },
    {
      "cell_type": "markdown",
      "metadata": {
        "colab_type": "text",
        "id": "AtsNuzN9w1bt"
      },
      "source": [
        "**Stop the server Press stop botton 2 upper cell**\n",
        "\n",
        "Left of *!python protchargebottle.py*\n",
        "\n",
        "Successfully stopped there is `^C`"
      ]
    }
  ]
}