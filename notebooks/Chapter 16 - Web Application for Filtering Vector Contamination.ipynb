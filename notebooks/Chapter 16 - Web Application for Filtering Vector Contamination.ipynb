{
  "nbformat": 4,
  "nbformat_minor": 0,
  "metadata": {
    "kernelspec": {
      "display_name": "Python 3.6",
      "language": "python",
      "name": "python36"
    },
    "language_info": {
      "codemirror_mode": {
        "name": "ipython",
        "version": 3
      },
      "file_extension": ".py",
      "mimetype": "text/x-python",
      "name": "python",
      "nbconvert_exporter": "python",
      "pygments_lexer": "ipython3",
      "version": "3.6.0"
    },
    "colab": {
      "name": "Chapter 16 - Web Application for Filtering Vector Contamination.ipynb",
      "provenance": []
    }
  },
  "cells": [
    {
      "cell_type": "markdown",
      "metadata": {
        "id": "qpqLt4RT6LI-",
        "colab_type": "text"
      },
      "source": [
        "Python for Bioinformatics\n",
        "-----------------------------\n",
        "\n",
        "![title](https://s3.amazonaws.com/py4bio/tapabiosmall.png)\n",
        "\n",
        "This Jupyter notebook is intented to be used alongside the book [Python for Bioinformatics](http://py3.us/)\n",
        "\n"
      ]
    },
    {
      "cell_type": "markdown",
      "metadata": {
        "collapsed": true,
        "id": "3hgpAmm46LJA",
        "colab_type": "text"
      },
      "source": [
        "Chapter 16: Web Application for Filtering Vector Contamination\n",
        "-----------------------------"
      ]
    },
    {
      "cell_type": "code",
      "metadata": {
        "id": "unaNJNLl6OxK",
        "colab_type": "code",
        "colab": {}
      },
      "source": [
        "!pip install bottle"
      ],
      "execution_count": 0,
      "outputs": []
    },
    {
      "cell_type": "code",
      "metadata": {
        "id": "tYOxZyjd97TI",
        "colab_type": "code",
        "colab": {}
      },
      "source": [
        "!pip install biopython"
      ],
      "execution_count": 0,
      "outputs": []
    },
    {
      "cell_type": "code",
      "metadata": {
        "id": "hBkX7omt_D6-",
        "colab_type": "code",
        "colab": {}
      },
      "source": [
        "!apt-get install ncbi-blast+"
      ],
      "execution_count": 0,
      "outputs": []
    },
    {
      "cell_type": "code",
      "metadata": {
        "id": "akE_9R1h6d46",
        "colab_type": "code",
        "colab": {}
      },
      "source": [
        "!wget https://bin.equinox.io/c/4VmDzA7iaHb/ngrok-stable-linux-amd64.zip"
      ],
      "execution_count": 0,
      "outputs": []
    },
    {
      "cell_type": "code",
      "metadata": {
        "id": "-qqlbVpp6kSa",
        "colab_type": "code",
        "colab": {}
      },
      "source": [
        "!unzip ngrok-stable-linux-amd64.zip"
      ],
      "execution_count": 0,
      "outputs": []
    },
    {
      "cell_type": "code",
      "metadata": {
        "id": "nLc9QYkm6oYH",
        "colab_type": "code",
        "colab": {}
      },
      "source": [
        "!wget https://github.com/Serulab/Py4Bio/archive/master.zip"
      ],
      "execution_count": 0,
      "outputs": []
    },
    {
      "cell_type": "code",
      "metadata": {
        "id": "PCgf42Y16rzv",
        "colab_type": "code",
        "colab": {}
      },
      "source": [
        "!unzip master.zip"
      ],
      "execution_count": 0,
      "outputs": []
    },
    {
      "cell_type": "code",
      "metadata": {
        "id": "7F6uBTpS7LHT",
        "colab_type": "code",
        "colab": {}
      },
      "source": [
        "!cp -r Py4Bio-master/code/ch16/* ./"
      ],
      "execution_count": 0,
      "outputs": []
    },
    {
      "cell_type": "code",
      "metadata": {
        "id": "tF0A2q2y-z4D",
        "colab_type": "code",
        "colab": {}
      },
      "source": [
        "!sed -i \"s/port=8080/port=8888/\" ./vector.py"
      ],
      "execution_count": 0,
      "outputs": []
    },
    {
      "cell_type": "code",
      "metadata": {
        "id": "sbpcusN6DIiQ",
        "colab_type": "code",
        "colab": {}
      },
      "source": [
        "!sed -i \"s%/home/sbassi/opt/ncbi-blast-2.6.0+/bin/blastn%/usr/bin/blastn%g\" ./vector.py"
      ],
      "execution_count": 0,
      "outputs": []
    },
    {
      "cell_type": "code",
      "metadata": {
        "id": "bTrN1Wls7Sro",
        "colab_type": "code",
        "colab": {}
      },
      "source": [
        "get_ipython().system_raw('./ngrok http 8888 &')"
      ],
      "execution_count": 0,
      "outputs": []
    },
    {
      "cell_type": "code",
      "metadata": {
        "id": "02ulGJsE7YiA",
        "colab_type": "code",
        "colab": {}
      },
      "source": [
        "%%sh\n",
        "curl -s http://localhost:4040/api/tunnels | python -c \"import sys, json; print(json.load(sys.stdin)['tunnels'][0]['public_url'])\""
      ],
      "execution_count": 0,
      "outputs": []
    },
    {
      "cell_type": "code",
      "metadata": {
        "id": "bzgnwO8R7p1Q",
        "colab_type": "code",
        "colab": {}
      },
      "source": [
        "!rm ./bottle.py"
      ],
      "execution_count": 0,
      "outputs": []
    },
    {
      "cell_type": "code",
      "metadata": {
        "id": "MVEXpEdU76n8",
        "colab_type": "code",
        "colab": {}
      },
      "source": [
        "!python ./vector.py"
      ],
      "execution_count": 0,
      "outputs": []
    },
    {
      "cell_type": "code",
      "metadata": {
        "id": "mAhaVH50FYOC",
        "colab_type": "code",
        "colab": {}
      },
      "source": [
        ""
      ],
      "execution_count": 0,
      "outputs": []
    }
  ]
}
