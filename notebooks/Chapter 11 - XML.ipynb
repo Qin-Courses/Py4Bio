{
  "nbformat": 4,
  "nbformat_minor": 0,
  "metadata": {
    "kernelspec": {
      "display_name": "Python 3.6",
      "language": "python",
      "name": "python36"
    },
    "language_info": {
      "codemirror_mode": {
        "name": "ipython",
        "version": 3
      },
      "file_extension": ".py",
      "mimetype": "text/x-python",
      "name": "python",
      "nbconvert_exporter": "python",
      "pygments_lexer": "ipython3",
      "version": "3.6.0"
    },
    "colab": {
      "name": "Chapter 11 - XML.ipynb",
      "provenance": []
    }
  },
  "cells": [
    {
      "cell_type": "markdown",
      "metadata": {
        "collapsed": true,
        "id": "6cPCi1cl2ZQL",
        "colab_type": "text"
      },
      "source": [
        "Python for Bioinformatics\n",
        "-----------------------------\n",
        "\n",
        "![title](https://s3.amazonaws.com/py4bio/tapabiosmall.png)\n",
        "\n",
        "This Jupyter notebook is intented to be used alongside the book [Python for Bioinformatics](http://py3.us/)\n",
        "\n"
      ]
    },
    {
      "cell_type": "markdown",
      "metadata": {
        "id": "FZ7y5ndX2ZQN",
        "colab_type": "text"
      },
      "source": [
        "**Note:** Before opening the file, this file should be accesible from this Jupyter notebook. In order to do so, the following commands will download these files from Github and extract them into a directory called samples."
      ]
    },
    {
      "cell_type": "markdown",
      "metadata": {
        "id": "2rjybMZU2ZQN",
        "colab_type": "text"
      },
      "source": [
        "Chapter 11: XML\n",
        "-----------------------------"
      ]
    },
    {
      "cell_type": "code",
      "metadata": {
        "id": "e4r_lcBn2ZQO",
        "colab_type": "code",
        "colab": {
          "base_uri": "https://localhost:8080/",
          "height": 1000
        },
        "outputId": "3250b38e-3985-4fd2-f0a1-25d736fc2c43"
      },
      "source": [
        "!curl https://raw.githubusercontent.com/Serulab/Py4Bio/master/samples/samples.tar.bz2 -o samples.tar.bz2\n",
        "!mkdir samples\n",
        "!tar xvfj samples.tar.bz2 -C samples"
      ],
      "execution_count": 1,
      "outputs": [
        {
          "output_type": "stream",
          "text": [
            "  % Total    % Received % Xferd  Average Speed   Time    Time     Time  Current\n",
            "                                 Dload  Upload   Total   Spent    Left  Speed\n",
            "100 16.5M  100 16.5M    0     0  10.5M      0  0:00:01  0:00:01 --:--:-- 10.5M\n",
            "._.\n",
            "./\n",
            "./vectorssmall.fasta\n",
            "./prot.fas\n",
            "./conglycinin.phy\n",
            "./input4align.dnd\n",
            "./Q5R5X8.fas\n",
            "./Q9JJE1.xml\n",
            "./primers.txt\n",
            "./NC_006581.gb\n",
            "./PythonU.db\n",
            "./hsc1.fasta\n",
            "./B1.csv\n",
            "./sampleXblast.xml\n",
            "./sampledata.xlsx\n",
            "./NC2033.txt\n",
            "./conglycinin.dnd\n",
            "./BLAST_output.xml\n",
            "./UniVec_Core.nhr\n",
            "./seqA.fas\n",
            "./fishdata.csv\n",
            "./template\n",
            "./pdbaa\n",
            "./bioinfo/\n",
            "./fishbacteria.csv\n",
            "./B1IXL9.txt\n",
            "./._GSM188012.CEL\n",
            "./GSM188012.CEL\n",
            "./example.aln\n",
            "./data.csv\n",
            "./3seqs.fas\n",
            "./BcrA.gp\n",
            "./uniprotrecord.xml\n",
            "./contig1.ace\n",
            "./other.xml\n",
            "./UniVec_Core.nsq\n",
            "./test3.csv\n",
            "./conglycinin.multiple.phy\n",
            "./fasta22.fas\n",
            "./pMOSBlue.txt\n",
            "./readme.txt\n",
            "./sampleX.fas\n",
            "./UniVec_Core.nin\n",
            "./pdb1apk.ent.gz\n",
            "./cas9align.fasta\n",
            "./a19.gp\n",
            "./phd1\n",
            "./t3beta.fasta\n",
            "./conglycinin.fasta\n",
            "./UniVec_Core\n",
            "./BLAST_output.html\n",
            "./spfile.txt\n",
            "./input4align.fasta\n",
            "./t3.fasta\n",
            "./TAIR7_Transcripts_by_map_position.gz\n",
            "./bioinfo/seqs/\n",
            "./bioinfo/seqs/513710.fasta\n",
            "./bioinfo/seqs/6598312.fasta\n",
            "./bioinfo/seqs/4586830.fasta\n",
            "./bioinfo/seqs/15721870.fasta\n",
            "./bioinfo/seqs/2623545.fasta\n",
            "./bioinfo/seqs/218744616.fasta\n",
            "./bioinfo/seqs/7415878.fasta\n",
            "./bioinfo/seqs/63108399.fasta\n",
            "./bioinfo/seqs/513717.fasta\n",
            "./bioinfo/seqs/7638455.fasta\n",
            "./bioinfo/seqs/513719.fasta\n",
            "./bioinfo/seqs/513419.fasta\n",
            "./bioinfo/seqs/513718.fasta\n"
          ],
          "name": "stdout"
        }
      ]
    },
    {
      "cell_type": "markdown",
      "metadata": {
        "id": "VVzqDjTw2ZQS",
        "colab_type": "text"
      },
      "source": [
        "**SAX: cElementTree Iterparse**"
      ]
    },
    {
      "cell_type": "code",
      "metadata": {
        "id": "Q8nMgXeX2ZQS",
        "colab_type": "code",
        "colab": {
          "base_uri": "https://localhost:8080/",
          "height": 221
        },
        "outputId": "2514ab24-42e0-41a8-a177-ac11046e027b"
      },
      "source": [
        "import xml.etree.cElementTree as cET\n",
        "for event, elem in cET.iterparse('samples/uniprotrecord.xml',\n",
        "events=('start', 'end')):\n",
        "    if event=='end' and 'sequence' in elem.tag:\n",
        "        print('Sequence: {0}'.format(elem.text))\n",
        "        print('Checksum: {0}'.format(elem.attrib[\"checksum\"]))\n",
        "        print('Length: {0}'.format(elem.attrib[\"length\"]))\n",
        "        elem.clear()"
      ],
      "execution_count": 2,
      "outputs": [
        {
          "output_type": "stream",
          "text": [
            "Sequence: \n",
            "MPKKKPTPIQLNPAPDGSAVNGTSSAETNLEALQKKLEELELDEQQRKRL\n",
            "EAFLTQKQKVGELKDDDFEKISELGAGNGGVVFKVSHKPSGLVMARKLIH\n",
            "LEIKPAIRNQIIRELQVLHECNSPYIVGFYGAFYSDGEISICMEHMDGGS\n",
            "LDQVLKKAGRIPEQILGKVSIAVIKGLTYLREKHKIMHRDVKPSNILVNS\n",
            "RGEIKLCDFGVSGQLIDSMANSFVGTRSYMSPERLQGTHYSVQSDIWSMG\n",
            "LSLVEMAVGRYPIPPPDAKELELLFGCHVEGDAAETPPRPRTPGGPLSSY\n",
            "GMDSRPPMAIFELLDYIVNEPPPKLPSGVFSLEFQDFVNKCLIKNPAERA\n",
            "DLKQLMVHAFIKRSDAEEVDFAGWLCSTIGLNQPSTPTHAASI\n",
            "\n",
            "Checksum: E0C0CC2E1F189B8A\n",
            "Length: 393\n"
          ],
          "name": "stdout"
        }
      ]
    },
    {
      "cell_type": "code",
      "metadata": {
        "id": "qTkPMxkp2ZQU",
        "colab_type": "code",
        "colab": {
          "base_uri": "https://localhost:8080/",
          "height": 221
        },
        "outputId": "9fa2a3e6-40ae-41c0-bef4-8436d61d1f56"
      },
      "source": [
        "for event, elem in cET.iterparse('samples/uniprotrecord.xml'):\n",
        "    if 'sequence' in elem.tag:\n",
        "        print('Sequence: {0}'.format(elem.text))\n",
        "        print('Checksum: {0}'.format(elem.attrib[\"checksum\"]))\n",
        "        print('Length: {0}'.format(elem.attrib[\"length\"]))\n",
        "        elem.clear()"
      ],
      "execution_count": 3,
      "outputs": [
        {
          "output_type": "stream",
          "text": [
            "Sequence: \n",
            "MPKKKPTPIQLNPAPDGSAVNGTSSAETNLEALQKKLEELELDEQQRKRL\n",
            "EAFLTQKQKVGELKDDDFEKISELGAGNGGVVFKVSHKPSGLVMARKLIH\n",
            "LEIKPAIRNQIIRELQVLHECNSPYIVGFYGAFYSDGEISICMEHMDGGS\n",
            "LDQVLKKAGRIPEQILGKVSIAVIKGLTYLREKHKIMHRDVKPSNILVNS\n",
            "RGEIKLCDFGVSGQLIDSMANSFVGTRSYMSPERLQGTHYSVQSDIWSMG\n",
            "LSLVEMAVGRYPIPPPDAKELELLFGCHVEGDAAETPPRPRTPGGPLSSY\n",
            "GMDSRPPMAIFELLDYIVNEPPPKLPSGVFSLEFQDFVNKCLIKNPAERA\n",
            "DLKQLMVHAFIKRSDAEEVDFAGWLCSTIGLNQPSTPTHAASI\n",
            "\n",
            "Checksum: E0C0CC2E1F189B8A\n",
            "Length: 393\n"
          ],
          "name": "stdout"
        }
      ]
    },
    {
      "cell_type": "code",
      "metadata": {
        "id": "lT89OmRM2ZQX",
        "colab_type": "code",
        "colab": {}
      },
      "source": [
        "allelements = cET.iterparse('samples/uniprotrecord.xml', events=('start','end'))\n",
        "allelements = iter(allelements)\n",
        "event, root = next(allelements)"
      ],
      "execution_count": 4,
      "outputs": []
    },
    {
      "cell_type": "code",
      "metadata": {
        "id": "fo9FaEDP2ZQZ",
        "colab_type": "code",
        "colab": {
          "base_uri": "https://localhost:8080/",
          "height": 187
        },
        "outputId": "a58c2509-07f1-4ced-f17c-c5a1056ee73e"
      },
      "source": [
        "for event, elem in allelements:\n",
        "    if event=='end' and 'sequence' in elem.tag:\n",
        "        print(elem.text)\n",
        "        root.clear()"
      ],
      "execution_count": 5,
      "outputs": [
        {
          "output_type": "stream",
          "text": [
            "\n",
            "MPKKKPTPIQLNPAPDGSAVNGTSSAETNLEALQKKLEELELDEQQRKRL\n",
            "EAFLTQKQKVGELKDDDFEKISELGAGNGGVVFKVSHKPSGLVMARKLIH\n",
            "LEIKPAIRNQIIRELQVLHECNSPYIVGFYGAFYSDGEISICMEHMDGGS\n",
            "LDQVLKKAGRIPEQILGKVSIAVIKGLTYLREKHKIMHRDVKPSNILVNS\n",
            "RGEIKLCDFGVSGQLIDSMANSFVGTRSYMSPERLQGTHYSVQSDIWSMG\n",
            "LSLVEMAVGRYPIPPPDAKELELLFGCHVEGDAAETPPRPRTPGGPLSSY\n",
            "GMDSRPPMAIFELLDYIVNEPPPKLPSGVFSLEFQDFVNKCLIKNPAERA\n",
            "DLKQLMVHAFIKRSDAEEVDFAGWLCSTIGLNQPSTPTHAASI\n",
            "\n"
          ],
          "name": "stdout"
        }
      ]
    },
    {
      "cell_type": "code",
      "metadata": {
        "id": "qvlFkDD_2ZQb",
        "colab_type": "code",
        "colab": {}
      },
      "source": [
        "from bs4 import BeautifulSoup as bs\n",
        "soup = bs(open('samples/uniprotrecord.xml'), 'lxml')"
      ],
      "execution_count": 6,
      "outputs": []
    },
    {
      "cell_type": "code",
      "metadata": {
        "id": "W6fzRaMY2ZQd",
        "colab_type": "code",
        "colab": {}
      },
      "source": [
        "import requests\n",
        "url = 'https://s3.amazonaws.com/py4bio/uniprotrecord.xml'\n",
        "req = requests.get(url)\n",
        "c = req.content"
      ],
      "execution_count": 7,
      "outputs": []
    },
    {
      "cell_type": "code",
      "metadata": {
        "id": "FbHlUwv42ZQf",
        "colab_type": "code",
        "colab": {}
      },
      "source": [
        "from bs4 import BeautifulSoup as bs\n",
        "soup = bs(c, 'lxml')"
      ],
      "execution_count": 8,
      "outputs": []
    },
    {
      "cell_type": "code",
      "metadata": {
        "id": "CjZCtm4a2ZQh",
        "colab_type": "code",
        "colab": {
          "base_uri": "https://localhost:8080/",
          "height": 187
        },
        "outputId": "ce2dc30d-009f-455f-c205-e36e6ab141c2"
      },
      "source": [
        "soup.sequence"
      ],
      "execution_count": 9,
      "outputs": [
        {
          "output_type": "execute_result",
          "data": {
            "text/plain": [
              "<sequence checksum=\"E0C0CC2E1F189B8A\" length=\"393\">\n",
              "MPKKKPTPIQLNPAPDGSAVNGTSSAETNLEALQKKLEELELDEQQRKRL\n",
              "EAFLTQKQKVGELKDDDFEKISELGAGNGGVVFKVSHKPSGLVMARKLIH\n",
              "LEIKPAIRNQIIRELQVLHECNSPYIVGFYGAFYSDGEISICMEHMDGGS\n",
              "LDQVLKKAGRIPEQILGKVSIAVIKGLTYLREKHKIMHRDVKPSNILVNS\n",
              "RGEIKLCDFGVSGQLIDSMANSFVGTRSYMSPERLQGTHYSVQSDIWSMG\n",
              "LSLVEMAVGRYPIPPPDAKELELLFGCHVEGDAAETPPRPRTPGGPLSSY\n",
              "GMDSRPPMAIFELLDYIVNEPPPKLPSGVFSLEFQDFVNKCLIKNPAERA\n",
              "DLKQLMVHAFIKRSDAEEVDFAGWLCSTIGLNQPSTPTHAASI\n",
              "</sequence>"
            ]
          },
          "metadata": {
            "tags": []
          },
          "execution_count": 9
        }
      ]
    },
    {
      "cell_type": "code",
      "metadata": {
        "id": "bOnKObNN2ZQj",
        "colab_type": "code",
        "colab": {
          "base_uri": "https://localhost:8080/",
          "height": 69
        },
        "outputId": "f61a00b4-77e0-4e11-8d7e-e0abb71ac31e"
      },
      "source": [
        "soup.sequence.string"
      ],
      "execution_count": 10,
      "outputs": [
        {
          "output_type": "execute_result",
          "data": {
            "application/vnd.google.colaboratory.intrinsic": {
              "type": "string"
            },
            "text/plain": [
              "'\\nMPKKKPTPIQLNPAPDGSAVNGTSSAETNLEALQKKLEELELDEQQRKRL\\nEAFLTQKQKVGELKDDDFEKISELGAGNGGVVFKVSHKPSGLVMARKLIH\\nLEIKPAIRNQIIRELQVLHECNSPYIVGFYGAFYSDGEISICMEHMDGGS\\nLDQVLKKAGRIPEQILGKVSIAVIKGLTYLREKHKIMHRDVKPSNILVNS\\nRGEIKLCDFGVSGQLIDSMANSFVGTRSYMSPERLQGTHYSVQSDIWSMG\\nLSLVEMAVGRYPIPPPDAKELELLFGCHVEGDAAETPPRPRTPGGPLSSY\\nGMDSRPPMAIFELLDYIVNEPPPKLPSGVFSLEFQDFVNKCLIKNPAERA\\nDLKQLMVHAFIKRSDAEEVDFAGWLCSTIGLNQPSTPTHAASI\\n'"
            ]
          },
          "metadata": {
            "tags": []
          },
          "execution_count": 10
        }
      ]
    },
    {
      "cell_type": "code",
      "metadata": {
        "id": "V43KIhoG2ZQl",
        "colab_type": "code",
        "colab": {
          "base_uri": "https://localhost:8080/",
          "height": 35
        },
        "outputId": "c73f5d89-7596-4ed8-d55f-12a4446b8061"
      },
      "source": [
        "soup.sequence.get('checksum')"
      ],
      "execution_count": 11,
      "outputs": [
        {
          "output_type": "execute_result",
          "data": {
            "application/vnd.google.colaboratory.intrinsic": {
              "type": "string"
            },
            "text/plain": [
              "'E0C0CC2E1F189B8A'"
            ]
          },
          "metadata": {
            "tags": []
          },
          "execution_count": 11
        }
      ]
    },
    {
      "cell_type": "code",
      "metadata": {
        "id": "Cc9Wciy22ZQn",
        "colab_type": "code",
        "colab": {
          "base_uri": "https://localhost:8080/",
          "height": 35
        },
        "outputId": "f74ebd62-8c1f-4cd3-deb4-df9939c1da6d"
      },
      "source": [
        "soup.sequence.get('length')"
      ],
      "execution_count": 12,
      "outputs": [
        {
          "output_type": "execute_result",
          "data": {
            "application/vnd.google.colaboratory.intrinsic": {
              "type": "string"
            },
            "text/plain": [
              "'393'"
            ]
          },
          "metadata": {
            "tags": []
          },
          "execution_count": 12
        }
      ]
    },
    {
      "cell_type": "code",
      "metadata": {
        "id": "-22ygns_2ZQp",
        "colab_type": "code",
        "colab": {
          "base_uri": "https://localhost:8080/",
          "height": 289
        },
        "outputId": "be85924c-dfda-4c78-d299-1a21d6ddf746"
      },
      "source": [
        "for taxon in soup.lineage.children:\n",
        "    if taxon.string != '\\n':\n",
        "        print(taxon.string)"
      ],
      "execution_count": 13,
      "outputs": [
        {
          "output_type": "stream",
          "text": [
            "Eukaryota\n",
            "Metazoa\n",
            "Chordata\n",
            "Craniata\n",
            "Vertebrata\n",
            "Euteleostomi\n",
            "Mammalia\n",
            "Eutheria\n",
            "Euarchontoglires\n",
            "Glires\n",
            "Rodentia\n",
            "Sciurognathi\n",
            "Muroidea\n",
            "Muridae\n",
            "Murinae\n",
            "Mus\n"
          ],
          "name": "stdout"
        }
      ]
    },
    {
      "cell_type": "code",
      "metadata": {
        "id": "-uAYG7la2ZQr",
        "colab_type": "code",
        "colab": {
          "base_uri": "https://localhost:8080/",
          "height": 187
        },
        "outputId": "c93b1104-2e24-4a49-bdd2-1803bc912a2f"
      },
      "source": [
        "print('Sequence: {0}'.format(soup.sequence.string))"
      ],
      "execution_count": 14,
      "outputs": [
        {
          "output_type": "stream",
          "text": [
            "Sequence: \n",
            "MPKKKPTPIQLNPAPDGSAVNGTSSAETNLEALQKKLEELELDEQQRKRL\n",
            "EAFLTQKQKVGELKDDDFEKISELGAGNGGVVFKVSHKPSGLVMARKLIH\n",
            "LEIKPAIRNQIIRELQVLHECNSPYIVGFYGAFYSDGEISICMEHMDGGS\n",
            "LDQVLKKAGRIPEQILGKVSIAVIKGLTYLREKHKIMHRDVKPSNILVNS\n",
            "RGEIKLCDFGVSGQLIDSMANSFVGTRSYMSPERLQGTHYSVQSDIWSMG\n",
            "LSLVEMAVGRYPIPPPDAKELELLFGCHVEGDAAETPPRPRTPGGPLSSY\n",
            "GMDSRPPMAIFELLDYIVNEPPPKLPSGVFSLEFQDFVNKCLIKNPAERA\n",
            "DLKQLMVHAFIKRSDAEEVDFAGWLCSTIGLNQPSTPTHAASI\n",
            "\n"
          ],
          "name": "stdout"
        }
      ]
    },
    {
      "cell_type": "code",
      "metadata": {
        "id": "ufYvAz0t2ZQt",
        "colab_type": "code",
        "colab": {
          "base_uri": "https://localhost:8080/",
          "height": 34
        },
        "outputId": "03dcd3cc-5b52-41f0-a1e6-e88c8acd6d26"
      },
      "source": [
        "print('Checksum: {0}'.format(soup.sequence.get('checksum')))"
      ],
      "execution_count": 15,
      "outputs": [
        {
          "output_type": "stream",
          "text": [
            "Checksum: E0C0CC2E1F189B8A\n"
          ],
          "name": "stdout"
        }
      ]
    },
    {
      "cell_type": "code",
      "metadata": {
        "id": "dfVGaRTp2ZQv",
        "colab_type": "code",
        "colab": {
          "base_uri": "https://localhost:8080/",
          "height": 34
        },
        "outputId": "119b281a-f9c5-4714-ce90-d53741ba78d1"
      },
      "source": [
        "print('Length: {0}'.format(soup.sequence.get('length')))"
      ],
      "execution_count": 16,
      "outputs": [
        {
          "output_type": "stream",
          "text": [
            "Length: 393\n"
          ],
          "name": "stdout"
        }
      ]
    }
  ]
}