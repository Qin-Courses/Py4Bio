{
  "nbformat": 4,
  "nbformat_minor": 0,
  "metadata": {
    "kernelspec": {
      "display_name": "Python 3.6",
      "language": "python",
      "name": "python36"
    },
    "language_info": {
      "codemirror_mode": {
        "name": "ipython",
        "version": 3
      },
      "file_extension": ".py",
      "mimetype": "text/x-python",
      "name": "python",
      "nbconvert_exporter": "python",
      "pygments_lexer": "ipython3",
      "version": "3.6.0"
    },
    "colab": {
      "name": "Chapter 18 - Calculating Melting Temperature from a Set of Primers.ipynb",
      "provenance": []
    }
  },
  "cells": [
    {
      "cell_type": "markdown",
      "metadata": {
        "collapsed": true,
        "id": "WKUj4mK5I00-",
        "colab_type": "text"
      },
      "source": [
        "Python for Bioinformatics\n",
        "-----------------------------\n",
        "\n",
        "![title](https://s3.amazonaws.com/py4bio/tapabiosmall.png)\n",
        "\n",
        "This Jupyter notebook is intented to be used alongside the book [Python for Bioinformatics](http://py3.us/)\n",
        "\n"
      ]
    },
    {
      "cell_type": "markdown",
      "metadata": {
        "id": "LTndTMGuI00_",
        "colab_type": "text"
      },
      "source": [
        "Chapter 18: Calculating Melting Temperature from a Set of Primers\n",
        "-----------------------------"
      ]
    },
    {
      "cell_type": "markdown",
      "metadata": {
        "id": "Mm2TCev0I01A",
        "colab_type": "text"
      },
      "source": [
        "**Note:** Before opening the file, this file should be accesible from this Jupyter notebook. In order to do so, the following commands will download these files from Github and extract them into a directory called samples."
      ]
    },
    {
      "cell_type": "code",
      "metadata": {
        "id": "TxOvUc_5JCpH",
        "colab_type": "code",
        "colab": {}
      },
      "source": [
        "!pip install biopython"
      ],
      "execution_count": 0,
      "outputs": []
    },
    {
      "cell_type": "code",
      "metadata": {
        "scrolled": true,
        "id": "IewSMTlEI01A",
        "colab_type": "code",
        "colab": {
          "base_uri": "https://localhost:8080/",
          "height": 1000
        },
        "outputId": "80bdd21f-ad1d-4eeb-9e07-ae015d0d42d7"
      },
      "source": [
        "!curl https://raw.githubusercontent.com/Serulab/Py4Bio/master/samples/samples.tar.bz2 -o samples.tar.bz2\n",
        "!mkdir samples\n",
        "!tar xvfj samples.tar.bz2 -C samples"
      ],
      "execution_count": 7,
      "outputs": [
        {
          "output_type": "stream",
          "text": [
            "  % Total    % Received % Xferd  Average Speed   Time    Time     Time  Current\n",
            "                                 Dload  Upload   Total   Spent    Left  Speed\n",
            "100 16.5M  100 16.5M    0     0  22.3M      0 --:--:-- --:--:-- --:--:-- 22.3M\n",
            "mkdir: cannot create directory ‘samples’: File exists\n",
            "._.\n",
            "./\n",
            "./vectorssmall.fasta\n",
            "./prot.fas\n",
            "./conglycinin.phy\n",
            "./input4align.dnd\n",
            "./Q5R5X8.fas\n",
            "./Q9JJE1.xml\n",
            "./primers.txt\n",
            "./NC_006581.gb\n",
            "./PythonU.db\n",
            "./hsc1.fasta\n",
            "./B1.csv\n",
            "./sampleXblast.xml\n",
            "./sampledata.xlsx\n",
            "./NC2033.txt\n",
            "./conglycinin.dnd\n",
            "./BLAST_output.xml\n",
            "./UniVec_Core.nhr\n",
            "./seqA.fas\n",
            "./fishdata.csv\n",
            "./template\n",
            "./pdbaa\n",
            "./bioinfo/\n",
            "./fishbacteria.csv\n",
            "./B1IXL9.txt\n",
            "./._GSM188012.CEL\n",
            "./GSM188012.CEL\n",
            "./example.aln\n",
            "./data.csv\n",
            "./3seqs.fas\n",
            "./BcrA.gp\n",
            "./uniprotrecord.xml\n",
            "./contig1.ace\n",
            "./other.xml\n",
            "./UniVec_Core.nsq\n",
            "./test3.csv\n",
            "./conglycinin.multiple.phy\n",
            "./fasta22.fas\n",
            "./pMOSBlue.txt\n",
            "./readme.txt\n",
            "./sampleX.fas\n",
            "./UniVec_Core.nin\n",
            "./pdb1apk.ent.gz\n",
            "./cas9align.fasta\n",
            "./a19.gp\n",
            "./phd1\n",
            "./t3beta.fasta\n",
            "./conglycinin.fasta\n",
            "./UniVec_Core\n",
            "./BLAST_output.html\n",
            "./spfile.txt\n",
            "./input4align.fasta\n",
            "./t3.fasta\n",
            "./TAIR7_Transcripts_by_map_position.gz\n",
            "./bioinfo/seqs/\n",
            "./bioinfo/seqs/513710.fasta\n",
            "./bioinfo/seqs/6598312.fasta\n",
            "./bioinfo/seqs/4586830.fasta\n",
            "./bioinfo/seqs/15721870.fasta\n",
            "./bioinfo/seqs/2623545.fasta\n",
            "./bioinfo/seqs/218744616.fasta\n",
            "./bioinfo/seqs/7415878.fasta\n",
            "./bioinfo/seqs/63108399.fasta\n",
            "./bioinfo/seqs/513717.fasta\n",
            "./bioinfo/seqs/7638455.fasta\n",
            "./bioinfo/seqs/513719.fasta\n",
            "./bioinfo/seqs/513419.fasta\n",
            "./bioinfo/seqs/513718.fasta\n"
          ],
          "name": "stdout"
        }
      ]
    },
    {
      "cell_type": "markdown",
      "metadata": {
        "id": "5JXMaOEtI01E",
        "colab_type": "text"
      },
      "source": [
        "**Listing 18.1:** fromtxt.py: Primer Tm calculation"
      ]
    },
    {
      "cell_type": "code",
      "metadata": {
        "id": "zDqVACtOI01F",
        "colab_type": "code",
        "colab": {
          "base_uri": "https://localhost:8080/",
          "height": 173
        },
        "outputId": "1eb86816-cc7f-453d-b8e0-03a0ae098f5d"
      },
      "source": [
        "from Bio.SeqUtils import MeltingTemp as MT\n",
        "\n",
        "PRIMER_FILE = 'samples/primers.txt'\n",
        "for line in open(PRIMER_FILE):\n",
        "    # prm stores the primer, without 5'- and -3'\n",
        "    prm = line[3:len(line)-4].replace(' ','')\n",
        "    # .2f is used to print up to 2 decimals.\n",
        "    print('{0},{1:.2f}'.format(prm, MT.Tm_staluc(prm)))"
      ],
      "execution_count": 8,
      "outputs": [
        {
          "output_type": "stream",
          "text": [
            "TCTAGAACTAGTGGATC,39.49\n",
            "GTTTTCCCAGTCACGACG,50.57\n",
            "CGATTTAGGTGACACTATAG,44.66\n",
            "CAGGAAACAGCTATGACC,46.73\n",
            "GTGTGGAATTGTGAGCGG,50.87\n",
            "TGTAAAACGACGGCCAGT,51.14\n",
            "CGAGGTCGACGGTATCG,51.20\n",
            "TAATACGACTCACTATAGGG,44.59\n",
            "GCGCAATTAACCCTCACTAAAG,52.25\n"
          ],
          "name": "stdout"
        }
      ]
    },
    {
      "cell_type": "markdown",
      "metadata": {
        "id": "Ny-Bcf_gI01I",
        "colab_type": "text"
      },
      "source": [
        "**Listing 18.2:** toexcel.py: Primer Tm calculation, Excel output"
      ]
    },
    {
      "cell_type": "code",
      "metadata": {
        "id": "T5xCeKPKI01I",
        "colab_type": "code",
        "colab": {}
      },
      "source": [
        "from Bio.SeqUtils import MeltingTemp as MT\n",
        "import xlwt\n",
        "\n",
        "PRIMER_FILE = 'samples/primers.txt'\n",
        "# w is the name of a newly created workbook.\n",
        "w = xlwt.Workbook()\n",
        "# ws is the name of a new sheet in this workbook.\n",
        "ws = w.add_sheet('Result')\n",
        "# These two lines writes the titles of the columns.\n",
        "ws.write(0, 0, 'Primer Sequence')\n",
        "ws.write(0, 1, 'Tm')\n",
        "for index, line in enumerate(open(PRIMER_FILE)):\n",
        "    # For each line in the input file, write the primer\n",
        "    # sequence and the Tm\n",
        "    prm = line[3:len(line)-4].replace(' ','')\n",
        "    ws.write(index+1, 0, prm)\n",
        "    ws.write(index+1, 1, '{0:.2f}'.format(MT.Tm_staluc(prm)))\n",
        "# Save the spreadsheel into a file.\n",
        "w.save('primerout.xls')"
      ],
      "execution_count": 0,
      "outputs": []
    },
    {
      "cell_type": "code",
      "metadata": {
        "id": "9SPAIwnoJI_R",
        "colab_type": "code",
        "colab": {}
      },
      "source": [
        ""
      ],
      "execution_count": 0,
      "outputs": []
    }
  ]
}
